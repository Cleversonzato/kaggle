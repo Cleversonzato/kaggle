{
 "cells": [
  {
   "cell_type": "code",
   "execution_count": 445,
   "metadata": {},
   "outputs": [],
   "source": [
    "import numpy as np\n",
    "import pandas as pd\n",
    "import matplotlib.pyplot as plt\n",
    "import tensorflow as tf\n",
    "from tensorflow.keras import datasets, layers, models, losses, callbacks"
   ]
  },
  {
   "cell_type": "code",
   "execution_count": 446,
   "metadata": {},
   "outputs": [],
   "source": [
    "PASTA_FOURIER = \"data/fourier/\"\n",
    "MODEL_NAME = 'segundo_treino.keras'"
   ]
  },
  {
   "cell_type": "code",
   "execution_count": 447,
   "metadata": {},
   "outputs": [],
   "source": [
    "def parse_data(example):\n",
    "    parsed = tf.io.parse_sequence_example(example,  {\n",
    "        \"label\": tf.io.FixedLenFeature(shape=7, dtype=tf.float32),\n",
    "        \"data\" : tf.io.FixedLenFeature(shape=(20,100,2), dtype=tf.float32)\n",
    "    })\n",
    "\n",
    "    return parsed[0][\"data\"], parsed[0][\"label\"]"
   ]
  },
  {
   "cell_type": "code",
   "execution_count": 448,
   "metadata": {},
   "outputs": [],
   "source": [
    "def get_dataset(filenames):\n",
    "    dataset = tf.data.TFRecordDataset(filenames).map(parse_data, num_parallel_calls=tf.data.AUTOTUNE)\n",
    "    dataset = dataset.shuffle(buffer_size=8192)\n",
    "    dataset = dataset.prefetch(buffer_size=tf.data.AUTOTUNE)\n",
    "    dataset = dataset.batch(128)\n",
    "\n",
    "    return dataset"
   ]
  },
  {
   "cell_type": "code",
   "execution_count": 449,
   "metadata": {},
   "outputs": [],
   "source": [
    "# reg = tf.keras.regularizers.L1L2(l1=1, l2=1)\n",
    "# reg = tf.keras.regularizers.l1()\n",
    "# reg = tf.keras.regularizers.L2(l2=0.00000001)\n",
    "reg=None\n",
    "act = \"leaky_relu\"\n",
    "\n",
    "model = models.Sequential()\n",
    "model.add(layers.Conv2D(8, (2, 2), activation=act, kernel_regularizer=reg, input_shape=(20, 100, 2)))\n",
    "model.add(layers.MaxPooling2D((2, 10)))\n",
    "model.add(layers.Conv2D(16, (2, 2), activation=act, kernel_regularizer=reg))\n",
    "model.add(layers.MaxPooling2D((2, 2)))\n",
    "model.add(layers.Conv2D(32, (2, 2), activation=act, kernel_regularizer=reg))\n",
    "model.add(layers.MaxPooling2D((2, 2)))\n",
    "model.add(layers.Flatten())\n",
    "model.add(layers.Dense(32, activation=act, kernel_regularizer=reg))\n",
    "model.add(layers.Dense(7, activation='softmax'))\n",
    "\n",
    "# model=tf.keras.models.load_model(MODEL_NAME)\n"
   ]
  },
  {
   "cell_type": "code",
   "execution_count": 450,
   "metadata": {},
   "outputs": [
    {
     "data": {
      "text/html": [
       "<pre style=\"white-space:pre;overflow-x:auto;line-height:normal;font-family:Menlo,'DejaVu Sans Mono',consolas,'Courier New',monospace\"><span style=\"font-weight: bold\">Model: \"sequential_52\"</span>\n",
       "</pre>\n"
      ],
      "text/plain": [
       "\u001b[1mModel: \"sequential_52\"\u001b[0m\n"
      ]
     },
     "metadata": {},
     "output_type": "display_data"
    },
    {
     "data": {
      "text/html": [
       "<pre style=\"white-space:pre;overflow-x:auto;line-height:normal;font-family:Menlo,'DejaVu Sans Mono',consolas,'Courier New',monospace\">┏━━━━━━━━━━━━━━━━━━━━━━━━━━━━━━━━━┳━━━━━━━━━━━━━━━━━━━━━━━━┳━━━━━━━━━━━━━━━┓\n",
       "┃<span style=\"font-weight: bold\"> Layer (type)                    </span>┃<span style=\"font-weight: bold\"> Output Shape           </span>┃<span style=\"font-weight: bold\">       Param # </span>┃\n",
       "┡━━━━━━━━━━━━━━━━━━━━━━━━━━━━━━━━━╇━━━━━━━━━━━━━━━━━━━━━━━━╇━━━━━━━━━━━━━━━┩\n",
       "│ conv2d_135 (<span style=\"color: #0087ff; text-decoration-color: #0087ff\">Conv2D</span>)             │ (<span style=\"color: #00d7ff; text-decoration-color: #00d7ff\">None</span>, <span style=\"color: #00af00; text-decoration-color: #00af00\">19</span>, <span style=\"color: #00af00; text-decoration-color: #00af00\">99</span>, <span style=\"color: #00af00; text-decoration-color: #00af00\">8</span>)      │            <span style=\"color: #00af00; text-decoration-color: #00af00\">72</span> │\n",
       "├─────────────────────────────────┼────────────────────────┼───────────────┤\n",
       "│ max_pooling2d_133               │ (<span style=\"color: #00d7ff; text-decoration-color: #00d7ff\">None</span>, <span style=\"color: #00af00; text-decoration-color: #00af00\">9</span>, <span style=\"color: #00af00; text-decoration-color: #00af00\">9</span>, <span style=\"color: #00af00; text-decoration-color: #00af00\">8</span>)        │             <span style=\"color: #00af00; text-decoration-color: #00af00\">0</span> │\n",
       "│ (<span style=\"color: #0087ff; text-decoration-color: #0087ff\">MaxPooling2D</span>)                  │                        │               │\n",
       "├─────────────────────────────────┼────────────────────────┼───────────────┤\n",
       "│ conv2d_136 (<span style=\"color: #0087ff; text-decoration-color: #0087ff\">Conv2D</span>)             │ (<span style=\"color: #00d7ff; text-decoration-color: #00d7ff\">None</span>, <span style=\"color: #00af00; text-decoration-color: #00af00\">8</span>, <span style=\"color: #00af00; text-decoration-color: #00af00\">8</span>, <span style=\"color: #00af00; text-decoration-color: #00af00\">16</span>)       │           <span style=\"color: #00af00; text-decoration-color: #00af00\">528</span> │\n",
       "├─────────────────────────────────┼────────────────────────┼───────────────┤\n",
       "│ max_pooling2d_134               │ (<span style=\"color: #00d7ff; text-decoration-color: #00d7ff\">None</span>, <span style=\"color: #00af00; text-decoration-color: #00af00\">4</span>, <span style=\"color: #00af00; text-decoration-color: #00af00\">4</span>, <span style=\"color: #00af00; text-decoration-color: #00af00\">16</span>)       │             <span style=\"color: #00af00; text-decoration-color: #00af00\">0</span> │\n",
       "│ (<span style=\"color: #0087ff; text-decoration-color: #0087ff\">MaxPooling2D</span>)                  │                        │               │\n",
       "├─────────────────────────────────┼────────────────────────┼───────────────┤\n",
       "│ conv2d_137 (<span style=\"color: #0087ff; text-decoration-color: #0087ff\">Conv2D</span>)             │ (<span style=\"color: #00d7ff; text-decoration-color: #00d7ff\">None</span>, <span style=\"color: #00af00; text-decoration-color: #00af00\">3</span>, <span style=\"color: #00af00; text-decoration-color: #00af00\">3</span>, <span style=\"color: #00af00; text-decoration-color: #00af00\">32</span>)       │         <span style=\"color: #00af00; text-decoration-color: #00af00\">2,080</span> │\n",
       "├─────────────────────────────────┼────────────────────────┼───────────────┤\n",
       "│ max_pooling2d_135               │ (<span style=\"color: #00d7ff; text-decoration-color: #00d7ff\">None</span>, <span style=\"color: #00af00; text-decoration-color: #00af00\">1</span>, <span style=\"color: #00af00; text-decoration-color: #00af00\">1</span>, <span style=\"color: #00af00; text-decoration-color: #00af00\">32</span>)       │             <span style=\"color: #00af00; text-decoration-color: #00af00\">0</span> │\n",
       "│ (<span style=\"color: #0087ff; text-decoration-color: #0087ff\">MaxPooling2D</span>)                  │                        │               │\n",
       "├─────────────────────────────────┼────────────────────────┼───────────────┤\n",
       "│ flatten_49 (<span style=\"color: #0087ff; text-decoration-color: #0087ff\">Flatten</span>)            │ (<span style=\"color: #00d7ff; text-decoration-color: #00d7ff\">None</span>, <span style=\"color: #00af00; text-decoration-color: #00af00\">32</span>)             │             <span style=\"color: #00af00; text-decoration-color: #00af00\">0</span> │\n",
       "├─────────────────────────────────┼────────────────────────┼───────────────┤\n",
       "│ dense_132 (<span style=\"color: #0087ff; text-decoration-color: #0087ff\">Dense</span>)               │ (<span style=\"color: #00d7ff; text-decoration-color: #00d7ff\">None</span>, <span style=\"color: #00af00; text-decoration-color: #00af00\">32</span>)             │         <span style=\"color: #00af00; text-decoration-color: #00af00\">1,056</span> │\n",
       "├─────────────────────────────────┼────────────────────────┼───────────────┤\n",
       "│ dense_133 (<span style=\"color: #0087ff; text-decoration-color: #0087ff\">Dense</span>)               │ (<span style=\"color: #00d7ff; text-decoration-color: #00d7ff\">None</span>, <span style=\"color: #00af00; text-decoration-color: #00af00\">7</span>)              │           <span style=\"color: #00af00; text-decoration-color: #00af00\">231</span> │\n",
       "└─────────────────────────────────┴────────────────────────┴───────────────┘\n",
       "</pre>\n"
      ],
      "text/plain": [
       "┏━━━━━━━━━━━━━━━━━━━━━━━━━━━━━━━━━┳━━━━━━━━━━━━━━━━━━━━━━━━┳━━━━━━━━━━━━━━━┓\n",
       "┃\u001b[1m \u001b[0m\u001b[1mLayer (type)                   \u001b[0m\u001b[1m \u001b[0m┃\u001b[1m \u001b[0m\u001b[1mOutput Shape          \u001b[0m\u001b[1m \u001b[0m┃\u001b[1m \u001b[0m\u001b[1m      Param #\u001b[0m\u001b[1m \u001b[0m┃\n",
       "┡━━━━━━━━━━━━━━━━━━━━━━━━━━━━━━━━━╇━━━━━━━━━━━━━━━━━━━━━━━━╇━━━━━━━━━━━━━━━┩\n",
       "│ conv2d_135 (\u001b[38;5;33mConv2D\u001b[0m)             │ (\u001b[38;5;45mNone\u001b[0m, \u001b[38;5;34m19\u001b[0m, \u001b[38;5;34m99\u001b[0m, \u001b[38;5;34m8\u001b[0m)      │            \u001b[38;5;34m72\u001b[0m │\n",
       "├─────────────────────────────────┼────────────────────────┼───────────────┤\n",
       "│ max_pooling2d_133               │ (\u001b[38;5;45mNone\u001b[0m, \u001b[38;5;34m9\u001b[0m, \u001b[38;5;34m9\u001b[0m, \u001b[38;5;34m8\u001b[0m)        │             \u001b[38;5;34m0\u001b[0m │\n",
       "│ (\u001b[38;5;33mMaxPooling2D\u001b[0m)                  │                        │               │\n",
       "├─────────────────────────────────┼────────────────────────┼───────────────┤\n",
       "│ conv2d_136 (\u001b[38;5;33mConv2D\u001b[0m)             │ (\u001b[38;5;45mNone\u001b[0m, \u001b[38;5;34m8\u001b[0m, \u001b[38;5;34m8\u001b[0m, \u001b[38;5;34m16\u001b[0m)       │           \u001b[38;5;34m528\u001b[0m │\n",
       "├─────────────────────────────────┼────────────────────────┼───────────────┤\n",
       "│ max_pooling2d_134               │ (\u001b[38;5;45mNone\u001b[0m, \u001b[38;5;34m4\u001b[0m, \u001b[38;5;34m4\u001b[0m, \u001b[38;5;34m16\u001b[0m)       │             \u001b[38;5;34m0\u001b[0m │\n",
       "│ (\u001b[38;5;33mMaxPooling2D\u001b[0m)                  │                        │               │\n",
       "├─────────────────────────────────┼────────────────────────┼───────────────┤\n",
       "│ conv2d_137 (\u001b[38;5;33mConv2D\u001b[0m)             │ (\u001b[38;5;45mNone\u001b[0m, \u001b[38;5;34m3\u001b[0m, \u001b[38;5;34m3\u001b[0m, \u001b[38;5;34m32\u001b[0m)       │         \u001b[38;5;34m2,080\u001b[0m │\n",
       "├─────────────────────────────────┼────────────────────────┼───────────────┤\n",
       "│ max_pooling2d_135               │ (\u001b[38;5;45mNone\u001b[0m, \u001b[38;5;34m1\u001b[0m, \u001b[38;5;34m1\u001b[0m, \u001b[38;5;34m32\u001b[0m)       │             \u001b[38;5;34m0\u001b[0m │\n",
       "│ (\u001b[38;5;33mMaxPooling2D\u001b[0m)                  │                        │               │\n",
       "├─────────────────────────────────┼────────────────────────┼───────────────┤\n",
       "│ flatten_49 (\u001b[38;5;33mFlatten\u001b[0m)            │ (\u001b[38;5;45mNone\u001b[0m, \u001b[38;5;34m32\u001b[0m)             │             \u001b[38;5;34m0\u001b[0m │\n",
       "├─────────────────────────────────┼────────────────────────┼───────────────┤\n",
       "│ dense_132 (\u001b[38;5;33mDense\u001b[0m)               │ (\u001b[38;5;45mNone\u001b[0m, \u001b[38;5;34m32\u001b[0m)             │         \u001b[38;5;34m1,056\u001b[0m │\n",
       "├─────────────────────────────────┼────────────────────────┼───────────────┤\n",
       "│ dense_133 (\u001b[38;5;33mDense\u001b[0m)               │ (\u001b[38;5;45mNone\u001b[0m, \u001b[38;5;34m7\u001b[0m)              │           \u001b[38;5;34m231\u001b[0m │\n",
       "└─────────────────────────────────┴────────────────────────┴───────────────┘\n"
      ]
     },
     "metadata": {},
     "output_type": "display_data"
    },
    {
     "data": {
      "text/html": [
       "<pre style=\"white-space:pre;overflow-x:auto;line-height:normal;font-family:Menlo,'DejaVu Sans Mono',consolas,'Courier New',monospace\"><span style=\"font-weight: bold\"> Total params: </span><span style=\"color: #00af00; text-decoration-color: #00af00\">3,967</span> (15.50 KB)\n",
       "</pre>\n"
      ],
      "text/plain": [
       "\u001b[1m Total params: \u001b[0m\u001b[38;5;34m3,967\u001b[0m (15.50 KB)\n"
      ]
     },
     "metadata": {},
     "output_type": "display_data"
    },
    {
     "data": {
      "text/html": [
       "<pre style=\"white-space:pre;overflow-x:auto;line-height:normal;font-family:Menlo,'DejaVu Sans Mono',consolas,'Courier New',monospace\"><span style=\"font-weight: bold\"> Trainable params: </span><span style=\"color: #00af00; text-decoration-color: #00af00\">3,967</span> (15.50 KB)\n",
       "</pre>\n"
      ],
      "text/plain": [
       "\u001b[1m Trainable params: \u001b[0m\u001b[38;5;34m3,967\u001b[0m (15.50 KB)\n"
      ]
     },
     "metadata": {},
     "output_type": "display_data"
    },
    {
     "data": {
      "text/html": [
       "<pre style=\"white-space:pre;overflow-x:auto;line-height:normal;font-family:Menlo,'DejaVu Sans Mono',consolas,'Courier New',monospace\"><span style=\"font-weight: bold\"> Non-trainable params: </span><span style=\"color: #00af00; text-decoration-color: #00af00\">0</span> (0.00 B)\n",
       "</pre>\n"
      ],
      "text/plain": [
       "\u001b[1m Non-trainable params: \u001b[0m\u001b[38;5;34m0\u001b[0m (0.00 B)\n"
      ]
     },
     "metadata": {},
     "output_type": "display_data"
    }
   ],
   "source": [
    "model.summary()"
   ]
  },
  {
   "cell_type": "code",
   "execution_count": 451,
   "metadata": {},
   "outputs": [],
   "source": [
    "model.compile(\n",
    "    optimizer = tf.keras.optimizers.Adam(learning_rate=0.00001),\n",
    "    loss=tf.keras.losses.CategoricalCrossentropy()\n",
    ")"
   ]
  },
  {
   "cell_type": "code",
   "execution_count": 454,
   "metadata": {},
   "outputs": [],
   "source": [
    "validate = get_dataset( PASTA_FOURIER + 'data_0' ) \n",
    "# train = get_dataset( [PASTA_FOURIER + '1', PASTA_FOURIER + '2', PASTA_FOURIER + '3'] ) \n",
    "train = get_dataset( PASTA_FOURIER + 'data_0' ) "
   ]
  },
  {
   "cell_type": "markdown",
   "metadata": {},
   "source": []
  },
  {
   "cell_type": "markdown",
   "metadata": {},
   "source": []
  },
  {
   "cell_type": "code",
   "execution_count": 455,
   "metadata": {},
   "outputs": [
    {
     "name": "stdout",
     "output_type": "stream",
     "text": [
      "    469/Unknown \u001b[1m11s\u001b[0m 23ms/step - loss: 18.7671"
     ]
    },
    {
     "name": "stderr",
     "output_type": "stream",
     "text": [
      "2024-04-14 22:22:18.171251: W tensorflow/core/framework/local_rendezvous.cc:404] Local rendezvous is aborting with status: OUT_OF_RANGE: End of sequence\n",
      "\t [[{{node IteratorGetNext}}]]\n",
      "/usr/lib/python3.10/contextlib.py:153: UserWarning: Your input ran out of data; interrupting training. Make sure that your dataset or generator can generate at least `steps_per_epoch * epochs` batches. You may need to use the `.repeat()` function when building your dataset.\n",
      "  self.gen.throw(typ, value, traceback)\n"
     ]
    },
    {
     "name": "stdout",
     "output_type": "stream",
     "text": [
      "\u001b[1m470/470\u001b[0m \u001b[32m━━━━━━━━━━━━━━━━━━━━\u001b[0m\u001b[37m\u001b[0m \u001b[1m17s\u001b[0m 35ms/step - loss: 18.7373 - val_loss: 7.9672\n"
     ]
    },
    {
     "name": "stderr",
     "output_type": "stream",
     "text": [
      "2024-04-14 22:22:23.663556: W tensorflow/core/framework/local_rendezvous.cc:404] Local rendezvous is aborting with status: OUT_OF_RANGE: End of sequence\n",
      "\t [[{{node IteratorGetNext}}]]\n"
     ]
    }
   ],
   "source": [
    "history = model.fit(\n",
    "    train,\n",
    "    epochs=1,\n",
    "    # batch_size=10,\n",
    "    # steps_per_epoch=2700,\n",
    "    # shuffle=True,\n",
    "    validation_data = validate,\n",
    "    # validation_steps=100,\n",
    "    verbose= 1,\n",
    "    callbacks = [\n",
    "         callbacks.EarlyStopping(monitor=\"val_loss\", patience=2),\n",
    "         callbacks.ModelCheckpoint(MODEL_NAME, save_best_only = True)\n",
    "    ]\n",
    ")\n"
   ]
  },
  {
   "cell_type": "code",
   "execution_count": 456,
   "metadata": {},
   "outputs": [
    {
     "data": {
      "text/plain": [
       "<tf.Tensor: shape=(128, 7), dtype=float32, numpy=\n",
       "array([[2.88651676e-12, 1.63553547e-22, 1.05977004e-15, 7.07006358e-34,\n",
       "        9.30988446e-12, 9.99999940e-01, 7.31177532e-12],\n",
       "       [4.40154225e-02, 3.31344783e-01, 1.10715054e-01, 8.25274959e-02,\n",
       "        4.10297140e-02, 3.31380248e-01, 5.89874052e-02],\n",
       "       [9.31058079e-02, 2.31015116e-01, 1.21685185e-01, 1.14823811e-01,\n",
       "        1.09613813e-01, 1.54150322e-01, 1.75605997e-01],\n",
       "       [6.91455379e-02, 3.06475192e-01, 1.80111900e-01, 1.11982644e-01,\n",
       "        6.05847277e-02, 1.88670114e-01, 8.30298439e-02],\n",
       "       [3.43139693e-02, 2.45739192e-01, 5.88693991e-02, 3.08533192e-01,\n",
       "        3.82398628e-02, 1.90387517e-01, 1.23916671e-01],\n",
       "       [7.41887912e-02, 3.43867868e-01, 1.04362890e-01, 1.38505474e-01,\n",
       "        7.82696903e-02, 1.56004906e-01, 1.04800314e-01],\n",
       "       [8.30637850e-03, 5.58059752e-01, 1.52449414e-01, 1.46965933e-04,\n",
       "        1.12373114e-01, 1.13748983e-01, 5.49153350e-02],\n",
       "       [2.30669245e-01, 1.22119971e-01, 1.83268741e-01, 2.12773331e-04,\n",
       "        2.34377354e-01, 1.41269922e-01, 8.80820081e-02],\n",
       "       [3.06531135e-02, 2.76450217e-01, 4.22799528e-01, 1.26639307e-01,\n",
       "        7.21676880e-03, 1.26795709e-01, 9.44522303e-03],\n",
       "       [1.49390241e-02, 2.12624490e-01, 5.88262737e-01, 5.97365797e-05,\n",
       "        9.31373909e-02, 6.44410774e-02, 2.65356191e-02],\n",
       "       [7.91991875e-02, 1.14453882e-01, 7.18200207e-02, 3.57409418e-01,\n",
       "        4.65197526e-02, 2.35712767e-01, 9.48849693e-02],\n",
       "       [1.36299759e-01, 2.57441133e-01, 9.39586386e-02, 7.50782490e-02,\n",
       "        7.33836293e-02, 2.24641100e-01, 1.39197484e-01],\n",
       "       [7.99929202e-02, 2.26697490e-01, 1.52345300e-01, 1.60190821e-01,\n",
       "        7.04130009e-02, 2.04478443e-01, 1.05881996e-01],\n",
       "       [3.33193690e-02, 5.40838838e-01, 7.94192329e-02, 1.24901302e-01,\n",
       "        3.04288138e-02, 9.35837179e-02, 9.75087136e-02],\n",
       "       [6.18408844e-02, 3.64870638e-01, 1.77807719e-01, 5.64182401e-02,\n",
       "        7.49163404e-02, 1.71625316e-01, 9.25208405e-02],\n",
       "       [1.49094751e-06, 2.25472005e-14, 1.85722328e-07, 1.70260589e-20,\n",
       "        1.04449350e-06, 9.99996960e-01, 2.81547671e-07],\n",
       "       [9.69108101e-03, 3.89027953e-01, 1.06594069e-02, 3.46257538e-01,\n",
       "        8.40195734e-03, 1.65315703e-01, 7.06463382e-02],\n",
       "       [1.73047872e-03, 6.72580183e-01, 1.28542423e-01, 6.32360727e-02,\n",
       "        1.08810375e-04, 1.33024216e-01, 7.77814363e-04],\n",
       "       [2.18560994e-02, 3.64491254e-01, 9.84244198e-02, 2.52464533e-01,\n",
       "        1.94684695e-02, 1.87911883e-01, 5.53832911e-02],\n",
       "       [1.00407839e-01, 2.22394854e-01, 1.79634124e-01, 1.33882731e-01,\n",
       "        8.75651538e-02, 1.78187013e-01, 9.79283080e-02],\n",
       "       [1.16074979e-01, 1.28162146e-01, 1.24126598e-01, 1.60135254e-01,\n",
       "        1.15720838e-01, 1.70475364e-01, 1.85304865e-01],\n",
       "       [7.97758624e-02, 2.34644771e-01, 1.91971436e-01, 5.92847392e-02,\n",
       "        6.29288629e-02, 2.85537571e-01, 8.58568773e-02],\n",
       "       [1.36316627e-01, 1.64763227e-01, 1.59237429e-01, 1.16917275e-01,\n",
       "        1.35784879e-01, 1.45472273e-01, 1.41508296e-01],\n",
       "       [1.23234980e-01, 2.14443862e-01, 2.16609642e-01, 6.23906888e-02,\n",
       "        1.24568231e-01, 1.54078722e-01, 1.04673825e-01],\n",
       "       [3.62552628e-02, 4.00245219e-01, 1.34392008e-01, 2.12271303e-01,\n",
       "        2.60695759e-02, 1.55939013e-01, 3.48276533e-02],\n",
       "       [3.68913100e-03, 1.69067860e-01, 4.01326925e-01, 3.80106917e-06,\n",
       "        3.74637879e-02, 3.74804705e-01, 1.36438394e-02],\n",
       "       [1.07072100e-01, 1.50861219e-01, 3.12653810e-01, 1.54350549e-02,\n",
       "        1.52602836e-01, 1.59793451e-01, 1.01581492e-01],\n",
       "       [8.04719254e-02, 2.70105362e-01, 2.19484314e-01, 1.68648735e-02,\n",
       "        1.72383681e-01, 1.23960823e-01, 1.16729185e-01],\n",
       "       [3.91980121e-03, 5.35709977e-01, 2.49289703e-02, 2.77423501e-01,\n",
       "        2.89501273e-03, 1.42570406e-01, 1.25523722e-02],\n",
       "       [0.00000000e+00, 9.99999940e-01, 0.00000000e+00, 0.00000000e+00,\n",
       "        0.00000000e+00, 0.00000000e+00, 1.58347534e-36],\n",
       "       [8.66923388e-03, 1.16986099e-09, 5.27801644e-03, 2.93639233e-18,\n",
       "        2.74923831e-01, 4.32092905e-01, 2.79036015e-01],\n",
       "       [1.19821467e-01, 1.59452587e-01, 1.74145535e-01, 1.47157624e-01,\n",
       "        1.13674380e-01, 1.59898311e-01, 1.25850201e-01],\n",
       "       [6.52220324e-02, 3.66470009e-01, 1.43353343e-01, 1.44635990e-01,\n",
       "        3.60413976e-02, 1.88283890e-01, 5.59933223e-02],\n",
       "       [1.37269706e-01, 1.11541174e-01, 3.23218137e-01, 1.12227444e-03,\n",
       "        1.16879344e-01, 2.04426512e-01, 1.05542816e-01],\n",
       "       [6.89533651e-02, 3.78041625e-01, 1.26204908e-01, 1.01237126e-01,\n",
       "        6.67759255e-02, 1.57143265e-01, 1.01643801e-01],\n",
       "       [0.00000000e+00, 9.99999940e-01, 0.00000000e+00, 0.00000000e+00,\n",
       "        0.00000000e+00, 0.00000000e+00, 0.00000000e+00],\n",
       "       [2.22167354e-02, 4.49776292e-01, 1.83348119e-01, 1.05620056e-01,\n",
       "        1.75571963e-02, 2.06818223e-01, 1.46632968e-02],\n",
       "       [3.15862969e-02, 4.43693578e-01, 9.17175934e-02, 2.00871259e-01,\n",
       "        2.12413166e-02, 1.73641443e-01, 3.72485854e-02],\n",
       "       [6.77110802e-05, 8.74110818e-01, 3.64720123e-03, 8.93670470e-02,\n",
       "        7.70958795e-05, 3.24590877e-02, 2.70909979e-04],\n",
       "       [1.58357114e-01, 1.13690324e-01, 1.85455918e-01, 7.50873536e-02,\n",
       "        1.33472383e-01, 1.56064257e-01, 1.77872539e-01],\n",
       "       [2.71387607e-01, 4.12591025e-02, 1.60785794e-01, 5.41930087e-03,\n",
       "        6.98117539e-02, 3.97519112e-01, 5.38174212e-02],\n",
       "       [1.67185187e-01, 7.08078891e-02, 2.46756896e-01, 3.88969630e-02,\n",
       "        4.20777462e-02, 3.78348827e-01, 5.59265539e-02],\n",
       "       [3.56040150e-02, 4.87675607e-01, 1.86308846e-01, 5.25456071e-02,\n",
       "        4.07682098e-02, 1.46236300e-01, 5.08615412e-02],\n",
       "       [1.23817779e-01, 1.48618534e-01, 1.23489305e-01, 1.63613498e-01,\n",
       "        1.27231032e-01, 1.65279955e-01, 1.47949994e-01],\n",
       "       [1.05243817e-01, 2.29543597e-01, 1.41076475e-01, 1.21574022e-01,\n",
       "        1.19125612e-01, 1.52994603e-01, 1.30441904e-01],\n",
       "       [1.35707296e-02, 5.28835356e-01, 3.19681972e-01, 1.24400081e-02,\n",
       "        1.83553472e-02, 1.02856353e-01, 4.26010462e-03],\n",
       "       [2.18047091e-07, 9.93609548e-01, 5.98592917e-03, 1.50627351e-08,\n",
       "        9.01907879e-06, 3.91228445e-04, 4.00513591e-06],\n",
       "       [3.32794472e-04, 7.75900364e-01, 6.72483593e-02, 1.26608625e-01,\n",
       "        4.15653412e-05, 2.98409928e-02, 2.73397163e-05],\n",
       "       [9.99999940e-01, 0.00000000e+00, 0.00000000e+00, 0.00000000e+00,\n",
       "        7.61567631e-22, 2.16301833e-20, 8.42141125e-26],\n",
       "       [3.52423277e-12, 2.79336363e-01, 2.86667946e-19, 5.07875800e-01,\n",
       "        1.05025098e-22, 1.99144194e-03, 2.10796237e-01],\n",
       "       [7.90928230e-02, 2.52248049e-01, 1.80760890e-01, 1.60552561e-01,\n",
       "        6.53773695e-02, 1.80193439e-01, 8.17748830e-02],\n",
       "       [1.08506784e-01, 2.16640547e-01, 1.28190652e-01, 1.29034191e-01,\n",
       "        1.10535398e-01, 1.53757557e-01, 1.53334886e-01],\n",
       "       [3.97070144e-05, 2.04071329e-10, 2.72823311e-08, 4.76269912e-10,\n",
       "        3.72370579e-07, 9.99959886e-01, 8.44682272e-16],\n",
       "       [1.20391011e-01, 1.90320328e-01, 1.69350371e-01, 1.13958217e-01,\n",
       "        1.14406928e-01, 1.62375346e-01, 1.29197791e-01],\n",
       "       [9.86091346e-02, 1.73061684e-01, 1.58302873e-01, 2.35770628e-01,\n",
       "        7.47068897e-02, 1.79594576e-01, 7.99541175e-02],\n",
       "       [5.59599027e-02, 2.72753417e-01, 9.31751430e-02, 2.47953445e-01,\n",
       "        4.42950651e-02, 2.05704331e-01, 8.01585764e-02],\n",
       "       [1.27126217e-01, 1.52605474e-01, 2.23582953e-01, 1.04989171e-01,\n",
       "        9.41629633e-02, 1.89405143e-01, 1.08127989e-01],\n",
       "       [3.06754615e-02, 4.39270616e-01, 8.37762579e-02, 1.75593242e-01,\n",
       "        3.11187990e-02, 1.83059931e-01, 5.65056242e-02],\n",
       "       [6.48204759e-02, 2.00223476e-01, 1.09366857e-01, 1.96202323e-01,\n",
       "        5.94455712e-02, 2.08780453e-01, 1.61160871e-01],\n",
       "       [7.56996498e-02, 2.68239975e-01, 1.99505240e-01, 1.26466051e-01,\n",
       "        7.10686520e-02, 1.83490172e-01, 7.55302608e-02],\n",
       "       [2.70061945e-10, 1.40265577e-11, 4.89007377e-08, 5.76051123e-22,\n",
       "        3.91681851e-08, 9.99999821e-01, 4.78147832e-09],\n",
       "       [7.60459760e-03, 2.49222159e-01, 4.34875458e-01, 1.62185095e-02,\n",
       "        2.48123240e-02, 2.46597022e-01, 2.06699483e-02],\n",
       "       [8.42126831e-03, 8.58952641e-01, 4.08258662e-02, 1.20491709e-03,\n",
       "        1.46062821e-02, 5.67713641e-02, 1.92176290e-02],\n",
       "       [0.00000000e+00, 9.99999940e-01, 3.28381439e-17, 0.00000000e+00,\n",
       "        0.00000000e+00, 2.32402492e-21, 0.00000000e+00],\n",
       "       [4.85711325e-07, 9.98634040e-01, 5.31121390e-04, 2.84514101e-12,\n",
       "        1.05934436e-04, 2.83421323e-05, 7.00100733e-04],\n",
       "       [6.19843453e-02, 1.09538734e-02, 5.98992929e-02, 1.56949391e-03,\n",
       "        1.06815331e-01, 5.91708243e-01, 1.67069480e-01],\n",
       "       [3.99793088e-02, 2.23418728e-01, 1.16210833e-01, 3.56059015e-01,\n",
       "        1.60148311e-02, 2.17688605e-01, 3.06286607e-02],\n",
       "       [1.02592685e-06, 3.77605987e-13, 4.99477071e-10, 3.49199021e-21,\n",
       "        1.69174255e-05, 9.97788012e-01, 2.19403068e-03],\n",
       "       [1.39107481e-01, 1.87120169e-01, 2.85751045e-01, 1.08878918e-01,\n",
       "        5.48116937e-02, 1.56346083e-01, 6.79845884e-02],\n",
       "       [9.35782194e-02, 2.24649906e-01, 1.63607031e-01, 1.05482019e-01,\n",
       "        1.06934905e-01, 1.62101641e-01, 1.43646285e-01],\n",
       "       [1.28429243e-02, 3.13442141e-01, 5.06271541e-01, 1.97091675e-03,\n",
       "        1.76285915e-02, 1.24923386e-01, 2.29204502e-02],\n",
       "       [9.77235883e-02, 2.32098296e-01, 1.31604195e-01, 1.41959965e-01,\n",
       "        8.60499814e-02, 1.56630307e-01, 1.53933600e-01],\n",
       "       [8.40413079e-22, 8.25421095e-26, 5.36995282e-10, 8.56462131e-38,\n",
       "        9.87914523e-19, 9.99999940e-01, 1.00240424e-26],\n",
       "       [7.91947469e-02, 3.13397318e-01, 2.38194019e-01, 7.02957064e-02,\n",
       "        8.59814212e-02, 1.37607470e-01, 7.53292069e-02],\n",
       "       [2.29290724e-02, 4.34564352e-01, 2.23716632e-01, 8.59787613e-02,\n",
       "        1.76705476e-02, 1.92342326e-01, 2.27983668e-02],\n",
       "       [8.96726400e-02, 2.10785419e-01, 1.05350852e-01, 1.69984832e-01,\n",
       "        9.72734764e-02, 1.48488775e-01, 1.78443938e-01],\n",
       "       [1.01067762e-05, 4.21190721e-11, 9.64310175e-07, 5.19771773e-15,\n",
       "        3.70732528e-06, 9.99984324e-01, 8.11063103e-07],\n",
       "       [4.63187397e-02, 2.19102547e-01, 8.09017867e-02, 2.64458269e-01,\n",
       "        5.31993024e-02, 1.94116384e-01, 1.41902968e-01],\n",
       "       [2.59834053e-07, 7.98617603e-16, 2.39422935e-08, 1.27983443e-22,\n",
       "        6.45053930e-08, 9.99999583e-01, 2.47877208e-09],\n",
       "       [3.37903388e-02, 4.75177705e-01, 1.22924738e-01, 4.05614683e-03,\n",
       "        1.41213939e-01, 7.31288418e-02, 1.49708241e-01],\n",
       "       [2.58113396e-05, 3.69829029e-11, 1.28528529e-06, 9.66533727e-20,\n",
       "        1.32731266e-05, 9.99959528e-01, 1.00788862e-08],\n",
       "       [3.12808752e-02, 4.93866533e-01, 8.56013149e-02, 7.28996843e-02,\n",
       "        5.30089475e-02, 1.49825364e-01, 1.13517359e-01],\n",
       "       [6.18587211e-02, 2.00135067e-01, 3.34738314e-01, 5.20544033e-03,\n",
       "        1.34676486e-01, 1.70095697e-01, 9.32903588e-02],\n",
       "       [1.19750649e-01, 1.65940017e-01, 1.81119874e-01, 9.82186943e-02,\n",
       "        1.20278597e-01, 1.94073558e-01, 1.20618604e-01],\n",
       "       [1.89645359e-27, 7.14498709e-31, 1.30576209e-18, 1.00318539e-32,\n",
       "        1.16085221e-23, 9.99999940e-01, 7.52470609e-31],\n",
       "       [1.23092532e-01, 1.73123077e-01, 1.46094039e-01, 1.40701696e-01,\n",
       "        1.26369283e-01, 1.55422300e-01, 1.35196999e-01],\n",
       "       [5.75215518e-02, 2.95845360e-01, 1.68948889e-01, 1.16282709e-01,\n",
       "        6.63929284e-02, 1.83646083e-01, 1.11362435e-01],\n",
       "       [9.39009071e-04, 7.36309588e-01, 1.52231799e-02, 1.52288660e-01,\n",
       "        6.43955893e-04, 9.30346400e-02, 1.56108732e-03],\n",
       "       [9.88825560e-02, 1.36176229e-01, 1.78050652e-01, 1.77734531e-04,\n",
       "        1.02748461e-01, 2.69001633e-01, 2.14962691e-01],\n",
       "       [1.25872493e-01, 1.78479910e-01, 1.53801411e-01, 9.69490260e-02,\n",
       "        1.34043142e-01, 1.53928623e-01, 1.56925336e-01],\n",
       "       [2.29766462e-02, 4.43957388e-01, 9.60640758e-02, 9.84381959e-02,\n",
       "        3.69752422e-02, 2.28145003e-01, 7.34434128e-02],\n",
       "       [2.46100761e-02, 1.93168268e-01, 1.46201765e-02, 8.87682959e-02,\n",
       "        4.76310700e-02, 2.01052278e-01, 4.30149823e-01],\n",
       "       [8.99116620e-02, 1.17954239e-01, 1.14996940e-01, 2.48565257e-01,\n",
       "        7.25435019e-02, 2.36303061e-01, 1.19725376e-01],\n",
       "       [1.17388666e-01, 2.00636923e-01, 1.21030040e-01, 1.21791802e-01,\n",
       "        1.22530684e-01, 1.44732669e-01, 1.71889275e-01],\n",
       "       [1.14697032e-02, 3.54616880e-01, 3.31743419e-01, 1.16367690e-01,\n",
       "        2.64664134e-03, 1.75555080e-01, 7.60048162e-03],\n",
       "       [1.86552644e-01, 2.15357423e-01, 1.29451141e-01, 6.17924333e-02,\n",
       "        5.02477065e-02, 2.80264705e-01, 7.63339475e-02],\n",
       "       [6.45456463e-02, 3.45371842e-01, 2.00163633e-01, 1.16295787e-02,\n",
       "        1.15596741e-01, 1.61041841e-01, 1.01650715e-01],\n",
       "       [4.31611352e-06, 2.65722759e-02, 9.73255873e-01, 3.16430192e-06,\n",
       "        3.03224468e-08, 1.64291516e-04, 9.22257826e-10],\n",
       "       [1.11977331e-01, 9.76988971e-02, 2.50518978e-01, 1.00000827e-02,\n",
       "        1.89698026e-01, 1.68183386e-01, 1.71923250e-01],\n",
       "       [5.54632097e-02, 3.03511739e-01, 2.39645630e-01, 1.75235704e-01,\n",
       "        3.91880907e-02, 1.50354028e-01, 3.66016440e-02],\n",
       "       [2.44805869e-02, 5.48704267e-01, 2.13491201e-01, 1.36909122e-02,\n",
       "        4.84354496e-02, 1.29629761e-01, 2.15677842e-02],\n",
       "       [2.74252798e-03, 8.41338754e-01, 1.39538040e-02, 8.30734745e-02,\n",
       "        2.07398064e-03, 5.20030819e-02, 4.81433794e-03],\n",
       "       [2.62801424e-02, 5.49649775e-01, 2.05286115e-01, 2.01000571e-02,\n",
       "        3.64592485e-02, 1.04756132e-01, 5.74685335e-02],\n",
       "       [7.28740767e-02, 3.81124020e-01, 1.43334419e-01, 8.65725577e-02,\n",
       "        5.80824092e-02, 1.68243811e-01, 8.97687748e-02],\n",
       "       [1.22824907e-02, 3.00979465e-01, 4.91963655e-01, 5.88635504e-02,\n",
       "        1.14355795e-02, 1.17943145e-01, 6.53201342e-03],\n",
       "       [1.07951071e-02, 4.89274353e-01, 7.20392466e-02, 2.25765824e-01,\n",
       "        6.26709638e-03, 1.81204244e-01, 1.46540618e-02],\n",
       "       [1.20212753e-04, 1.56102615e-04, 6.91241845e-02, 5.97828972e-16,\n",
       "        9.82311741e-03, 9.18551266e-01, 2.22509564e-03],\n",
       "       [0.00000000e+00, 0.00000000e+00, 0.00000000e+00, 0.00000000e+00,\n",
       "        0.00000000e+00, 0.00000000e+00, 9.99999940e-01],\n",
       "       [9.20104142e-03, 8.11071992e-01, 6.55748695e-02, 1.55053940e-02,\n",
       "        1.10223442e-02, 7.33904094e-02, 1.42338863e-02],\n",
       "       [2.45167837e-02, 5.06747305e-01, 1.47700161e-01, 9.46665630e-02,\n",
       "        2.73107067e-02, 1.71449140e-01, 2.76092850e-02],\n",
       "       [6.30131811e-02, 3.73151600e-01, 1.59036666e-01, 5.65098599e-02,\n",
       "        8.35089460e-02, 1.69104606e-01, 9.56750214e-02],\n",
       "       [1.55758997e-02, 5.54194808e-01, 9.58327278e-02, 1.50181726e-01,\n",
       "        1.00440029e-02, 1.61461905e-01, 1.27089154e-02],\n",
       "       [1.19799644e-01, 1.87220797e-01, 1.93155453e-01, 6.00552559e-02,\n",
       "        1.47253588e-01, 1.60278946e-01, 1.32236317e-01],\n",
       "       [3.34698963e-03, 9.03597653e-01, 2.01165173e-02, 1.07942917e-03,\n",
       "        7.27363676e-03, 4.15710509e-02, 2.30147969e-02],\n",
       "       [1.35720432e-01, 1.63333744e-01, 1.50044575e-01, 1.22281484e-01,\n",
       "        1.30769044e-01, 1.54859632e-01, 1.42991126e-01],\n",
       "       [5.63474527e-12, 0.00000000e+00, 0.00000000e+00, 0.00000000e+00,\n",
       "        4.63945757e-11, 9.99999940e-01, 6.25021142e-29],\n",
       "       [8.35964233e-02, 1.81763381e-01, 7.34920651e-02, 2.54047900e-01,\n",
       "        7.51062781e-02, 1.71783954e-01, 1.60209939e-01],\n",
       "       [8.28228716e-04, 9.25641835e-01, 3.06503177e-02, 7.09639397e-03,\n",
       "        1.62777293e-03, 3.26994397e-02, 1.45586545e-03],\n",
       "       [5.60462214e-02, 3.76081914e-01, 1.25066370e-01, 1.05227582e-01,\n",
       "        4.60615605e-02, 2.24503621e-01, 6.70127869e-02],\n",
       "       [9.24447775e-02, 2.27340609e-01, 1.66572943e-01, 1.46931395e-01,\n",
       "        6.31260946e-02, 2.07399413e-01, 9.61847529e-02],\n",
       "       [8.44245479e-02, 2.50561267e-01, 1.52962670e-01, 1.55919284e-01,\n",
       "        6.68815300e-02, 1.83309615e-01, 1.05941094e-01],\n",
       "       [4.65456583e-02, 3.62635136e-01, 1.06356129e-01, 5.86095192e-02,\n",
       "        4.55888063e-02, 2.90571272e-01, 8.96935165e-02],\n",
       "       [6.02419837e-04, 7.55435586e-01, 1.01151085e-02, 1.70086771e-01,\n",
       "        4.17092058e-04, 6.13605194e-02, 1.98246283e-03],\n",
       "       [8.95476118e-02, 3.46743166e-01, 8.20535868e-02, 1.92068722e-02,\n",
       "        7.84920603e-02, 1.86107069e-01, 1.97849557e-01],\n",
       "       [1.94687075e-07, 2.60540808e-12, 1.44192285e-08, 9.97986924e-17,\n",
       "        1.84200914e-07, 9.99999583e-01, 3.19510036e-08],\n",
       "       [2.07308432e-04, 8.26254249e-01, 3.62196995e-04, 1.34349853e-01,\n",
       "        1.29934851e-04, 3.13899927e-02, 7.30654318e-03],\n",
       "       [1.17267873e-02, 3.01036865e-01, 4.25872535e-01, 1.08175853e-04,\n",
       "        1.03250384e-01, 1.48137033e-01, 9.86821111e-03],\n",
       "       [7.28900253e-04, 1.80191989e-06, 2.81644134e-05, 7.44437711e-09,\n",
       "        2.36249389e-03, 9.85311747e-01, 1.15669239e-02]], dtype=float32)>"
      ]
     },
     "execution_count": 456,
     "metadata": {},
     "output_type": "execute_result"
    }
   ],
   "source": [
    "model(next(iter(validate)))"
   ]
  },
  {
   "cell_type": "code",
   "execution_count": 457,
   "metadata": {},
   "outputs": [
    {
     "data": {
      "text/plain": [
       "[<matplotlib.lines.Line2D at 0x779ed2204370>]"
      ]
     },
     "execution_count": 457,
     "metadata": {},
     "output_type": "execute_result"
    },
    {
     "data": {
      "image/png": "[encoded data removed]",
      "text/plain": [
       "<Figure size 640x480 with 1 Axes>"
      ]
     },
     "metadata": {},
     "output_type": "display_data"
    }
   ],
   "source": [
    "plt.plot(history.history['loss'])\n",
    "plt.plot(history.history['val_loss'], color='red')"
   ]
  },
  {
   "cell_type": "code",
   "execution_count": null,
   "metadata": {},
   "outputs": [],
   "source": []
  }
 ],
 "metadata": {
  "kernelspec": {
   "display_name": ".kaggle",
   "language": "python",
   "name": "python3"
  },
  "language_info": {
   "codemirror_mode": {
    "name": "ipython",
    "version": 3
   },
   "file_extension": ".py",
   "mimetype": "text/x-python",
   "name": "python",
   "nbconvert_exporter": "python",
   "pygments_lexer": "ipython3",
   "version": "3.10.12"
  }
 },
 "nbformat": 4,
 "nbformat_minor": 2
}
