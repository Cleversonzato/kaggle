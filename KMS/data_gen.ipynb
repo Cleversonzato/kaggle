{
 "cells": [
  {
   "cell_type": "code",
   "execution_count": 73,
   "metadata": {},
   "outputs": [],
   "source": [
    "import numpy as np\n",
    "import pandas as pd\n",
    "import matplotlib.pyplot as plt\n",
    "import tensorflow as tf"
   ]
  },
  {
   "cell_type": "code",
   "execution_count": 74,
   "metadata": {},
   "outputs": [],
   "source": [
    "PASTA_EEG = \"data/train_eegs/\"\n",
    "PASTA_FOURIER = \"data/fourier/\"\n",
    "SPS = 200 #samples per second\n",
    "\n",
    "frame_size = SPS\n",
    "half_frame = frame_size//2\n",
    "hop = (frame_size//2) * 4\n",
    "frequency_bins = (SPS//2) +1\n",
    "sampling_rate = SPS"
   ]
  },
  {
   "cell_type": "code",
   "execution_count": 75,
   "metadata": {},
   "outputs": [],
   "source": [
    "def get_data(eeg):\n",
    "    return pd.read_parquet(f'data/train_eegs/{eeg}.parquet', engine='pyarrow')\n",
    "\n",
    "\n",
    "def generate_fourier(df, i, frame_size=frame_size, half_frame=half_frame):\n",
    "    r_i = []\n",
    "    for c in df.columns:\n",
    "        f = np.fft.fft(  df[c][i:i+frame_size] - df[c][i:i+frame_size].mean() )\n",
    "        r_i.append( np.stack([\n",
    "                abs(f.real[:half_frame])/half_frame, \n",
    "                abs(f.imag[:half_frame])/half_frame\n",
    "            ], axis=1\n",
    "        ))\n",
    "\n",
    "    return np.asarray(r_i)\n",
    "\n",
    "\n",
    "def get_start_end(row, pos, max_size):\n",
    "    if pos == len(row['janelas']):\n",
    "        return max_size, max_size\n",
    "\n",
    "    j = row['janelas'].split(',')[0].split('-')\n",
    "    \n",
    "    return float(j[0])*2, float(j[1])*2\n",
    "\n",
    "\n",
    "def score_data(row, writer, hop=hop):\n",
    "    df_data = get_data(row['eeg_id'])\n",
    "    max_size = df_data.shape[0]\n",
    "    j_pos = 0\n",
    "    start, end = get_start_end(row, j_pos, max_size)\n",
    "\n",
    "    for i in range(0, max_size-hop, hop):\n",
    "        fourier = generate_fourier(df_data, i)\n",
    "\n",
    "        if not np.isnan(np.sum(fourier)):\n",
    "            if end < i:\n",
    "                j_pos += 1\n",
    "                start, end = get_start_end(row, j_pos, max_size)\n",
    "\n",
    "            if i >= start and i <= end:\n",
    "                scores = [row['seizure_vote'],row['lpd_vote'],row['gpd_vote'],row['lrda_vote'],row['grda_vote'],row['other_vote'], 0.0 ] \n",
    "            else:\n",
    "                scores = [0.0, 0.0, 0.0, 0.0, 0.0, 0.0, 1.0] \n",
    "\n",
    "\n",
    "            writer.write(\n",
    "                tf.train.Example(features=tf.train.Features(feature={\n",
    "                    \"label\": tf.train.Feature(float_list=tf.train.FloatList(value=scores)),\n",
    "                    \"data\": tf.train.Feature(float_list=tf.train.FloatList(value=fourier.reshape(4000) ))\n",
    "                })).SerializeToString()\n",
    "            )\n",
    "\n"
   ]
  },
  {
   "cell_type": "code",
   "execution_count": 76,
   "metadata": {},
   "outputs": [
    {
     "name": "stderr",
     "output_type": "stream",
     "text": [
      "/home/cleston/projetos/kaggle/.kaggle/lib/python3.10/site-packages/numpy/core/fromnumeric.py:59: FutureWarning: 'DataFrame.swapaxes' is deprecated and will be removed in a future version. Please use 'DataFrame.transpose' instead.\n",
      "  return bound(*args, **kwds)\n"
     ]
    },
    {
     "name": "stdout",
     "output_type": "stream",
     "text": [
      "0\n"
     ]
    },
    {
     "ename": "KeyboardInterrupt",
     "evalue": "",
     "output_type": "error",
     "traceback": [
      "\u001b[0;31m---------------------------------------------------------------------------\u001b[0m",
      "\u001b[0;31mKeyboardInterrupt\u001b[0m                         Traceback (most recent call last)",
      "\u001b[1;32m/home/cleston/projetos/kaggle/KMS/data_gen.ipynb Cell 4\u001b[0m line \u001b[0;36m6\n\u001b[1;32m      <a href='vscode-notebook-cell:/home/cleston/projetos/kaggle/KMS/data_gen.ipynb#W3sZmlsZQ%3D%3D?line=3'>4</a>\u001b[0m \u001b[39mprint\u001b[39m(i)\n\u001b[1;32m      <a href='vscode-notebook-cell:/home/cleston/projetos/kaggle/KMS/data_gen.ipynb#W3sZmlsZQ%3D%3D?line=4'>5</a>\u001b[0m \u001b[39mwith\u001b[39;00m tf\u001b[39m.\u001b[39mio\u001b[39m.\u001b[39mTFRecordWriter(\u001b[39mf\u001b[39m\u001b[39m\"\u001b[39m\u001b[39m{\u001b[39;00mPASTA_FOURIER\u001b[39m}\u001b[39;00m\u001b[39mdata_\u001b[39m\u001b[39m{\u001b[39;00mi\u001b[39m}\u001b[39;00m\u001b[39m\"\u001b[39m) \u001b[39mas\u001b[39;00m writer:\n\u001b[0;32m----> <a href='vscode-notebook-cell:/home/cleston/projetos/kaggle/KMS/data_gen.ipynb#W3sZmlsZQ%3D%3D?line=5'>6</a>\u001b[0m     split\u001b[39m.\u001b[39;49mapply(\u001b[39mlambda\u001b[39;49;00m x: score_data(x, writer), axis\u001b[39m=\u001b[39;49m\u001b[39m1\u001b[39;49m)\n\u001b[1;32m      <a href='vscode-notebook-cell:/home/cleston/projetos/kaggle/KMS/data_gen.ipynb#W3sZmlsZQ%3D%3D?line=7'>8</a>\u001b[0m \u001b[39mbreak\u001b[39;00m\n",
      "File \u001b[0;32m~/projetos/kaggle/.kaggle/lib/python3.10/site-packages/pandas/core/frame.py:10374\u001b[0m, in \u001b[0;36mDataFrame.apply\u001b[0;34m(self, func, axis, raw, result_type, args, by_row, engine, engine_kwargs, **kwargs)\u001b[0m\n\u001b[1;32m  10360\u001b[0m \u001b[39mfrom\u001b[39;00m \u001b[39mpandas\u001b[39;00m\u001b[39m.\u001b[39;00m\u001b[39mcore\u001b[39;00m\u001b[39m.\u001b[39;00m\u001b[39mapply\u001b[39;00m \u001b[39mimport\u001b[39;00m frame_apply\n\u001b[1;32m  10362\u001b[0m op \u001b[39m=\u001b[39m frame_apply(\n\u001b[1;32m  10363\u001b[0m     \u001b[39mself\u001b[39m,\n\u001b[1;32m  10364\u001b[0m     func\u001b[39m=\u001b[39mfunc,\n\u001b[0;32m   (...)\u001b[0m\n\u001b[1;32m  10372\u001b[0m     kwargs\u001b[39m=\u001b[39mkwargs,\n\u001b[1;32m  10373\u001b[0m )\n\u001b[0;32m> 10374\u001b[0m \u001b[39mreturn\u001b[39;00m op\u001b[39m.\u001b[39;49mapply()\u001b[39m.\u001b[39m__finalize__(\u001b[39mself\u001b[39m, method\u001b[39m=\u001b[39m\u001b[39m\"\u001b[39m\u001b[39mapply\u001b[39m\u001b[39m\"\u001b[39m)\n",
      "File \u001b[0;32m~/projetos/kaggle/.kaggle/lib/python3.10/site-packages/pandas/core/apply.py:916\u001b[0m, in \u001b[0;36mFrameApply.apply\u001b[0;34m(self)\u001b[0m\n\u001b[1;32m    913\u001b[0m \u001b[39melif\u001b[39;00m \u001b[39mself\u001b[39m\u001b[39m.\u001b[39mraw:\n\u001b[1;32m    914\u001b[0m     \u001b[39mreturn\u001b[39;00m \u001b[39mself\u001b[39m\u001b[39m.\u001b[39mapply_raw(engine\u001b[39m=\u001b[39m\u001b[39mself\u001b[39m\u001b[39m.\u001b[39mengine, engine_kwargs\u001b[39m=\u001b[39m\u001b[39mself\u001b[39m\u001b[39m.\u001b[39mengine_kwargs)\n\u001b[0;32m--> 916\u001b[0m \u001b[39mreturn\u001b[39;00m \u001b[39mself\u001b[39;49m\u001b[39m.\u001b[39;49mapply_standard()\n",
      "File \u001b[0;32m~/projetos/kaggle/.kaggle/lib/python3.10/site-packages/pandas/core/apply.py:1063\u001b[0m, in \u001b[0;36mFrameApply.apply_standard\u001b[0;34m(self)\u001b[0m\n\u001b[1;32m   1061\u001b[0m \u001b[39mdef\u001b[39;00m \u001b[39mapply_standard\u001b[39m(\u001b[39mself\u001b[39m):\n\u001b[1;32m   1062\u001b[0m     \u001b[39mif\u001b[39;00m \u001b[39mself\u001b[39m\u001b[39m.\u001b[39mengine \u001b[39m==\u001b[39m \u001b[39m\"\u001b[39m\u001b[39mpython\u001b[39m\u001b[39m\"\u001b[39m:\n\u001b[0;32m-> 1063\u001b[0m         results, res_index \u001b[39m=\u001b[39m \u001b[39mself\u001b[39;49m\u001b[39m.\u001b[39;49mapply_series_generator()\n\u001b[1;32m   1064\u001b[0m     \u001b[39melse\u001b[39;00m:\n\u001b[1;32m   1065\u001b[0m         results, res_index \u001b[39m=\u001b[39m \u001b[39mself\u001b[39m\u001b[39m.\u001b[39mapply_series_numba()\n",
      "File \u001b[0;32m~/projetos/kaggle/.kaggle/lib/python3.10/site-packages/pandas/core/apply.py:1081\u001b[0m, in \u001b[0;36mFrameApply.apply_series_generator\u001b[0;34m(self)\u001b[0m\n\u001b[1;32m   1078\u001b[0m \u001b[39mwith\u001b[39;00m option_context(\u001b[39m\"\u001b[39m\u001b[39mmode.chained_assignment\u001b[39m\u001b[39m\"\u001b[39m, \u001b[39mNone\u001b[39;00m):\n\u001b[1;32m   1079\u001b[0m     \u001b[39mfor\u001b[39;00m i, v \u001b[39min\u001b[39;00m \u001b[39menumerate\u001b[39m(series_gen):\n\u001b[1;32m   1080\u001b[0m         \u001b[39m# ignore SettingWithCopy here in case the user mutates\u001b[39;00m\n\u001b[0;32m-> 1081\u001b[0m         results[i] \u001b[39m=\u001b[39m \u001b[39mself\u001b[39;49m\u001b[39m.\u001b[39;49mfunc(v, \u001b[39m*\u001b[39;49m\u001b[39mself\u001b[39;49m\u001b[39m.\u001b[39;49margs, \u001b[39m*\u001b[39;49m\u001b[39m*\u001b[39;49m\u001b[39mself\u001b[39;49m\u001b[39m.\u001b[39;49mkwargs)\n\u001b[1;32m   1082\u001b[0m         \u001b[39mif\u001b[39;00m \u001b[39misinstance\u001b[39m(results[i], ABCSeries):\n\u001b[1;32m   1083\u001b[0m             \u001b[39m# If we have a view on v, we need to make a copy because\u001b[39;00m\n\u001b[1;32m   1084\u001b[0m             \u001b[39m#  series_generator will swap out the underlying data\u001b[39;00m\n\u001b[1;32m   1085\u001b[0m             results[i] \u001b[39m=\u001b[39m results[i]\u001b[39m.\u001b[39mcopy(deep\u001b[39m=\u001b[39m\u001b[39mFalse\u001b[39;00m)\n",
      "\u001b[1;32m/home/cleston/projetos/kaggle/KMS/data_gen.ipynb Cell 4\u001b[0m line \u001b[0;36m6\n\u001b[1;32m      <a href='vscode-notebook-cell:/home/cleston/projetos/kaggle/KMS/data_gen.ipynb#W3sZmlsZQ%3D%3D?line=3'>4</a>\u001b[0m \u001b[39mprint\u001b[39m(i)\n\u001b[1;32m      <a href='vscode-notebook-cell:/home/cleston/projetos/kaggle/KMS/data_gen.ipynb#W3sZmlsZQ%3D%3D?line=4'>5</a>\u001b[0m \u001b[39mwith\u001b[39;00m tf\u001b[39m.\u001b[39mio\u001b[39m.\u001b[39mTFRecordWriter(\u001b[39mf\u001b[39m\u001b[39m\"\u001b[39m\u001b[39m{\u001b[39;00mPASTA_FOURIER\u001b[39m}\u001b[39;00m\u001b[39mdata_\u001b[39m\u001b[39m{\u001b[39;00mi\u001b[39m}\u001b[39;00m\u001b[39m\"\u001b[39m) \u001b[39mas\u001b[39;00m writer:\n\u001b[0;32m----> <a href='vscode-notebook-cell:/home/cleston/projetos/kaggle/KMS/data_gen.ipynb#W3sZmlsZQ%3D%3D?line=5'>6</a>\u001b[0m     split\u001b[39m.\u001b[39mapply(\u001b[39mlambda\u001b[39;00m x: score_data(x, writer), axis\u001b[39m=\u001b[39m\u001b[39m1\u001b[39m)\n\u001b[1;32m      <a href='vscode-notebook-cell:/home/cleston/projetos/kaggle/KMS/data_gen.ipynb#W3sZmlsZQ%3D%3D?line=7'>8</a>\u001b[0m \u001b[39mbreak\u001b[39;00m\n",
      "\u001b[1;32m/home/cleston/projetos/kaggle/KMS/data_gen.ipynb Cell 4\u001b[0m line \u001b[0;36m3\n\u001b[1;32m     <a href='vscode-notebook-cell:/home/cleston/projetos/kaggle/KMS/data_gen.ipynb#W3sZmlsZQ%3D%3D?line=30'>31</a>\u001b[0m start, end \u001b[39m=\u001b[39m get_start_end(row, j_pos, max_size)\n\u001b[1;32m     <a href='vscode-notebook-cell:/home/cleston/projetos/kaggle/KMS/data_gen.ipynb#W3sZmlsZQ%3D%3D?line=32'>33</a>\u001b[0m \u001b[39mfor\u001b[39;00m i \u001b[39min\u001b[39;00m \u001b[39mrange\u001b[39m(\u001b[39m0\u001b[39m, max_size\u001b[39m-\u001b[39mhop, hop):\n\u001b[0;32m---> <a href='vscode-notebook-cell:/home/cleston/projetos/kaggle/KMS/data_gen.ipynb#W3sZmlsZQ%3D%3D?line=33'>34</a>\u001b[0m     fourier \u001b[39m=\u001b[39m generate_fourier(df_data, i)\n\u001b[1;32m     <a href='vscode-notebook-cell:/home/cleston/projetos/kaggle/KMS/data_gen.ipynb#W3sZmlsZQ%3D%3D?line=35'>36</a>\u001b[0m     \u001b[39mif\u001b[39;00m \u001b[39mnot\u001b[39;00m np\u001b[39m.\u001b[39misnan(np\u001b[39m.\u001b[39msum(fourier)):\n\u001b[1;32m     <a href='vscode-notebook-cell:/home/cleston/projetos/kaggle/KMS/data_gen.ipynb#W3sZmlsZQ%3D%3D?line=36'>37</a>\u001b[0m         \u001b[39mif\u001b[39;00m end \u001b[39m<\u001b[39m i:\n",
      "\u001b[1;32m/home/cleston/projetos/kaggle/KMS/data_gen.ipynb Cell 4\u001b[0m line \u001b[0;36m8\n\u001b[1;32m      <a href='vscode-notebook-cell:/home/cleston/projetos/kaggle/KMS/data_gen.ipynb#W3sZmlsZQ%3D%3D?line=5'>6</a>\u001b[0m r_i \u001b[39m=\u001b[39m []\n\u001b[1;32m      <a href='vscode-notebook-cell:/home/cleston/projetos/kaggle/KMS/data_gen.ipynb#W3sZmlsZQ%3D%3D?line=6'>7</a>\u001b[0m \u001b[39mfor\u001b[39;00m c \u001b[39min\u001b[39;00m df\u001b[39m.\u001b[39mcolumns:\n\u001b[0;32m----> <a href='vscode-notebook-cell:/home/cleston/projetos/kaggle/KMS/data_gen.ipynb#W3sZmlsZQ%3D%3D?line=7'>8</a>\u001b[0m     f \u001b[39m=\u001b[39m np\u001b[39m.\u001b[39mfft\u001b[39m.\u001b[39mfft(  df[c][i:i\u001b[39m+\u001b[39;49mframe_size] \u001b[39m-\u001b[39;49m df[c][i:i\u001b[39m+\u001b[39;49mframe_size]\u001b[39m.\u001b[39;49mmean() )\n\u001b[1;32m      <a href='vscode-notebook-cell:/home/cleston/projetos/kaggle/KMS/data_gen.ipynb#W3sZmlsZQ%3D%3D?line=8'>9</a>\u001b[0m     r_i\u001b[39m.\u001b[39mappend( np\u001b[39m.\u001b[39mstack([\n\u001b[1;32m     <a href='vscode-notebook-cell:/home/cleston/projetos/kaggle/KMS/data_gen.ipynb#W3sZmlsZQ%3D%3D?line=9'>10</a>\u001b[0m             \u001b[39mabs\u001b[39m(f\u001b[39m.\u001b[39mreal[:half_frame])\u001b[39m/\u001b[39mhalf_frame, \n\u001b[1;32m     <a href='vscode-notebook-cell:/home/cleston/projetos/kaggle/KMS/data_gen.ipynb#W3sZmlsZQ%3D%3D?line=10'>11</a>\u001b[0m             \u001b[39mabs\u001b[39m(f\u001b[39m.\u001b[39mimag[:half_frame])\u001b[39m/\u001b[39mhalf_frame\n\u001b[1;32m     <a href='vscode-notebook-cell:/home/cleston/projetos/kaggle/KMS/data_gen.ipynb#W3sZmlsZQ%3D%3D?line=11'>12</a>\u001b[0m         ], axis\u001b[39m=\u001b[39m\u001b[39m1\u001b[39m\n\u001b[1;32m     <a href='vscode-notebook-cell:/home/cleston/projetos/kaggle/KMS/data_gen.ipynb#W3sZmlsZQ%3D%3D?line=12'>13</a>\u001b[0m     ))\n\u001b[1;32m     <a href='vscode-notebook-cell:/home/cleston/projetos/kaggle/KMS/data_gen.ipynb#W3sZmlsZQ%3D%3D?line=14'>15</a>\u001b[0m \u001b[39mreturn\u001b[39;00m np\u001b[39m.\u001b[39masarray(r_i)\n",
      "File \u001b[0;32m~/projetos/kaggle/.kaggle/lib/python3.10/site-packages/pandas/core/ops/common.py:76\u001b[0m, in \u001b[0;36m_unpack_zerodim_and_defer.<locals>.new_method\u001b[0;34m(self, other)\u001b[0m\n\u001b[1;32m     72\u001b[0m             \u001b[39mreturn\u001b[39;00m \u001b[39mNotImplemented\u001b[39m\n\u001b[1;32m     74\u001b[0m other \u001b[39m=\u001b[39m item_from_zerodim(other)\n\u001b[0;32m---> 76\u001b[0m \u001b[39mreturn\u001b[39;00m method(\u001b[39mself\u001b[39;49m, other)\n",
      "File \u001b[0;32m~/projetos/kaggle/.kaggle/lib/python3.10/site-packages/pandas/core/arraylike.py:194\u001b[0m, in \u001b[0;36mOpsMixin.__sub__\u001b[0;34m(self, other)\u001b[0m\n\u001b[1;32m    192\u001b[0m \u001b[39m@unpack_zerodim_and_defer\u001b[39m(\u001b[39m\"\u001b[39m\u001b[39m__sub__\u001b[39m\u001b[39m\"\u001b[39m)\n\u001b[1;32m    193\u001b[0m \u001b[39mdef\u001b[39;00m \u001b[39m__sub__\u001b[39m(\u001b[39mself\u001b[39m, other):\n\u001b[0;32m--> 194\u001b[0m     \u001b[39mreturn\u001b[39;00m \u001b[39mself\u001b[39;49m\u001b[39m.\u001b[39;49m_arith_method(other, operator\u001b[39m.\u001b[39;49msub)\n",
      "File \u001b[0;32m~/projetos/kaggle/.kaggle/lib/python3.10/site-packages/pandas/core/series.py:6135\u001b[0m, in \u001b[0;36mSeries._arith_method\u001b[0;34m(self, other, op)\u001b[0m\n\u001b[1;32m   6133\u001b[0m \u001b[39mdef\u001b[39;00m \u001b[39m_arith_method\u001b[39m(\u001b[39mself\u001b[39m, other, op):\n\u001b[1;32m   6134\u001b[0m     \u001b[39mself\u001b[39m, other \u001b[39m=\u001b[39m \u001b[39mself\u001b[39m\u001b[39m.\u001b[39m_align_for_op(other)\n\u001b[0;32m-> 6135\u001b[0m     \u001b[39mreturn\u001b[39;00m base\u001b[39m.\u001b[39;49mIndexOpsMixin\u001b[39m.\u001b[39;49m_arith_method(\u001b[39mself\u001b[39;49m, other, op)\n",
      "File \u001b[0;32m~/projetos/kaggle/.kaggle/lib/python3.10/site-packages/pandas/core/base.py:1372\u001b[0m, in \u001b[0;36mIndexOpsMixin._arith_method\u001b[0;34m(self, other, op)\u001b[0m\n\u001b[1;32m   1371\u001b[0m \u001b[39mdef\u001b[39;00m \u001b[39m_arith_method\u001b[39m(\u001b[39mself\u001b[39m, other, op):\n\u001b[0;32m-> 1372\u001b[0m     res_name \u001b[39m=\u001b[39m ops\u001b[39m.\u001b[39;49mget_op_result_name(\u001b[39mself\u001b[39;49m, other)\n\u001b[1;32m   1374\u001b[0m     lvalues \u001b[39m=\u001b[39m \u001b[39mself\u001b[39m\u001b[39m.\u001b[39m_values\n\u001b[1;32m   1375\u001b[0m     rvalues \u001b[39m=\u001b[39m extract_array(other, extract_numpy\u001b[39m=\u001b[39m\u001b[39mTrue\u001b[39;00m, extract_range\u001b[39m=\u001b[39m\u001b[39mTrue\u001b[39;00m)\n",
      "\u001b[0;31mKeyboardInterrupt\u001b[0m: "
     ]
    }
   ],
   "source": [
    "df = pd.read_csv(\"data/scores.csv\")\n",
    "\n",
    "for i, split in enumerate(np.array_split(df, 10)):\n",
    "    print(i)\n",
    "    with tf.io.TFRecordWriter(f\"{PASTA_FOURIER}data_{i}\") as writer:\n",
    "        split.apply(lambda x: score_data(x, writer), axis=1)\n"
   ]
  },
  {
   "cell_type": "markdown",
   "metadata": {},
   "source": []
  }
 ],
 "metadata": {
  "kernelspec": {
   "display_name": ".kaggle",
   "language": "python",
   "name": "python3"
  },
  "language_info": {
   "codemirror_mode": {
    "name": "ipython",
    "version": 3
   },
   "file_extension": ".py",
   "mimetype": "text/x-python",
   "name": "python",
   "nbconvert_exporter": "python",
   "pygments_lexer": "ipython3",
   "version": "3.10.12"
  }
 },
 "nbformat": 4,
 "nbformat_minor": 2
}
