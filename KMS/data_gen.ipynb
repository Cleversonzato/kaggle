{
 "cells": [
  {
   "cell_type": "code",
   "execution_count": 1,
   "metadata": {},
   "outputs": [
    {
     "name": "stderr",
     "output_type": "stream",
     "text": [
      "2024-04-14 20:53:42.449678: I external/local_tsl/tsl/cuda/cudart_stub.cc:32] Could not find cuda drivers on your machine, GPU will not be used.\n",
      "2024-04-14 20:53:42.597262: I external/local_tsl/tsl/cuda/cudart_stub.cc:32] Could not find cuda drivers on your machine, GPU will not be used.\n",
      "2024-04-14 20:53:43.158079: I tensorflow/core/platform/cpu_feature_guard.cc:210] This TensorFlow binary is optimized to use available CPU instructions in performance-critical operations.\n",
      "To enable the following instructions: AVX2 FMA, in other operations, rebuild TensorFlow with the appropriate compiler flags.\n",
      "2024-04-14 20:53:44.551878: W tensorflow/compiler/tf2tensorrt/utils/py_utils.cc:38] TF-TRT Warning: Could not find TensorRT\n"
     ]
    }
   ],
   "source": [
    "import numpy as np\n",
    "import pandas as pd\n",
    "import matplotlib.pyplot as plt\n",
    "import tensorflow as tf"
   ]
  },
  {
   "cell_type": "code",
   "execution_count": 2,
   "metadata": {},
   "outputs": [],
   "source": [
    "PASTA_EEG = \"data/train_eegs/\"\n",
    "PASTA_FOURIER = \"data/fourier/\"\n",
    "SPS = 200 #samples per second\n",
    "\n",
    "frame_size = SPS\n",
    "half_frame = frame_size//2\n",
    "hop = (frame_size//2) * 4\n",
    "frequency_bins = (SPS//2) +1\n",
    "sampling_rate = SPS"
   ]
  },
  {
   "cell_type": "code",
   "execution_count": 63,
   "metadata": {},
   "outputs": [],
   "source": [
    "def get_data(eeg):\n",
    "    return pd.read_parquet(f'data/train_eegs/{eeg}.parquet', engine='pyarrow')\n",
    "\n",
    "\n",
    "def generate_fourier(df, i, frame_size=frame_size, half_frame=half_frame):\n",
    "    r_i = []\n",
    "    for c in df.columns:\n",
    "        f = np.fft.fft(  df[c][i:i+frame_size] - df[c][i:i+frame_size].mean() )\n",
    "        r_i.append( np.stack([\n",
    "                abs(f.real[:half_frame])/half_frame, \n",
    "                abs(f.imag[:half_frame])/half_frame\n",
    "            ], axis=1\n",
    "        ))\n",
    "\n",
    "    return np.asarray(r_i)\n",
    "\n",
    "\n",
    "def get_start_end(row, pos, max_size):\n",
    "    if pos == len(row['janelas']):\n",
    "        return max_size, max_size\n",
    "\n",
    "    j = row['janelas'].split(',')[0].split('-')\n",
    "    \n",
    "    return float(j[0])*2, float(j[1])*2\n",
    "\n",
    "\n",
    "def score_data(row, writer, hop=hop):\n",
    "    df_data = get_data(row['eeg_id'])\n",
    "    max_size = df_data.shape[0]\n",
    "    j_pos = 0\n",
    "    start, end = get_start_end(row, j_pos, max_size)\n",
    "\n",
    "    for i in range(0, max_size-hop, hop):\n",
    "        fourier = generate_fourier(df_data, i)\n",
    "\n",
    "        if end < i:\n",
    "            j_pos += 1\n",
    "            start, end = get_start_end(row, j_pos, max_size)\n",
    "\n",
    "        if i >= start and i <= end:\n",
    "            scores = [row['seizure_vote'],row['lpd_vote'],row['gpd_vote'],row['lrda_vote'],row['grda_vote'],row['other_vote'], 0.0 ] \n",
    "        else:\n",
    "            scores = [0.0, 0.0, 0.0, 0.0, 0.0, 0.0, 1.0] \n",
    "\n",
    "\n",
    "        writer.write(\n",
    "            tf.train.Example(features=tf.train.Features(feature={\n",
    "                \"label\": tf.train.Feature(float_list=tf.train.FloatList(value=scores)),\n",
    "                \"data\": tf.train.Feature(float_list=tf.train.FloatList(value=fourier.reshape(4000) ))\n",
    "            })).SerializeToString()\n",
    "        )\n",
    "\n"
   ]
  },
  {
   "cell_type": "code",
   "execution_count": 10,
   "metadata": {},
   "outputs": [],
   "source": [
    "df = pd.read_csv(\"data/scores.csv\")\n",
    "\n",
    "for i, split in enumerate(np.array_split(df, 10)):\n",
    "    print(i)\n",
    "    with tf.io.TFRecordWriter(f\"{PASTA_FOURIER}data_{i}\") as writer:\n",
    "        split.apply(lambda x: score_data(x, writer), axis=1)"
   ]
  },
  {
   "cell_type": "markdown",
   "metadata": {},
   "source": []
  }
 ],
 "metadata": {
  "kernelspec": {
   "display_name": ".kaggle",
   "language": "python",
   "name": "python3"
  },
  "language_info": {
   "codemirror_mode": {
    "name": "ipython",
    "version": 3
   },
   "file_extension": ".py",
   "mimetype": "text/x-python",
   "name": "python",
   "nbconvert_exporter": "python",
   "pygments_lexer": "ipython3",
   "version": "3.10.12"
  }
 },
 "nbformat": 4,
 "nbformat_minor": 2
}
