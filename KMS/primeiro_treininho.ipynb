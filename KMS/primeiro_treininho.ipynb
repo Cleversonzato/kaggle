{
 "cells": [
  {
   "cell_type": "code",
   "execution_count": 1,
   "metadata": {},
   "outputs": [
    {
     "name": "stderr",
     "output_type": "stream",
     "text": [
      "2024-03-20 20:22:07.355142: E external/local_xla/xla/stream_executor/cuda/cuda_dnn.cc:9261] Unable to register cuDNN factory: Attempting to register factory for plugin cuDNN when one has already been registered\n",
      "2024-03-20 20:22:07.355372: E external/local_xla/xla/stream_executor/cuda/cuda_fft.cc:607] Unable to register cuFFT factory: Attempting to register factory for plugin cuFFT when one has already been registered\n",
      "2024-03-20 20:22:07.461034: E external/local_xla/xla/stream_executor/cuda/cuda_blas.cc:1515] Unable to register cuBLAS factory: Attempting to register factory for plugin cuBLAS when one has already been registered\n",
      "2024-03-20 20:22:07.676705: I tensorflow/core/platform/cpu_feature_guard.cc:182] This TensorFlow binary is optimized to use available CPU instructions in performance-critical operations.\n",
      "To enable the following instructions: AVX2 FMA, in other operations, rebuild TensorFlow with the appropriate compiler flags.\n",
      "2024-03-20 20:22:09.016355: W tensorflow/compiler/tf2tensorrt/utils/py_utils.cc:38] TF-TRT Warning: Could not find TensorRT\n"
     ]
    }
   ],
   "source": [
    "import numpy as np\n",
    "import pandas as pd\n",
    "import tensorflow as tf\n",
    "from tensorflow.keras import datasets, layers, models, losses, callbacks"
   ]
  },
  {
   "cell_type": "code",
   "execution_count": 2,
   "metadata": {},
   "outputs": [],
   "source": [
    "MODEL_NAME = \"primeiro_treino\"\n",
    "PASTA_FOURIER = \"data/fourier/\"\n",
    "SPS = 200"
   ]
  },
  {
   "cell_type": "code",
   "execution_count": 3,
   "metadata": {},
   "outputs": [],
   "source": [
    "df = pd.read_csv('data/scores.csv')"
   ]
  },
  {
   "cell_type": "code",
   "execution_count": 4,
   "metadata": {},
   "outputs": [],
   "source": [
    "df = df.sample(frac=1, random_state=200)"
   ]
  },
  {
   "cell_type": "code",
   "execution_count": 5,
   "metadata": {},
   "outputs": [],
   "source": [
    "df_val = df.head(2700)\n",
    "df_train = df.tail( df.shape[0]- 2700 )"
   ]
  },
  {
   "cell_type": "code",
   "execution_count": 189,
   "metadata": {},
   "outputs": [],
   "source": [
    "def get_data(eeg):\n",
    "    return np.load(PASTA_FOURIER+str(eeg)+\".npy\")\n",
    "\n",
    "\n",
    "def get_start_end(row, pos, max_size):\n",
    "    if pos == len(row['janelas']):\n",
    "        return max_size, max_size\n",
    "\n",
    "    j = row['janelas'].split(',')[0].split('-')\n",
    "    return float(j[0])*2, float(j[1])*2\n",
    "\n",
    "def score_data(row):\n",
    "    data = get_data(row['eeg_id'])\n",
    "    max_size = data.shape[0]\n",
    "    scores = [] \n",
    "    j_pos = 0\n",
    "    start, end = get_start_end(row, j_pos, max_size)\n",
    "\n",
    "    for i in range(max_size):\n",
    "        if end < i:\n",
    "            j_pos += 1\n",
    "            start, end = get_start_end(row, j_pos, max_size)\n",
    "\n",
    "        if i >= start and i <= end:\n",
    "            scores.append( [row['seizure_vote'],row['lpd_vote'],row['gpd_vote'],row['lrda_vote'],row['grda_vote'],row['other_vote'] ] )\n",
    "        else:\n",
    "            scores.append( [0.0, 0.0, 0.0, 0.0, 0.0, 0.0] )\n",
    "\n",
    "\n",
    "    return data, scores\n"
   ]
  },
  {
   "cell_type": "code",
   "execution_count": 190,
   "metadata": {},
   "outputs": [],
   "source": [
    "def get_scored_data():\n",
    "    for i, row in df_train.iterrows():\n",
    "        yield( score_data(row) )\n"
   ]
  },
  {
   "cell_type": "code",
   "execution_count": 191,
   "metadata": {},
   "outputs": [],
   "source": [
    "model = models.Sequential()\n",
    "model.add(layers.Conv2D(1, (2, 2), activation='relu', input_shape=(20, 200, 1)))\n",
    "model.add(layers.MaxPooling2D((2, 2)))\n",
    "model.add(layers.Flatten())\n",
    "model.add(layers.Dense(60, activation='relu'))\n",
    "model.add(layers.Dense(6, activation='sigmoid'))\n"
   ]
  },
  {
   "cell_type": "code",
   "execution_count": 192,
   "metadata": {},
   "outputs": [
    {
     "name": "stdout",
     "output_type": "stream",
     "text": [
      "Model: \"sequential_40\"\n",
      "_________________________________________________________________\n",
      " Layer (type)                Output Shape              Param #   \n",
      "=================================================================\n",
      " conv2d_41 (Conv2D)          (None, 19, 199, 1)        5         \n",
      "                                                                 \n",
      " max_pooling2d_20 (MaxPooli  (None, 9, 99, 1)          0         \n",
      " ng2D)                                                           \n",
      "                                                                 \n",
      " flatten_34 (Flatten)        (None, 891)               0         \n",
      "                                                                 \n",
      " dense_64 (Dense)            (None, 60)                53520     \n",
      "                                                                 \n",
      " dense_65 (Dense)            (None, 6)                 366       \n",
      "                                                                 \n",
      "=================================================================\n",
      "Total params: 53891 (210.51 KB)\n",
      "Trainable params: 53891 (210.51 KB)\n",
      "Non-trainable params: 0 (0.00 Byte)\n",
      "_________________________________________________________________\n"
     ]
    }
   ],
   "source": [
    "model.summary()"
   ]
  },
  {
   "cell_type": "code",
   "execution_count": 193,
   "metadata": {},
   "outputs": [
    {
     "ename": "AttributeError",
     "evalue": "'list' object has no attribute 'shape'",
     "output_type": "error",
     "traceback": [
      "\u001b[0;31m---------------------------------------------------------------------------\u001b[0m",
      "\u001b[0;31mAttributeError\u001b[0m                            Traceback (most recent call last)",
      "\u001b[1;32m/home/cleverson/projetos/kaggle/KMS/primeiro_treininho.ipynb Cell 10\u001b[0m line \u001b[0;36m1\n\u001b[0;32m----> <a href='vscode-notebook-cell:/home/cleverson/projetos/kaggle/KMS/primeiro_treininho.ipynb#X22sZmlsZQ%3D%3D?line=0'>1</a>\u001b[0m \u001b[39mnext\u001b[39;49m(get_scored_data())[\u001b[39m1\u001b[39;49m]\u001b[39m.\u001b[39;49mshape\n",
      "\u001b[0;31mAttributeError\u001b[0m: 'list' object has no attribute 'shape'"
     ]
    }
   ],
   "source": [
    "next(get_scored_data())[1].shape"
   ]
  },
  {
   "cell_type": "code",
   "execution_count": 201,
   "metadata": {},
   "outputs": [],
   "source": [
    "model.compile(\n",
    "    optimizer = 'adam',\n",
    "    loss=tf.keras.losses.CategoricalCrossentropy()\n",
    ")"
   ]
  },
  {
   "cell_type": "code",
   "execution_count": 202,
   "metadata": {},
   "outputs": [],
   "source": [
    "train_data = tf.data.Dataset.from_generator(\n",
    "        get_scored_data,\n",
    "        output_signature = (\n",
    "            tf.TensorSpec(shape=(None, 20, 200), dtype=tf.float16),\n",
    "            tf.TensorSpec(shape=(None, 6), dtype=tf.float16)\n",
    "        )\n",
    "    )"
   ]
  },
  {
   "cell_type": "code",
   "execution_count": 203,
   "metadata": {},
   "outputs": [
    {
     "name": "stderr",
     "output_type": "stream",
     "text": [
      "2024-03-20 21:43:08.633333: I external/local_xla/xla/service/service.cc:168] XLA service 0x7f898c0136b0 initialized for platform CUDA (this does not guarantee that XLA will be used). Devices:\n",
      "2024-03-20 21:43:08.633373: I external/local_xla/xla/service/service.cc:176]   StreamExecutor device (0): Quadro M1000M, Compute Capability 5.0\n",
      "2024-03-20 21:43:08.657827: I tensorflow/compiler/mlir/tensorflow/utils/dump_mlir_util.cc:269] disabling MLIR crash reproducer, set env var `MLIR_CRASH_REPRODUCER_DIRECTORY` to enable.\n",
      "WARNING: All log messages before absl::InitializeLog() is called are written to STDERR\n",
      "I0000 00:00:1710967388.808040    5471 device_compiler.h:186] Compiled cluster using XLA!  This line is logged at most once for the lifetime of the process.\n"
     ]
    },
    {
     "name": "stdout",
     "output_type": "stream",
     "text": [
      "    656/Unknown - 48s 71ms/step - loss: 1.2443"
     ]
    }
   ],
   "source": [
    "\n",
    "history = model.fit(\n",
    "    train_data,\n",
    "    # epochs=10,\n",
    "    # batch_size=10,\n",
    "    # validation_split=0.2,\n",
    "    verbose= 1,\n",
    "    callbacks = [\n",
    "        callbacks.EarlyStopping(monitor=\"val_loss\", patience=2),\n",
    "        callbacks.ModelCheckpoint(MODEL_NAME, save_best_only = True)\n",
    "    ]\n",
    ")"
   ]
  },
  {
   "cell_type": "code",
   "execution_count": null,
   "metadata": {},
   "outputs": [],
   "source": [
    "history"
   ]
  },
  {
   "cell_type": "code",
   "execution_count": null,
   "metadata": {},
   "outputs": [],
   "source": []
  }
 ],
 "metadata": {
  "kernelspec": {
   "display_name": ".kaggle",
   "language": "python",
   "name": "python3"
  },
  "language_info": {
   "codemirror_mode": {
    "name": "ipython",
    "version": 3
   },
   "file_extension": ".py",
   "mimetype": "text/x-python",
   "name": "python",
   "nbconvert_exporter": "python",
   "pygments_lexer": "ipython3",
   "version": "3.11.6"
  }
 },
 "nbformat": 4,
 "nbformat_minor": 2
}
