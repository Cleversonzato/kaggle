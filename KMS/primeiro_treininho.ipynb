{
 "cells": [
  {
   "cell_type": "code",
   "execution_count": 2,
   "metadata": {},
   "outputs": [
    {
     "name": "stderr",
     "output_type": "stream",
     "text": [
      "2024-03-28 21:59:57.506047: E external/local_xla/xla/stream_executor/cuda/cuda_dnn.cc:9261] Unable to register cuDNN factory: Attempting to register factory for plugin cuDNN when one has already been registered\n",
      "2024-03-28 21:59:57.506094: E external/local_xla/xla/stream_executor/cuda/cuda_fft.cc:607] Unable to register cuFFT factory: Attempting to register factory for plugin cuFFT when one has already been registered\n",
      "2024-03-28 21:59:57.507466: E external/local_xla/xla/stream_executor/cuda/cuda_blas.cc:1515] Unable to register cuBLAS factory: Attempting to register factory for plugin cuBLAS when one has already been registered\n",
      "2024-03-28 21:59:57.515674: I tensorflow/core/platform/cpu_feature_guard.cc:182] This TensorFlow binary is optimized to use available CPU instructions in performance-critical operations.\n",
      "To enable the following instructions: AVX2 FMA, in other operations, rebuild TensorFlow with the appropriate compiler flags.\n",
      "2024-03-28 21:59:58.474604: W tensorflow/compiler/tf2tensorrt/utils/py_utils.cc:38] TF-TRT Warning: Could not find TensorRT\n"
     ]
    }
   ],
   "source": [
    "import numpy as np\n",
    "import pandas as pd\n",
    "import matplotlib.pyplot as plt\n",
    "import tensorflow as tf\n",
    "from tensorflow.keras import datasets, layers, models, losses, callbacks"
   ]
  },
  {
   "cell_type": "code",
   "execution_count": 11,
   "metadata": {},
   "outputs": [],
   "source": [
    "import os\n",
    "os.environ['CUDA_VISIBLE_DEVICES'] = '-1' #uses cpu\n"
   ]
  },
  {
   "cell_type": "code",
   "execution_count": 4,
   "metadata": {},
   "outputs": [],
   "source": [
    "MODEL_NAME = \"./treino/primeiro_treino\"\n",
    "PASTA_FOURIER = \"data/fourier/\"\n",
    "SPS = 200"
   ]
  },
  {
   "cell_type": "code",
   "execution_count": 5,
   "metadata": {},
   "outputs": [],
   "source": [
    "df = pd.read_csv('data/scores.csv')"
   ]
  },
  {
   "cell_type": "code",
   "execution_count": 6,
   "metadata": {},
   "outputs": [],
   "source": [
    "df = df.sample(frac=1, random_state=200)"
   ]
  },
  {
   "cell_type": "code",
   "execution_count": 7,
   "metadata": {},
   "outputs": [],
   "source": [
    "df_val = df.head(2700)\n",
    "df_train = df.tail( df.shape[0]- 2700 )"
   ]
  },
  {
   "cell_type": "code",
   "execution_count": 8,
   "metadata": {},
   "outputs": [],
   "source": [
    "def get_data(eeg):\n",
    "    return np.load(PASTA_FOURIER+str(eeg)+\".npy\")\n",
    "\n",
    "\n",
    "def get_start_end(row, pos, max_size):\n",
    "    if pos == len(row['janelas']):\n",
    "        return max_size, max_size\n",
    "\n",
    "    j = row['janelas'].split(',')[0].split('-')\n",
    "    return float(j[0])*2, float(j[1])*2\n",
    "\n",
    "def score_data(row):\n",
    "    data = get_data(row['eeg_id'])\n",
    "    max_size = data.shape[0]\n",
    "    scores = [] \n",
    "    j_pos = 0\n",
    "    start, end = get_start_end(row, j_pos, max_size)\n",
    "\n",
    "    for i in range(max_size):\n",
    "        if end < i:\n",
    "            j_pos += 1\n",
    "            start, end = get_start_end(row, j_pos, max_size)\n",
    "\n",
    "        if i >= start and i <= end:\n",
    "            scores.append( [row['seizure_vote'],row['lpd_vote'],row['gpd_vote'],row['lrda_vote'],row['grda_vote'],row['other_vote'] ] )\n",
    "        else:\n",
    "            scores.append( [0.0, 0.0, 0.0, 0.0, 0.0, 0.0] )\n",
    "\n",
    "\n",
    "    return np.expand_dims(data, -1), scores\n"
   ]
  },
  {
   "cell_type": "code",
   "execution_count": 9,
   "metadata": {},
   "outputs": [],
   "source": [
    "def get_scored_train_data():\n",
    "    for i, row in df_train.iterrows():\n",
    "        yield( score_data(row) )\n",
    "\n",
    "def get_scored_val_data():\n",
    "    for i, row in df_val.iterrows():\n",
    "        yield( score_data(row) )\n"
   ]
  },
  {
   "cell_type": "code",
   "execution_count": 15,
   "metadata": {},
   "outputs": [],
   "source": [
    "# reg = tf.keras.regularizers.L1L2(l1=1, l2=1)\n",
    "# reg = tf.keras.regularizers.l1()\n",
    "# reg = tf.keras.regularizers.L2(l2=0.00000001)\n",
    "reg=None\n",
    "act = \"relu\"\n",
    "\n",
    "model = models.Sequential()\n",
    "model.add(layers.Conv2D(16, (2, 2), activation=act, kernel_regularizer=reg, input_shape=(20, 200, 1)))\n",
    "model.add(layers.MaxPooling2D((2, 20)))\n",
    "model.add(layers.Conv2D(32, (2, 2), activation=act, kernel_regularizer=reg))\n",
    "model.add(layers.MaxPooling2D((2, 2)))\n",
    "model.add(layers.Conv2D(32, (2, 2), activation=act, kernel_regularizer=reg))\n",
    "model.add(layers.MaxPooling2D((2, 2)))\n",
    "model.add(layers.Flatten())\n",
    "model.add(layers.Dense(500, activation=act, kernel_regularizer=reg))\n",
    "model.add(layers.Dense(60, activation=act, kernel_regularizer=reg))\n",
    "model.add(layers.Dense(6, activation='softmax'))\n"
   ]
  },
  {
   "cell_type": "code",
   "execution_count": 13,
   "metadata": {},
   "outputs": [],
   "source": [
    "model=tf.keras.models.load_model(MODEL_NAME)"
   ]
  },
  {
   "cell_type": "code",
   "execution_count": 14,
   "metadata": {},
   "outputs": [
    {
     "name": "stdout",
     "output_type": "stream",
     "text": [
      "Model: \"sequential_4\"\n",
      "_________________________________________________________________\n",
      " Layer (type)                Output Shape              Param #   \n",
      "=================================================================\n",
      " conv2d_10 (Conv2D)          (None, 19, 199, 16)       80        \n",
      "                                                                 \n",
      " max_pooling2d_9 (MaxPoolin  (None, 9, 9, 16)          0         \n",
      " g2D)                                                            \n",
      "                                                                 \n",
      " conv2d_11 (Conv2D)          (None, 8, 8, 32)          2080      \n",
      "                                                                 \n",
      " max_pooling2d_10 (MaxPooli  (None, 4, 4, 32)          0         \n",
      " ng2D)                                                           \n",
      "                                                                 \n",
      " conv2d_12 (Conv2D)          (None, 3, 3, 32)          4128      \n",
      "                                                                 \n",
      " max_pooling2d_11 (MaxPooli  (None, 1, 1, 32)          0         \n",
      " ng2D)                                                           \n",
      "                                                                 \n",
      " flatten_3 (Flatten)         (None, 32)                0         \n",
      "                                                                 \n",
      " dense_10 (Dense)            (None, 500)               16500     \n",
      "                                                                 \n",
      " dense_11 (Dense)            (None, 60)                30060     \n",
      "                                                                 \n",
      " dense_12 (Dense)            (None, 6)                 366       \n",
      "                                                                 \n",
      "=================================================================\n",
      "Total params: 53214 (207.87 KB)\n",
      "Trainable params: 53214 (207.87 KB)\n",
      "Non-trainable params: 0 (0.00 Byte)\n",
      "_________________________________________________________________\n"
     ]
    }
   ],
   "source": [
    "model.summary()"
   ]
  },
  {
   "cell_type": "code",
   "execution_count": 16,
   "metadata": {},
   "outputs": [],
   "source": [
    "train_data = tf.data.Dataset.from_generator(\n",
    "        get_scored_train_data,\n",
    "        output_signature = (\n",
    "            tf.TensorSpec(shape=(None, 20, 200,1), dtype=tf.float32),\n",
    "            tf.TensorSpec(shape=(None, 6), dtype=tf.float32)\n",
    "        )\n",
    "    )\n",
    "\n",
    "val_data = tf.data.Dataset.from_generator(\n",
    "        get_scored_val_data,\n",
    "        output_signature = (\n",
    "            tf.TensorSpec(shape=(None, 20, 200,1), dtype=tf.float32),\n",
    "            tf.TensorSpec(shape=(None, 6), dtype=tf.float32)\n",
    "        )\n",
    "    )"
   ]
  },
  {
   "cell_type": "code",
   "execution_count": 17,
   "metadata": {},
   "outputs": [],
   "source": [
    "model.compile(\n",
    "    optimizer = tf.keras.optimizers.Adam(learning_rate=0.0001),\n",
    "    loss=tf.keras.losses.CategoricalCrossentropy()\n",
    ")"
   ]
  },
  {
   "cell_type": "code",
   "execution_count": null,
   "metadata": {},
   "outputs": [],
   "source": []
  },
  {
   "cell_type": "code",
   "execution_count": 18,
   "metadata": {},
   "outputs": [
    {
     "name": "stderr",
     "output_type": "stream",
     "text": [
      "2024-03-28 22:00:23.147670: I external/local_xla/xla/stream_executor/cuda/cuda_dnn.cc:454] Loaded cuDNN version 8904\n",
      "2024-03-28 22:00:23.351388: I external/local_tsl/tsl/platform/default/subprocess.cc:304] Start cannot spawn child process: No such file or directory\n",
      "2024-03-28 22:00:24.115408: I external/local_tsl/tsl/platform/default/subprocess.cc:304] Start cannot spawn child process: No such file or directory\n",
      "2024-03-28 22:00:24.225414: I external/local_xla/xla/service/service.cc:168] XLA service 0x7ab9d43212c0 initialized for platform CUDA (this does not guarantee that XLA will be used). Devices:\n",
      "2024-03-28 22:00:24.225448: I external/local_xla/xla/service/service.cc:176]   StreamExecutor device (0): Quadro M1000M, Compute Capability 5.0\n",
      "2024-03-28 22:00:24.242056: I tensorflow/compiler/mlir/tensorflow/utils/dump_mlir_util.cc:269] disabling MLIR crash reproducer, set env var `MLIR_CRASH_REPRODUCER_DIRECTORY` to enable.\n",
      "WARNING: All log messages before absl::InitializeLog() is called are written to STDERR\n",
      "I0000 00:00:1711659624.390312    3824 device_compiler.h:186] Compiled cluster using XLA!  This line is logged at most once for the lifetime of the process.\n"
     ]
    },
    {
     "name": "stdout",
     "output_type": "stream",
     "text": [
      "  38/2700 [..............................] - ETA: 25:50 - loss: 1.5015"
     ]
    },
    {
     "name": "stderr",
     "output_type": "stream",
     "text": [
      "2024-03-28 22:00:47.886776: W external/local_tsl/tsl/framework/bfc_allocator.cc:296] Allocator (GPU_0_bfc) ran out of memory trying to allocate 1.14GiB with freed_by_count=0. The caller indicates that this is not a failure, but this may mean that there could be performance gains if more memory were available.\n",
      "2024-03-28 22:00:47.886817: W tensorflow/core/kernels/gpu_utils.cc:54] Failed to allocate memory for convolution redzone checking; skipping this check. This is benign and only means that we won't check cudnn for out-of-bounds reads and writes. This message will only be printed once.\n",
      "2024-03-28 22:00:48.990226: W external/local_tsl/tsl/framework/bfc_allocator.cc:296] Allocator (GPU_0_bfc) ran out of memory trying to allocate 719.23MiB with freed_by_count=0. The caller indicates that this is not a failure, but this may mean that there could be performance gains if more memory were available.\n",
      "2024-03-28 22:00:50.090916: W external/local_tsl/tsl/framework/bfc_allocator.cc:296] Allocator (GPU_0_bfc) ran out of memory trying to allocate 719.23MiB with freed_by_count=0. The caller indicates that this is not a failure, but this may mean that there could be performance gains if more memory were available.\n",
      "2024-03-28 22:00:50.281234: W external/local_tsl/tsl/framework/bfc_allocator.cc:296] Allocator (GPU_0_bfc) ran out of memory trying to allocate 1010.83MiB with freed_by_count=0. The caller indicates that this is not a failure, but this may mean that there could be performance gains if more memory were available.\n",
      "2024-03-28 22:00:50.281286: W external/local_tsl/tsl/framework/bfc_allocator.cc:296] Allocator (GPU_0_bfc) ran out of memory trying to allocate 366.38MiB with freed_by_count=0. The caller indicates that this is not a failure, but this may mean that there could be performance gains if more memory were available.\n",
      "2024-03-28 22:00:50.334271: W external/local_tsl/tsl/framework/bfc_allocator.cc:296] Allocator (GPU_0_bfc) ran out of memory trying to allocate 1010.83MiB with freed_by_count=0. The caller indicates that this is not a failure, but this may mean that there could be performance gains if more memory were available.\n",
      "2024-03-28 22:00:50.334374: W external/local_tsl/tsl/framework/bfc_allocator.cc:296] Allocator (GPU_0_bfc) ran out of memory trying to allocate 366.38MiB with freed_by_count=0. The caller indicates that this is not a failure, but this may mean that there could be performance gains if more memory were available.\n",
      "2024-03-28 22:00:50.366099: W external/local_tsl/tsl/framework/bfc_allocator.cc:296] Allocator (GPU_0_bfc) ran out of memory trying to allocate 1.31GiB with freed_by_count=0. The caller indicates that this is not a failure, but this may mean that there could be performance gains if more memory were available.\n",
      "2024-03-28 22:00:50.366152: W external/local_tsl/tsl/framework/bfc_allocator.cc:296] Allocator (GPU_0_bfc) ran out of memory trying to allocate 368.63MiB with freed_by_count=0. The caller indicates that this is not a failure, but this may mean that there could be performance gains if more memory were available.\n",
      "2024-03-28 22:00:50.393390: W external/local_tsl/tsl/framework/bfc_allocator.cc:296] Allocator (GPU_0_bfc) ran out of memory trying to allocate 1.31GiB with freed_by_count=0. The caller indicates that this is not a failure, but this may mean that there could be performance gains if more memory were available.\n",
      "2024-03-28 22:01:01.114173: W external/local_tsl/tsl/framework/bfc_allocator.cc:485] Allocator (GPU_0_bfc) ran out of memory trying to allocate 1.12GiB (rounded to 1205806336)requested by op gradient_tape/sequential_2/max_pooling2d_6/MaxPool/MaxPoolGrad\n",
      "If the cause is memory fragmentation maybe the environment variable 'TF_GPU_ALLOCATOR=cuda_malloc_async' will improve the situation. \n",
      "Current allocation summary follows.\n",
      "Current allocation summary follows.\n",
      "2024-03-28 22:01:01.114286: I external/local_tsl/tsl/framework/bfc_allocator.cc:1039] BFCAllocator dump for GPU_0_bfc\n",
      "2024-03-28 22:01:01.114331: I external/local_tsl/tsl/framework/bfc_allocator.cc:1046] Bin (256): \tTotal Chunks: 46, Chunks in use: 45. 11.5KiB allocated for chunks. 11.2KiB in use in bin. 2.7KiB client-requested in use in bin.\n",
      "2024-03-28 22:01:01.114369: I external/local_tsl/tsl/framework/bfc_allocator.cc:1046] Bin (512): \tTotal Chunks: 1, Chunks in use: 0. 768B allocated for chunks. 0B in use in bin. 0B client-requested in use in bin.\n",
      "2024-03-28 22:01:01.114405: I external/local_tsl/tsl/framework/bfc_allocator.cc:1046] Bin (1024): \tTotal Chunks: 3, Chunks in use: 3. 4.2KiB allocated for chunks. 4.2KiB in use in bin. 3.8KiB client-requested in use in bin.\n",
      "2024-03-28 22:01:01.114442: I external/local_tsl/tsl/framework/bfc_allocator.cc:1046] Bin (2048): \tTotal Chunks: 5, Chunks in use: 4. 12.2KiB allocated for chunks. 10.2KiB in use in bin. 7.3KiB client-requested in use in bin.\n",
      "2024-03-28 22:01:01.114476: I external/local_tsl/tsl/framework/bfc_allocator.cc:1046] Bin (4096): \tTotal Chunks: 2, Chunks in use: 0. 10.0KiB allocated for chunks. 0B in use in bin. 0B client-requested in use in bin.\n",
      "2024-03-28 22:01:01.114513: I external/local_tsl/tsl/framework/bfc_allocator.cc:1046] Bin (8192): \tTotal Chunks: 5, Chunks in use: 4. 46.5KiB allocated for chunks. 35.8KiB in use in bin. 32.0KiB client-requested in use in bin.\n",
      "2024-03-28 22:01:01.114550: I external/local_tsl/tsl/framework/bfc_allocator.cc:1046] Bin (16384): \tTotal Chunks: 5, Chunks in use: 3. 94.2KiB allocated for chunks. 62.2KiB in use in bin. 48.0KiB client-requested in use in bin.\n",
      "2024-03-28 22:01:01.114615: I external/local_tsl/tsl/framework/bfc_allocator.cc:1046] Bin (32768): \tTotal Chunks: 1, Chunks in use: 1. 62.5KiB allocated for chunks. 62.5KiB in use in bin. 62.5KiB client-requested in use in bin.\n",
      "2024-03-28 22:01:01.114696: I external/local_tsl/tsl/framework/bfc_allocator.cc:1046] Bin (65536): \tTotal Chunks: 7, Chunks in use: 4. 743.8KiB allocated for chunks. 384.2KiB in use in bin. 359.4KiB client-requested in use in bin.\n",
      "2024-03-28 22:01:01.114754: I external/local_tsl/tsl/framework/bfc_allocator.cc:1046] Bin (131072): \tTotal Chunks: 2, Chunks in use: 1. 453.2KiB allocated for chunks. 230.5KiB in use in bin. 117.2KiB client-requested in use in bin.\n",
      "2024-03-28 22:01:01.114788: I external/local_tsl/tsl/framework/bfc_allocator.cc:1046] Bin (262144): \tTotal Chunks: 0, Chunks in use: 0. 0B allocated for chunks. 0B in use in bin. 0B client-requested in use in bin.\n",
      "2024-03-28 22:01:01.114821: I external/local_tsl/tsl/framework/bfc_allocator.cc:1046] Bin (524288): \tTotal Chunks: 0, Chunks in use: 0. 0B allocated for chunks. 0B in use in bin. 0B client-requested in use in bin.\n",
      "2024-03-28 22:01:01.114854: I external/local_tsl/tsl/framework/bfc_allocator.cc:1046] Bin (1048576): \tTotal Chunks: 0, Chunks in use: 0. 0B allocated for chunks. 0B in use in bin. 0B client-requested in use in bin.\n",
      "2024-03-28 22:01:01.114888: I external/local_tsl/tsl/framework/bfc_allocator.cc:1046] Bin (2097152): \tTotal Chunks: 0, Chunks in use: 0. 0B allocated for chunks. 0B in use in bin. 0B client-requested in use in bin.\n",
      "2024-03-28 22:01:01.114921: I external/local_tsl/tsl/framework/bfc_allocator.cc:1046] Bin (4194304): \tTotal Chunks: 0, Chunks in use: 0. 0B allocated for chunks. 0B in use in bin. 0B client-requested in use in bin.\n",
      "2024-03-28 22:01:01.114953: I external/local_tsl/tsl/framework/bfc_allocator.cc:1046] Bin (8388608): \tTotal Chunks: 0, Chunks in use: 0. 0B allocated for chunks. 0B in use in bin. 0B client-requested in use in bin.\n",
      "2024-03-28 22:01:01.114991: I external/local_tsl/tsl/framework/bfc_allocator.cc:1046] Bin (16777216): \tTotal Chunks: 3, Chunks in use: 2. 73.91MiB allocated for chunks. 49.27MiB in use in bin. 49.27MiB client-requested in use in bin.\n",
      "2024-03-28 22:01:01.115024: I external/local_tsl/tsl/framework/bfc_allocator.cc:1046] Bin (33554432): \tTotal Chunks: 0, Chunks in use: 0. 0B allocated for chunks. 0B in use in bin. 0B client-requested in use in bin.\n",
      "2024-03-28 22:01:01.115061: I external/local_tsl/tsl/framework/bfc_allocator.cc:1046] Bin (67108864): \tTotal Chunks: 1, Chunks in use: 1. 76.03MiB allocated for chunks. 76.03MiB in use in bin. 76.03MiB client-requested in use in bin.\n",
      "2024-03-28 22:01:01.115094: I external/local_tsl/tsl/framework/bfc_allocator.cc:1046] Bin (134217728): \tTotal Chunks: 0, Chunks in use: 0. 0B allocated for chunks. 0B in use in bin. 0B client-requested in use in bin.\n",
      "2024-03-28 22:01:01.115129: I external/local_tsl/tsl/framework/bfc_allocator.cc:1046] Bin (268435456): \tTotal Chunks: 2, Chunks in use: 1. 1.50GiB allocated for chunks. 1.12GiB in use in bin. 1.12GiB client-requested in use in bin.\n",
      "2024-03-28 22:01:01.115164: I external/local_tsl/tsl/framework/bfc_allocator.cc:1062] Bin for 1.12GiB was 256.00MiB, Chunk State: \n",
      "2024-03-28 22:01:01.115209: I external/local_tsl/tsl/framework/bfc_allocator.cc:1068]   Size: 387.96MiB | Requested Size: 16.00MiB | in_use: 0 | bin_num: 20, prev:   Size: 24.63MiB | Requested Size: 24.63MiB | in_use: 1 | bin_num: -1\n",
      "2024-03-28 22:01:01.115241: I external/local_tsl/tsl/framework/bfc_allocator.cc:1075] Next region of size 1771307008\n",
      "2024-03-28 22:01:01.115270: I external/local_tsl/tsl/framework/bfc_allocator.cc:1095] InUse at 701920000 of size 256 next 1\n",
      "2024-03-28 22:01:01.115297: I external/local_tsl/tsl/framework/bfc_allocator.cc:1095] InUse at 701920100 of size 1280 next 2\n",
      "2024-03-28 22:01:01.115321: I external/local_tsl/tsl/framework/bfc_allocator.cc:1095] InUse at 701920600 of size 256 next 3\n",
      "2024-03-28 22:01:01.115345: I external/local_tsl/tsl/framework/bfc_allocator.cc:1095] InUse at 701920700 of size 256 next 4\n",
      "2024-03-28 22:01:01.115369: I external/local_tsl/tsl/framework/bfc_allocator.cc:1095] InUse at 701920800 of size 256 next 6\n",
      "2024-03-28 22:01:01.115393: I external/local_tsl/tsl/framework/bfc_allocator.cc:1095] InUse at 701920900 of size 256 next 5\n",
      "2024-03-28 22:01:01.115424: I external/local_tsl/tsl/framework/bfc_allocator.cc:1095] InUse at 701920a00 of size 256 next 7\n",
      "2024-03-28 22:01:01.115449: I external/local_tsl/tsl/framework/bfc_allocator.cc:1095] InUse at 701920b00 of size 256 next 8\n",
      "2024-03-28 22:01:01.115473: I external/local_tsl/tsl/framework/bfc_allocator.cc:1095] InUse at 701920c00 of size 256 next 9\n",
      "2024-03-28 22:01:01.115497: I external/local_tsl/tsl/framework/bfc_allocator.cc:1095] InUse at 701920d00 of size 256 next 11\n",
      "2024-03-28 22:01:01.115521: I external/local_tsl/tsl/framework/bfc_allocator.cc:1095] InUse at 701920e00 of size 256 next 12\n",
      "2024-03-28 22:01:01.115545: I external/local_tsl/tsl/framework/bfc_allocator.cc:1095] InUse at 701920f00 of size 256 next 10\n",
      "2024-03-28 22:01:01.115569: I external/local_tsl/tsl/framework/bfc_allocator.cc:1095] InUse at 701921000 of size 256 next 17\n",
      "2024-03-28 22:01:01.115604: I external/local_tsl/tsl/framework/bfc_allocator.cc:1095] InUse at 701921100 of size 256 next 13\n",
      "2024-03-28 22:01:01.115652: I external/local_tsl/tsl/framework/bfc_allocator.cc:1095] InUse at 701921200 of size 256 next 16\n",
      "2024-03-28 22:01:01.115698: I external/local_tsl/tsl/framework/bfc_allocator.cc:1095] Free  at 701921300 of size 2048 next 22\n",
      "2024-03-28 22:01:01.115725: I external/local_tsl/tsl/framework/bfc_allocator.cc:1095] InUse at 701921b00 of size 256 next 20\n",
      "2024-03-28 22:01:01.115760: I external/local_tsl/tsl/framework/bfc_allocator.cc:1095] InUse at 701921c00 of size 256 next 21\n",
      "2024-03-28 22:01:01.115810: I external/local_tsl/tsl/framework/bfc_allocator.cc:1095] InUse at 701921d00 of size 256 next 25\n",
      "2024-03-28 22:01:01.115849: I external/local_tsl/tsl/framework/bfc_allocator.cc:1095] InUse at 701921e00 of size 256 next 26\n",
      "2024-03-28 22:01:01.115875: I external/local_tsl/tsl/framework/bfc_allocator.cc:1095] InUse at 701921f00 of size 256 next 29\n",
      "2024-03-28 22:01:01.115899: I external/local_tsl/tsl/framework/bfc_allocator.cc:1095] Free  at 701922000 of size 5888 next 42\n",
      "2024-03-28 22:01:01.115924: I external/local_tsl/tsl/framework/bfc_allocator.cc:1095] InUse at 701923700 of size 3584 next 49\n",
      "2024-03-28 22:01:01.115949: I external/local_tsl/tsl/framework/bfc_allocator.cc:1095] Free  at 701924500 of size 11008 next 15\n",
      "2024-03-28 22:01:01.115977: I external/local_tsl/tsl/framework/bfc_allocator.cc:1095] InUse at 701927000 of size 256 next 64\n",
      "2024-03-28 22:01:01.116001: I external/local_tsl/tsl/framework/bfc_allocator.cc:1095] InUse at 701927100 of size 256 next 65\n",
      "2024-03-28 22:01:01.116026: I external/local_tsl/tsl/framework/bfc_allocator.cc:1095] InUse at 701927200 of size 256 next 66\n",
      "2024-03-28 22:01:01.116050: I external/local_tsl/tsl/framework/bfc_allocator.cc:1095] InUse at 701927300 of size 256 next 67\n",
      "2024-03-28 22:01:01.116074: I external/local_tsl/tsl/framework/bfc_allocator.cc:1095] InUse at 701927400 of size 256 next 68\n",
      "2024-03-28 22:01:01.116098: I external/local_tsl/tsl/framework/bfc_allocator.cc:1095] InUse at 701927500 of size 256 next 90\n",
      "2024-03-28 22:01:01.116122: I external/local_tsl/tsl/framework/bfc_allocator.cc:1095] InUse at 701927600 of size 256 next 91\n",
      "2024-03-28 22:01:01.116146: I external/local_tsl/tsl/framework/bfc_allocator.cc:1095] InUse at 701927700 of size 256 next 94\n",
      "2024-03-28 22:01:01.116170: I external/local_tsl/tsl/framework/bfc_allocator.cc:1095] InUse at 701927800 of size 256 next 95\n",
      "2024-03-28 22:01:01.116194: I external/local_tsl/tsl/framework/bfc_allocator.cc:1095] Free  at 701927900 of size 768 next 63\n",
      "2024-03-28 22:01:01.116219: I external/local_tsl/tsl/framework/bfc_allocator.cc:1095] InUse at 701927c00 of size 2816 next 55\n",
      "2024-03-28 22:01:01.116242: I external/local_tsl/tsl/framework/bfc_allocator.cc:1095] InUse at 701928700 of size 256 next 61\n",
      "2024-03-28 22:01:01.116267: I external/local_tsl/tsl/framework/bfc_allocator.cc:1095] Free  at 701928800 of size 256 next 51\n",
      "2024-03-28 22:01:01.116290: I external/local_tsl/tsl/framework/bfc_allocator.cc:1095] InUse at 701928900 of size 256 next 62\n",
      "2024-03-28 22:01:01.116314: I external/local_tsl/tsl/framework/bfc_allocator.cc:1095] InUse at 701928a00 of size 9728 next 39\n",
      "2024-03-28 22:01:01.116339: I external/local_tsl/tsl/framework/bfc_allocator.cc:1095] InUse at 70192b000 of size 8192 next 38\n",
      "2024-03-28 22:01:01.116363: I external/local_tsl/tsl/framework/bfc_allocator.cc:1095] InUse at 70192d000 of size 8192 next 19\n",
      "2024-03-28 22:01:01.116387: I external/local_tsl/tsl/framework/bfc_allocator.cc:1095] Free  at 70192f000 of size 16384 next 18\n",
      "2024-03-28 22:01:01.116413: I external/local_tsl/tsl/framework/bfc_allocator.cc:1095] InUse at 701933000 of size 16384 next 52\n",
      "2024-03-28 22:01:01.116437: I external/local_tsl/tsl/framework/bfc_allocator.cc:1095] InUse at 701937000 of size 16384 next 53\n",
      "2024-03-28 22:01:01.116461: I external/local_tsl/tsl/framework/bfc_allocator.cc:1095] InUse at 70193b000 of size 256 next 74\n",
      "2024-03-28 22:01:01.116485: I external/local_tsl/tsl/framework/bfc_allocator.cc:1095] InUse at 70193b100 of size 30976 next 44\n",
      "2024-03-28 22:01:01.116510: I external/local_tsl/tsl/framework/bfc_allocator.cc:1095] Free  at 701942a00 of size 128000 next 23\n",
      "2024-03-28 22:01:01.116534: I external/local_tsl/tsl/framework/bfc_allocator.cc:1095] InUse at 701961e00 of size 256 next 87\n",
      "2024-03-28 22:01:01.116558: I external/local_tsl/tsl/framework/bfc_allocator.cc:1095] InUse at 701961f00 of size 256 next 88\n",
      "2024-03-28 22:01:01.116582: I external/local_tsl/tsl/framework/bfc_allocator.cc:1095] InUse at 701962000 of size 256 next 85\n",
      "2024-03-28 22:01:01.116605: I external/local_tsl/tsl/framework/bfc_allocator.cc:1095] InUse at 701962100 of size 256 next 78\n",
      "2024-03-28 22:01:01.116630: I external/local_tsl/tsl/framework/bfc_allocator.cc:1095] InUse at 701962200 of size 256 next 86\n",
      "2024-03-28 22:01:01.116653: I external/local_tsl/tsl/framework/bfc_allocator.cc:1095] InUse at 701962300 of size 256 next 71\n",
      "2024-03-28 22:01:01.116678: I external/local_tsl/tsl/framework/bfc_allocator.cc:1095] Free  at 701962400 of size 4352 next 84\n",
      "2024-03-28 22:01:01.116702: I external/local_tsl/tsl/framework/bfc_allocator.cc:1095] InUse at 701963500 of size 10496 next 41\n",
      "2024-03-28 22:01:01.116726: I external/local_tsl/tsl/framework/bfc_allocator.cc:1095] Free  at 701965e00 of size 16384 next 40\n",
      "2024-03-28 22:01:01.116750: I external/local_tsl/tsl/framework/bfc_allocator.cc:1095] InUse at 701969e00 of size 87296 next 28\n",
      "2024-03-28 22:01:01.116774: I external/local_tsl/tsl/framework/bfc_allocator.cc:1095] Free  at 70197f300 of size 120064 next 27\n",
      "2024-03-28 22:01:01.116799: I external/local_tsl/tsl/framework/bfc_allocator.cc:1095] InUse at 70199c800 of size 64000 next 54\n",
      "2024-03-28 22:01:01.116824: I external/local_tsl/tsl/framework/bfc_allocator.cc:1095] InUse at 7019ac200 of size 66048 next 76\n",
      "2024-03-28 22:01:01.116849: I external/local_tsl/tsl/framework/bfc_allocator.cc:1095] InUse at 7019bc400 of size 256 next 77\n",
      "2024-03-28 22:01:01.116873: I external/local_tsl/tsl/framework/bfc_allocator.cc:1095] InUse at 7019bc500 of size 256 next 48\n",
      "2024-03-28 22:01:01.116897: I external/local_tsl/tsl/framework/bfc_allocator.cc:1095] InUse at 7019bc600 of size 256 next 47\n",
      "2024-03-28 22:01:01.116921: I external/local_tsl/tsl/framework/bfc_allocator.cc:1095] InUse at 7019bc700 of size 256 next 57\n",
      "2024-03-28 22:01:01.116945: I external/local_tsl/tsl/framework/bfc_allocator.cc:1095] InUse at 7019bc800 of size 256 next 50\n",
      "2024-03-28 22:01:01.116968: I external/local_tsl/tsl/framework/bfc_allocator.cc:1095] InUse at 7019bc900 of size 256 next 32\n",
      "2024-03-28 22:01:01.116992: I external/local_tsl/tsl/framework/bfc_allocator.cc:1095] InUse at 7019bca00 of size 256 next 58\n",
      "2024-03-28 22:01:01.117019: I external/local_tsl/tsl/framework/bfc_allocator.cc:1095] InUse at 7019bcb00 of size 256 next 79\n",
      "2024-03-28 22:01:01.117061: I external/local_tsl/tsl/framework/bfc_allocator.cc:1095] Free  at 7019bcc00 of size 228096 next 45\n",
      "2024-03-28 22:01:01.117108: I external/local_tsl/tsl/framework/bfc_allocator.cc:1095] InUse at 7019f4700 of size 2048 next 69\n",
      "2024-03-28 22:01:01.117136: I external/local_tsl/tsl/framework/bfc_allocator.cc:1095] InUse at 7019f4f00 of size 2048 next 70\n",
      "2024-03-28 22:01:01.117161: I external/local_tsl/tsl/framework/bfc_allocator.cc:1095] InUse at 7019f5700 of size 236032 next 60\n",
      "2024-03-28 22:01:01.117188: I external/local_tsl/tsl/framework/bfc_allocator.cc:1095] InUse at 701a2f100 of size 120064 next 59\n",
      "2024-03-28 22:01:01.117213: I external/local_tsl/tsl/framework/bfc_allocator.cc:1095] Free  at 701a4c600 of size 120064 next 56\n",
      "2024-03-28 22:01:01.117238: I external/local_tsl/tsl/framework/bfc_allocator.cc:1095] InUse at 701a69b00 of size 120064 next 89\n",
      "2024-03-28 22:01:01.117262: I external/local_tsl/tsl/framework/bfc_allocator.cc:1095] InUse at 701a87000 of size 1536 next 92\n",
      "2024-03-28 22:01:01.117287: I external/local_tsl/tsl/framework/bfc_allocator.cc:1095] InUse at 701a87600 of size 1536 next 93\n",
      "2024-03-28 22:01:01.117312: I external/local_tsl/tsl/framework/bfc_allocator.cc:1095] InUse at 701a87c00 of size 79728128 next 82\n",
      "2024-03-28 22:01:01.117344: I external/local_tsl/tsl/framework/bfc_allocator.cc:1095] InUse at 706690a00 of size 1205806336 next 31\n",
      "2024-03-28 22:01:01.117375: I external/local_tsl/tsl/framework/bfc_allocator.cc:1095] InUse at 74e482f00 of size 25831936 next 46\n",
      "2024-03-28 22:01:01.117405: I external/local_tsl/tsl/framework/bfc_allocator.cc:1095] Free  at 74fd25900 of size 25831936 next 81\n",
      "2024-03-28 22:01:01.117435: I external/local_tsl/tsl/framework/bfc_allocator.cc:1095] InUse at 7515c8300 of size 25831936 next 35\n",
      "2024-03-28 22:01:01.117465: I external/local_tsl/tsl/framework/bfc_allocator.cc:1095] Free  at 752e6ad00 of size 406803200 next 18446744073709551615\n",
      "2024-03-28 22:01:01.117495: I external/local_tsl/tsl/framework/bfc_allocator.cc:1100]      Summary of in-use Chunks by size: \n",
      "2024-03-28 22:01:01.117527: I external/local_tsl/tsl/framework/bfc_allocator.cc:1103] 45 Chunks of size 256 totalling 11.2KiB\n",
      "2024-03-28 22:01:01.117555: I external/local_tsl/tsl/framework/bfc_allocator.cc:1103] 1 Chunks of size 1280 totalling 1.2KiB\n",
      "2024-03-28 22:01:01.117582: I external/local_tsl/tsl/framework/bfc_allocator.cc:1103] 2 Chunks of size 1536 totalling 3.0KiB\n",
      "2024-03-28 22:01:01.117607: I external/local_tsl/tsl/framework/bfc_allocator.cc:1103] 2 Chunks of size 2048 totalling 4.0KiB\n",
      "2024-03-28 22:01:01.117633: I external/local_tsl/tsl/framework/bfc_allocator.cc:1103] 1 Chunks of size 2816 totalling 2.8KiB\n",
      "2024-03-28 22:01:01.117659: I external/local_tsl/tsl/framework/bfc_allocator.cc:1103] 1 Chunks of size 3584 totalling 3.5KiB\n",
      "2024-03-28 22:01:01.117686: I external/local_tsl/tsl/framework/bfc_allocator.cc:1103] 2 Chunks of size 8192 totalling 16.0KiB\n",
      "2024-03-28 22:01:01.117713: I external/local_tsl/tsl/framework/bfc_allocator.cc:1103] 1 Chunks of size 9728 totalling 9.5KiB\n",
      "2024-03-28 22:01:01.117740: I external/local_tsl/tsl/framework/bfc_allocator.cc:1103] 1 Chunks of size 10496 totalling 10.2KiB\n",
      "2024-03-28 22:01:01.117767: I external/local_tsl/tsl/framework/bfc_allocator.cc:1103] 2 Chunks of size 16384 totalling 32.0KiB\n",
      "2024-03-28 22:01:01.117854: I external/local_tsl/tsl/framework/bfc_allocator.cc:1103] 1 Chunks of size 30976 totalling 30.2KiB\n",
      "2024-03-28 22:01:01.117890: I external/local_tsl/tsl/framework/bfc_allocator.cc:1103] 1 Chunks of size 64000 totalling 62.5KiB\n",
      "2024-03-28 22:01:01.117917: I external/local_tsl/tsl/framework/bfc_allocator.cc:1103] 1 Chunks of size 66048 totalling 64.5KiB\n",
      "2024-03-28 22:01:01.117944: I external/local_tsl/tsl/framework/bfc_allocator.cc:1103] 1 Chunks of size 87296 totalling 85.2KiB\n",
      "2024-03-28 22:01:01.117972: I external/local_tsl/tsl/framework/bfc_allocator.cc:1103] 2 Chunks of size 120064 totalling 234.5KiB\n",
      "2024-03-28 22:01:01.118004: I external/local_tsl/tsl/framework/bfc_allocator.cc:1103] 1 Chunks of size 236032 totalling 230.5KiB\n",
      "2024-03-28 22:01:01.118038: I external/local_tsl/tsl/framework/bfc_allocator.cc:1103] 2 Chunks of size 25831936 totalling 49.27MiB\n",
      "2024-03-28 22:01:01.118070: I external/local_tsl/tsl/framework/bfc_allocator.cc:1103] 1 Chunks of size 79728128 totalling 76.03MiB\n",
      "2024-03-28 22:01:01.118102: I external/local_tsl/tsl/framework/bfc_allocator.cc:1103] 1 Chunks of size 1205806336 totalling 1.12GiB\n",
      "2024-03-28 22:01:01.118133: I external/local_tsl/tsl/framework/bfc_allocator.cc:1107] Sum Total of in-use chunks: 1.25GiB\n",
      "2024-03-28 22:01:01.118160: I external/local_tsl/tsl/framework/bfc_allocator.cc:1109] Total bytes in pool: 1771307008 memory_limit_: 1771307008 available bytes: 0 curr_region_allocation_bytes_: 3542614016\n",
      "2024-03-28 22:01:01.118198: I external/local_tsl/tsl/framework/bfc_allocator.cc:1114] Stats: \n",
      "Limit:                      1771307008\n",
      "InUse:                      1338018560\n",
      "MaxInUse:                   1604695552\n",
      "NumAllocs:                        6115\n",
      "MaxAllocSize:               1205806336\n",
      "Reserved:                            0\n",
      "PeakReserved:                        0\n",
      "LargestFreeBlock:                    0\n",
      "\n",
      "2024-03-28 22:01:01.118253: W external/local_tsl/tsl/framework/bfc_allocator.cc:497] ******************************************************************************______________________\n",
      "2024-03-28 22:01:01.118324: W tensorflow/core/framework/op_kernel.cc:1839] OP_REQUIRES failed at pooling_ops_common.cc:860 : RESOURCE_EXHAUSTED: OOM when allocating tensor with shape[4983,16,19,199] and type float on /job:localhost/replica:0/task:0/device:GPU:0 by allocator GPU_0_bfc\n"
     ]
    },
    {
     "ename": "ResourceExhaustedError",
     "evalue": "Graph execution error:\n\nDetected at node gradient_tape/sequential_2/max_pooling2d_6/MaxPool/MaxPoolGrad defined at (most recent call last):\n  File \"<frozen runpy>\", line 198, in _run_module_as_main\n\n  File \"<frozen runpy>\", line 88, in _run_code\n\n  File \"/home/cleverson/projetos/.kaggle/lib/python3.11/site-packages/ipykernel_launcher.py\", line 18, in <module>\n\n  File \"/home/cleverson/projetos/.kaggle/lib/python3.11/site-packages/traitlets/config/application.py\", line 1075, in launch_instance\n\n  File \"/home/cleverson/projetos/.kaggle/lib/python3.11/site-packages/ipykernel/kernelapp.py\", line 739, in start\n\n  File \"/home/cleverson/projetos/.kaggle/lib/python3.11/site-packages/tornado/platform/asyncio.py\", line 205, in start\n\n  File \"/usr/lib/python3.11/asyncio/base_events.py\", line 607, in run_forever\n\n  File \"/usr/lib/python3.11/asyncio/base_events.py\", line 1922, in _run_once\n\n  File \"/usr/lib/python3.11/asyncio/events.py\", line 80, in _run\n\n  File \"/home/cleverson/projetos/.kaggle/lib/python3.11/site-packages/ipykernel/kernelbase.py\", line 545, in dispatch_queue\n\n  File \"/home/cleverson/projetos/.kaggle/lib/python3.11/site-packages/ipykernel/kernelbase.py\", line 534, in process_one\n\n  File \"/home/cleverson/projetos/.kaggle/lib/python3.11/site-packages/ipykernel/kernelbase.py\", line 437, in dispatch_shell\n\n  File \"/home/cleverson/projetos/.kaggle/lib/python3.11/site-packages/ipykernel/ipkernel.py\", line 359, in execute_request\n\n  File \"/home/cleverson/projetos/.kaggle/lib/python3.11/site-packages/ipykernel/kernelbase.py\", line 778, in execute_request\n\n  File \"/home/cleverson/projetos/.kaggle/lib/python3.11/site-packages/ipykernel/ipkernel.py\", line 446, in do_execute\n\n  File \"/home/cleverson/projetos/.kaggle/lib/python3.11/site-packages/ipykernel/zmqshell.py\", line 549, in run_cell\n\n  File \"/home/cleverson/projetos/.kaggle/lib/python3.11/site-packages/IPython/core/interactiveshell.py\", line 3075, in run_cell\n\n  File \"/home/cleverson/projetos/.kaggle/lib/python3.11/site-packages/IPython/core/interactiveshell.py\", line 3130, in _run_cell\n\n  File \"/home/cleverson/projetos/.kaggle/lib/python3.11/site-packages/IPython/core/async_helpers.py\", line 129, in _pseudo_sync_runner\n\n  File \"/home/cleverson/projetos/.kaggle/lib/python3.11/site-packages/IPython/core/interactiveshell.py\", line 3334, in run_cell_async\n\n  File \"/home/cleverson/projetos/.kaggle/lib/python3.11/site-packages/IPython/core/interactiveshell.py\", line 3517, in run_ast_nodes\n\n  File \"/home/cleverson/projetos/.kaggle/lib/python3.11/site-packages/IPython/core/interactiveshell.py\", line 3577, in run_code\n\n  File \"/tmp/ipykernel_3773/3822504767.py\", line 1, in <module>\n\n  File \"/home/cleverson/projetos/.kaggle/lib/python3.11/site-packages/keras/src/utils/traceback_utils.py\", line 65, in error_handler\n\n  File \"/home/cleverson/projetos/.kaggle/lib/python3.11/site-packages/keras/src/engine/training.py\", line 1807, in fit\n\n  File \"/home/cleverson/projetos/.kaggle/lib/python3.11/site-packages/keras/src/engine/training.py\", line 1401, in train_function\n\n  File \"/home/cleverson/projetos/.kaggle/lib/python3.11/site-packages/keras/src/engine/training.py\", line 1384, in step_function\n\n  File \"/home/cleverson/projetos/.kaggle/lib/python3.11/site-packages/keras/src/engine/training.py\", line 1373, in run_step\n\n  File \"/home/cleverson/projetos/.kaggle/lib/python3.11/site-packages/keras/src/engine/training.py\", line 1154, in train_step\n\n  File \"/home/cleverson/projetos/.kaggle/lib/python3.11/site-packages/keras/src/optimizers/optimizer.py\", line 543, in minimize\n\n  File \"/home/cleverson/projetos/.kaggle/lib/python3.11/site-packages/keras/src/optimizers/optimizer.py\", line 276, in compute_gradients\n\nOOM when allocating tensor with shape[4983,16,19,199] and type float on /job:localhost/replica:0/task:0/device:GPU:0 by allocator GPU_0_bfc\n\t [[{{node gradient_tape/sequential_2/max_pooling2d_6/MaxPool/MaxPoolGrad}}]]\nHint: If you want to see a list of allocated tensors when OOM happens, add report_tensor_allocations_upon_oom to RunOptions for current allocation info. This isn't available when running in Eager mode.\n [Op:__inference_train_function_3110]",
     "output_type": "error",
     "traceback": [
      "\u001b[0;31m---------------------------------------------------------------------------\u001b[0m",
      "\u001b[0;31mResourceExhaustedError\u001b[0m                    Traceback (most recent call last)",
      "\u001b[1;32m/home/cleverson/projetos/kaggle/KMS/primeiro_treininho.ipynb Cell 15\u001b[0m line \u001b[0;36m1\n\u001b[0;32m----> <a href='vscode-notebook-cell:/home/cleverson/projetos/kaggle/KMS/primeiro_treininho.ipynb#X20sZmlsZQ%3D%3D?line=0'>1</a>\u001b[0m history \u001b[39m=\u001b[39m model\u001b[39m.\u001b[39;49mfit(\n\u001b[1;32m      <a href='vscode-notebook-cell:/home/cleverson/projetos/kaggle/KMS/primeiro_treininho.ipynb#X20sZmlsZQ%3D%3D?line=1'>2</a>\u001b[0m     train_data,\n\u001b[1;32m      <a href='vscode-notebook-cell:/home/cleverson/projetos/kaggle/KMS/primeiro_treininho.ipynb#X20sZmlsZQ%3D%3D?line=2'>3</a>\u001b[0m     epochs\u001b[39m=\u001b[39;49m\u001b[39m1\u001b[39;49m,\n\u001b[1;32m      <a href='vscode-notebook-cell:/home/cleverson/projetos/kaggle/KMS/primeiro_treininho.ipynb#X20sZmlsZQ%3D%3D?line=3'>4</a>\u001b[0m     \u001b[39m# batch_size=10,\u001b[39;49;00m\n\u001b[1;32m      <a href='vscode-notebook-cell:/home/cleverson/projetos/kaggle/KMS/primeiro_treininho.ipynb#X20sZmlsZQ%3D%3D?line=4'>5</a>\u001b[0m     steps_per_epoch\u001b[39m=\u001b[39;49m\u001b[39m2700\u001b[39;49m,\n\u001b[1;32m      <a href='vscode-notebook-cell:/home/cleverson/projetos/kaggle/KMS/primeiro_treininho.ipynb#X20sZmlsZQ%3D%3D?line=5'>6</a>\u001b[0m     shuffle\u001b[39m=\u001b[39;49m\u001b[39mTrue\u001b[39;49;00m,\n\u001b[1;32m      <a href='vscode-notebook-cell:/home/cleverson/projetos/kaggle/KMS/primeiro_treininho.ipynb#X20sZmlsZQ%3D%3D?line=6'>7</a>\u001b[0m     \u001b[39m# validation_data = val_data,\u001b[39;49;00m\n\u001b[1;32m      <a href='vscode-notebook-cell:/home/cleverson/projetos/kaggle/KMS/primeiro_treininho.ipynb#X20sZmlsZQ%3D%3D?line=7'>8</a>\u001b[0m     \u001b[39m# validation_steps=100,\u001b[39;49;00m\n\u001b[1;32m      <a href='vscode-notebook-cell:/home/cleverson/projetos/kaggle/KMS/primeiro_treininho.ipynb#X20sZmlsZQ%3D%3D?line=8'>9</a>\u001b[0m     verbose\u001b[39m=\u001b[39;49m \u001b[39m1\u001b[39;49m,\n\u001b[1;32m     <a href='vscode-notebook-cell:/home/cleverson/projetos/kaggle/KMS/primeiro_treininho.ipynb#X20sZmlsZQ%3D%3D?line=9'>10</a>\u001b[0m     \u001b[39m# callbacks = [\u001b[39;49;00m\n\u001b[1;32m     <a href='vscode-notebook-cell:/home/cleverson/projetos/kaggle/KMS/primeiro_treininho.ipynb#X20sZmlsZQ%3D%3D?line=10'>11</a>\u001b[0m     \u001b[39m#     callbacks.EarlyStopping(monitor=\"val_loss\", patience=2),\u001b[39;49;00m\n\u001b[1;32m     <a href='vscode-notebook-cell:/home/cleverson/projetos/kaggle/KMS/primeiro_treininho.ipynb#X20sZmlsZQ%3D%3D?line=11'>12</a>\u001b[0m     \u001b[39m#     callbacks.ModelCheckpoint(MODEL_NAME, save_best_only = True)\u001b[39;49;00m\n\u001b[1;32m     <a href='vscode-notebook-cell:/home/cleverson/projetos/kaggle/KMS/primeiro_treininho.ipynb#X20sZmlsZQ%3D%3D?line=12'>13</a>\u001b[0m     \u001b[39m# ]\u001b[39;49;00m\n\u001b[1;32m     <a href='vscode-notebook-cell:/home/cleverson/projetos/kaggle/KMS/primeiro_treininho.ipynb#X20sZmlsZQ%3D%3D?line=13'>14</a>\u001b[0m )\n",
      "File \u001b[0;32m~/projetos/.kaggle/lib/python3.11/site-packages/keras/src/utils/traceback_utils.py:70\u001b[0m, in \u001b[0;36mfilter_traceback.<locals>.error_handler\u001b[0;34m(*args, **kwargs)\u001b[0m\n\u001b[1;32m     67\u001b[0m     filtered_tb \u001b[39m=\u001b[39m _process_traceback_frames(e\u001b[39m.\u001b[39m__traceback__)\n\u001b[1;32m     68\u001b[0m     \u001b[39m# To get the full stack trace, call:\u001b[39;00m\n\u001b[1;32m     69\u001b[0m     \u001b[39m# `tf.debugging.disable_traceback_filtering()`\u001b[39;00m\n\u001b[0;32m---> 70\u001b[0m     \u001b[39mraise\u001b[39;00m e\u001b[39m.\u001b[39mwith_traceback(filtered_tb) \u001b[39mfrom\u001b[39;00m \u001b[39mNone\u001b[39;00m\n\u001b[1;32m     71\u001b[0m \u001b[39mfinally\u001b[39;00m:\n\u001b[1;32m     72\u001b[0m     \u001b[39mdel\u001b[39;00m filtered_tb\n",
      "File \u001b[0;32m~/projetos/.kaggle/lib/python3.11/site-packages/tensorflow/python/eager/execute.py:53\u001b[0m, in \u001b[0;36mquick_execute\u001b[0;34m(op_name, num_outputs, inputs, attrs, ctx, name)\u001b[0m\n\u001b[1;32m     51\u001b[0m \u001b[39mtry\u001b[39;00m:\n\u001b[1;32m     52\u001b[0m   ctx\u001b[39m.\u001b[39mensure_initialized()\n\u001b[0;32m---> 53\u001b[0m   tensors \u001b[39m=\u001b[39m pywrap_tfe\u001b[39m.\u001b[39mTFE_Py_Execute(ctx\u001b[39m.\u001b[39m_handle, device_name, op_name,\n\u001b[1;32m     54\u001b[0m                                       inputs, attrs, num_outputs)\n\u001b[1;32m     55\u001b[0m \u001b[39mexcept\u001b[39;00m core\u001b[39m.\u001b[39m_NotOkStatusException \u001b[39mas\u001b[39;00m e:\n\u001b[1;32m     56\u001b[0m   \u001b[39mif\u001b[39;00m name \u001b[39mis\u001b[39;00m \u001b[39mnot\u001b[39;00m \u001b[39mNone\u001b[39;00m:\n",
      "\u001b[0;31mResourceExhaustedError\u001b[0m: Graph execution error:\n\nDetected at node gradient_tape/sequential_2/max_pooling2d_6/MaxPool/MaxPoolGrad defined at (most recent call last):\n  File \"<frozen runpy>\", line 198, in _run_module_as_main\n\n  File \"<frozen runpy>\", line 88, in _run_code\n\n  File \"/home/cleverson/projetos/.kaggle/lib/python3.11/site-packages/ipykernel_launcher.py\", line 18, in <module>\n\n  File \"/home/cleverson/projetos/.kaggle/lib/python3.11/site-packages/traitlets/config/application.py\", line 1075, in launch_instance\n\n  File \"/home/cleverson/projetos/.kaggle/lib/python3.11/site-packages/ipykernel/kernelapp.py\", line 739, in start\n\n  File \"/home/cleverson/projetos/.kaggle/lib/python3.11/site-packages/tornado/platform/asyncio.py\", line 205, in start\n\n  File \"/usr/lib/python3.11/asyncio/base_events.py\", line 607, in run_forever\n\n  File \"/usr/lib/python3.11/asyncio/base_events.py\", line 1922, in _run_once\n\n  File \"/usr/lib/python3.11/asyncio/events.py\", line 80, in _run\n\n  File \"/home/cleverson/projetos/.kaggle/lib/python3.11/site-packages/ipykernel/kernelbase.py\", line 545, in dispatch_queue\n\n  File \"/home/cleverson/projetos/.kaggle/lib/python3.11/site-packages/ipykernel/kernelbase.py\", line 534, in process_one\n\n  File \"/home/cleverson/projetos/.kaggle/lib/python3.11/site-packages/ipykernel/kernelbase.py\", line 437, in dispatch_shell\n\n  File \"/home/cleverson/projetos/.kaggle/lib/python3.11/site-packages/ipykernel/ipkernel.py\", line 359, in execute_request\n\n  File \"/home/cleverson/projetos/.kaggle/lib/python3.11/site-packages/ipykernel/kernelbase.py\", line 778, in execute_request\n\n  File \"/home/cleverson/projetos/.kaggle/lib/python3.11/site-packages/ipykernel/ipkernel.py\", line 446, in do_execute\n\n  File \"/home/cleverson/projetos/.kaggle/lib/python3.11/site-packages/ipykernel/zmqshell.py\", line 549, in run_cell\n\n  File \"/home/cleverson/projetos/.kaggle/lib/python3.11/site-packages/IPython/core/interactiveshell.py\", line 3075, in run_cell\n\n  File \"/home/cleverson/projetos/.kaggle/lib/python3.11/site-packages/IPython/core/interactiveshell.py\", line 3130, in _run_cell\n\n  File \"/home/cleverson/projetos/.kaggle/lib/python3.11/site-packages/IPython/core/async_helpers.py\", line 129, in _pseudo_sync_runner\n\n  File \"/home/cleverson/projetos/.kaggle/lib/python3.11/site-packages/IPython/core/interactiveshell.py\", line 3334, in run_cell_async\n\n  File \"/home/cleverson/projetos/.kaggle/lib/python3.11/site-packages/IPython/core/interactiveshell.py\", line 3517, in run_ast_nodes\n\n  File \"/home/cleverson/projetos/.kaggle/lib/python3.11/site-packages/IPython/core/interactiveshell.py\", line 3577, in run_code\n\n  File \"/tmp/ipykernel_3773/3822504767.py\", line 1, in <module>\n\n  File \"/home/cleverson/projetos/.kaggle/lib/python3.11/site-packages/keras/src/utils/traceback_utils.py\", line 65, in error_handler\n\n  File \"/home/cleverson/projetos/.kaggle/lib/python3.11/site-packages/keras/src/engine/training.py\", line 1807, in fit\n\n  File \"/home/cleverson/projetos/.kaggle/lib/python3.11/site-packages/keras/src/engine/training.py\", line 1401, in train_function\n\n  File \"/home/cleverson/projetos/.kaggle/lib/python3.11/site-packages/keras/src/engine/training.py\", line 1384, in step_function\n\n  File \"/home/cleverson/projetos/.kaggle/lib/python3.11/site-packages/keras/src/engine/training.py\", line 1373, in run_step\n\n  File \"/home/cleverson/projetos/.kaggle/lib/python3.11/site-packages/keras/src/engine/training.py\", line 1154, in train_step\n\n  File \"/home/cleverson/projetos/.kaggle/lib/python3.11/site-packages/keras/src/optimizers/optimizer.py\", line 543, in minimize\n\n  File \"/home/cleverson/projetos/.kaggle/lib/python3.11/site-packages/keras/src/optimizers/optimizer.py\", line 276, in compute_gradients\n\nOOM when allocating tensor with shape[4983,16,19,199] and type float on /job:localhost/replica:0/task:0/device:GPU:0 by allocator GPU_0_bfc\n\t [[{{node gradient_tape/sequential_2/max_pooling2d_6/MaxPool/MaxPoolGrad}}]]\nHint: If you want to see a list of allocated tensors when OOM happens, add report_tensor_allocations_upon_oom to RunOptions for current allocation info. This isn't available when running in Eager mode.\n [Op:__inference_train_function_3110]"
     ]
    }
   ],
   "source": [
    "history = model.fit(\n",
    "    train_data,\n",
    "    epochs=1,\n",
    "    # batch_size=10,\n",
    "    steps_per_epoch=2700,\n",
    "    shuffle=True,\n",
    "    # validation_data = val_data,\n",
    "    # validation_steps=100,\n",
    "    verbose= 1,\n",
    "    # callbacks = [\n",
    "    #     callbacks.EarlyStopping(monitor=\"val_loss\", patience=2),\n",
    "    #     callbacks.ModelCheckpoint(MODEL_NAME, save_best_only = True)\n",
    "    # ]\n",
    ")\n"
   ]
  },
  {
   "cell_type": "code",
   "execution_count": null,
   "metadata": {},
   "outputs": [
    {
     "data": {
      "text/plain": [
       "[<matplotlib.lines.Line2D at 0x788d577974d0>]"
      ]
     },
     "execution_count": 81,
     "metadata": {},
     "output_type": "execute_result"
    },
    {
     "data": {
      "image/png": "[encoded data removed]",
      "text/plain": [
       "<Figure size 640x480 with 1 Axes>"
      ]
     },
     "metadata": {},
     "output_type": "display_data"
    }
   ],
   "source": [
    "plt.plot(history.history['loss'])\n",
    "plt.plot(history.history['val_loss'], color='red')"
   ]
  },
  {
   "cell_type": "code",
   "execution_count": null,
   "metadata": {},
   "outputs": [],
   "source": [
    "i = get_scored_val_data()"
   ]
  },
  {
   "cell_type": "code",
   "execution_count": null,
   "metadata": {},
   "outputs": [],
   "source": [
    "x = next(i)"
   ]
  },
  {
   "cell_type": "code",
   "execution_count": null,
   "metadata": {},
   "outputs": [
    {
     "data": {
      "text/plain": [
       "[0.0, 0.0, 0.5384615384615384, 0.0, 0.1538461538461538, 0.3076923076923077]"
      ]
     },
     "execution_count": 28,
     "metadata": {},
     "output_type": "execute_result"
    }
   ],
   "source": [
    "x[1][0]"
   ]
  },
  {
   "cell_type": "code",
   "execution_count": null,
   "metadata": {},
   "outputs": [
    {
     "name": "stdout",
     "output_type": "stream",
     "text": [
      "6/6 [==============================] - 1s 45ms/step\n"
     ]
    },
    {
     "data": {
      "text/plain": [
       "array([[0.17127682, 0.15925246, 0.15030429, 0.13711804, 0.15470582,\n",
       "        0.22734255],\n",
       "       [0.17127682, 0.15925246, 0.15030429, 0.13711804, 0.15470582,\n",
       "        0.22734255],\n",
       "       [0.17127682, 0.15925246, 0.15030429, 0.13711804, 0.15470582,\n",
       "        0.22734255],\n",
       "       ...,\n",
       "       [0.17127682, 0.15925246, 0.15030429, 0.13711804, 0.15470582,\n",
       "        0.22734255],\n",
       "       [0.17127682, 0.15925246, 0.15030429, 0.13711804, 0.15470582,\n",
       "        0.22734255],\n",
       "       [0.17127682, 0.15925246, 0.15030429, 0.13711804, 0.15470582,\n",
       "        0.22734255]], dtype=float32)"
      ]
     },
     "execution_count": 29,
     "metadata": {},
     "output_type": "execute_result"
    }
   ],
   "source": [
    "model.predict( x[0] )"
   ]
  },
  {
   "cell_type": "code",
   "execution_count": null,
   "metadata": {},
   "outputs": [
    {
     "data": {
      "text/plain": [
       "[1.0, 0.0, 0.0, 0.0, 0.0, 0.0]"
      ]
     },
     "execution_count": 30,
     "metadata": {},
     "output_type": "execute_result"
    }
   ],
   "source": [
    "x = next(i)\n",
    "x[1][0]"
   ]
  },
  {
   "cell_type": "code",
   "execution_count": null,
   "metadata": {},
   "outputs": [
    {
     "name": "stdout",
     "output_type": "stream",
     "text": [
      "9/9 [==============================] - 0s 30ms/step\n"
     ]
    },
    {
     "data": {
      "text/plain": [
       "array([[0.17127682, 0.15925246, 0.15030429, 0.13711804, 0.15470582,\n",
       "        0.22734255],\n",
       "       [0.17127682, 0.15925246, 0.15030429, 0.13711804, 0.15470582,\n",
       "        0.22734255],\n",
       "       [0.17127682, 0.15925246, 0.15030429, 0.13711804, 0.15470582,\n",
       "        0.22734255],\n",
       "       ...,\n",
       "       [0.17127682, 0.15925246, 0.15030429, 0.13711804, 0.15470582,\n",
       "        0.22734255],\n",
       "       [0.17127682, 0.15925246, 0.15030429, 0.13711804, 0.15470582,\n",
       "        0.22734255],\n",
       "       [0.17127682, 0.15925246, 0.15030429, 0.13711804, 0.15470582,\n",
       "        0.22734255]], dtype=float32)"
      ]
     },
     "execution_count": 31,
     "metadata": {},
     "output_type": "execute_result"
    }
   ],
   "source": [
    "model.predict( x[0] )"
   ]
  },
  {
   "cell_type": "code",
   "execution_count": null,
   "metadata": {},
   "outputs": [],
   "source": []
  },
  {
   "cell_type": "code",
   "execution_count": null,
   "metadata": {},
   "outputs": [],
   "source": []
  }
 ],
 "metadata": {
  "kernelspec": {
   "display_name": ".kaggle",
   "language": "python",
   "name": "python3"
  },
  "language_info": {
   "codemirror_mode": {
    "name": "ipython",
    "version": 3
   },
   "file_extension": ".py",
   "mimetype": "text/x-python",
   "name": "python",
   "nbconvert_exporter": "python",
   "pygments_lexer": "ipython3",
   "version": "3.11.6"
  }
 },
 "nbformat": 4,
 "nbformat_minor": 2
}
