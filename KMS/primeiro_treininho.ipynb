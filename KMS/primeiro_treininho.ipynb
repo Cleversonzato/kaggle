{
 "cells": [
  {
   "cell_type": "code",
   "execution_count": 1,
   "metadata": {},
   "outputs": [
    {
     "name": "stderr",
     "output_type": "stream",
     "text": [
      "2024-03-21 20:35:55.750657: E external/local_xla/xla/stream_executor/cuda/cuda_dnn.cc:9261] Unable to register cuDNN factory: Attempting to register factory for plugin cuDNN when one has already been registered\n",
      "2024-03-21 20:35:55.750814: E external/local_xla/xla/stream_executor/cuda/cuda_fft.cc:607] Unable to register cuFFT factory: Attempting to register factory for plugin cuFFT when one has already been registered\n",
      "2024-03-21 20:35:55.845472: E external/local_xla/xla/stream_executor/cuda/cuda_blas.cc:1515] Unable to register cuBLAS factory: Attempting to register factory for plugin cuBLAS when one has already been registered\n",
      "2024-03-21 20:35:56.033939: I tensorflow/core/platform/cpu_feature_guard.cc:182] This TensorFlow binary is optimized to use available CPU instructions in performance-critical operations.\n",
      "To enable the following instructions: AVX2 FMA, in other operations, rebuild TensorFlow with the appropriate compiler flags.\n",
      "2024-03-21 20:35:57.823020: W tensorflow/compiler/tf2tensorrt/utils/py_utils.cc:38] TF-TRT Warning: Could not find TensorRT\n"
     ]
    }
   ],
   "source": [
    "import numpy as np\n",
    "import pandas as pd\n",
    "import matplotlib.pyplot as plt\n",
    "import tensorflow as tf\n",
    "from tensorflow.keras import datasets, layers, models, losses, callbacks"
   ]
  },
  {
   "cell_type": "code",
   "execution_count": 2,
   "metadata": {},
   "outputs": [],
   "source": [
    "MODEL_NAME = \"./treino/primeiro_treino\"\n",
    "PASTA_FOURIER = \"data/fourier/\"\n",
    "SPS = 200"
   ]
  },
  {
   "cell_type": "code",
   "execution_count": 3,
   "metadata": {},
   "outputs": [],
   "source": [
    "df = pd.read_csv('data/scores.csv')"
   ]
  },
  {
   "cell_type": "code",
   "execution_count": 4,
   "metadata": {},
   "outputs": [],
   "source": [
    "df = df.sample(frac=1, random_state=200)"
   ]
  },
  {
   "cell_type": "code",
   "execution_count": 5,
   "metadata": {},
   "outputs": [],
   "source": [
    "df_val = df.head(2700)\n",
    "df_train = df.tail( df.shape[0]- 2700 )"
   ]
  },
  {
   "cell_type": "code",
   "execution_count": 6,
   "metadata": {},
   "outputs": [],
   "source": [
    "def get_data(eeg):\n",
    "    return np.load(PASTA_FOURIER+str(eeg)+\".npy\")\n",
    "\n",
    "\n",
    "def get_start_end(row, pos, max_size):\n",
    "    if pos == len(row['janelas']):\n",
    "        return max_size, max_size\n",
    "\n",
    "    j = row['janelas'].split(',')[0].split('-')\n",
    "    return float(j[0])*2, float(j[1])*2\n",
    "\n",
    "def score_data(row):\n",
    "    data = get_data(row['eeg_id'])\n",
    "    max_size = data.shape[0]\n",
    "    scores = [] \n",
    "    j_pos = 0\n",
    "    start, end = get_start_end(row, j_pos, max_size)\n",
    "\n",
    "    for i in range(max_size):\n",
    "        if end < i:\n",
    "            j_pos += 1\n",
    "            start, end = get_start_end(row, j_pos, max_size)\n",
    "\n",
    "        if i >= start and i <= end:\n",
    "            scores.append( [row['seizure_vote'],row['lpd_vote'],row['gpd_vote'],row['lrda_vote'],row['grda_vote'],row['other_vote'] ] )\n",
    "        else:\n",
    "            scores.append( [0.0, 0.0, 0.0, 0.0, 0.0, 0.0] )\n",
    "\n",
    "\n",
    "    return data, scores\n"
   ]
  },
  {
   "cell_type": "code",
   "execution_count": 7,
   "metadata": {},
   "outputs": [],
   "source": [
    "def get_scored_train_data():\n",
    "    for i, row in df_train.iterrows():\n",
    "        yield( score_data(row) )\n",
    "\n",
    "def get_scored_val_data():\n",
    "    for i, row in df_val.iterrows():\n",
    "        yield( score_data(row) )\n"
   ]
  },
  {
   "cell_type": "code",
   "execution_count": 8,
   "metadata": {},
   "outputs": [
    {
     "name": "stderr",
     "output_type": "stream",
     "text": [
      "2024-03-21 20:35:59.692150: I external/local_xla/xla/stream_executor/cuda/cuda_executor.cc:901] successful NUMA node read from SysFS had negative value (-1), but there must be at least one NUMA node, so returning NUMA node zero. See more at https://github.com/torvalds/linux/blob/v6.0/Documentation/ABI/testing/sysfs-bus-pci#L344-L355\n",
      "2024-03-21 20:35:59.995246: I external/local_xla/xla/stream_executor/cuda/cuda_executor.cc:901] successful NUMA node read from SysFS had negative value (-1), but there must be at least one NUMA node, so returning NUMA node zero. See more at https://github.com/torvalds/linux/blob/v6.0/Documentation/ABI/testing/sysfs-bus-pci#L344-L355\n",
      "2024-03-21 20:35:59.996441: I external/local_xla/xla/stream_executor/cuda/cuda_executor.cc:901] successful NUMA node read from SysFS had negative value (-1), but there must be at least one NUMA node, so returning NUMA node zero. See more at https://github.com/torvalds/linux/blob/v6.0/Documentation/ABI/testing/sysfs-bus-pci#L344-L355\n",
      "2024-03-21 20:36:00.000669: I external/local_xla/xla/stream_executor/cuda/cuda_executor.cc:901] successful NUMA node read from SysFS had negative value (-1), but there must be at least one NUMA node, so returning NUMA node zero. See more at https://github.com/torvalds/linux/blob/v6.0/Documentation/ABI/testing/sysfs-bus-pci#L344-L355\n",
      "2024-03-21 20:36:00.001808: I external/local_xla/xla/stream_executor/cuda/cuda_executor.cc:901] successful NUMA node read from SysFS had negative value (-1), but there must be at least one NUMA node, so returning NUMA node zero. See more at https://github.com/torvalds/linux/blob/v6.0/Documentation/ABI/testing/sysfs-bus-pci#L344-L355\n",
      "2024-03-21 20:36:00.002535: I external/local_xla/xla/stream_executor/cuda/cuda_executor.cc:901] successful NUMA node read from SysFS had negative value (-1), but there must be at least one NUMA node, so returning NUMA node zero. See more at https://github.com/torvalds/linux/blob/v6.0/Documentation/ABI/testing/sysfs-bus-pci#L344-L355\n",
      "2024-03-21 20:36:00.133069: I external/local_xla/xla/stream_executor/cuda/cuda_executor.cc:901] successful NUMA node read from SysFS had negative value (-1), but there must be at least one NUMA node, so returning NUMA node zero. See more at https://github.com/torvalds/linux/blob/v6.0/Documentation/ABI/testing/sysfs-bus-pci#L344-L355\n",
      "2024-03-21 20:36:00.133467: I external/local_xla/xla/stream_executor/cuda/cuda_executor.cc:901] successful NUMA node read from SysFS had negative value (-1), but there must be at least one NUMA node, so returning NUMA node zero. See more at https://github.com/torvalds/linux/blob/v6.0/Documentation/ABI/testing/sysfs-bus-pci#L344-L355\n",
      "2024-03-21 20:36:00.133743: I external/local_xla/xla/stream_executor/cuda/cuda_executor.cc:901] successful NUMA node read from SysFS had negative value (-1), but there must be at least one NUMA node, so returning NUMA node zero. See more at https://github.com/torvalds/linux/blob/v6.0/Documentation/ABI/testing/sysfs-bus-pci#L344-L355\n",
      "2024-03-21 20:36:00.133945: I tensorflow/core/common_runtime/gpu/gpu_device.cc:1929] Created device /job:localhost/replica:0/task:0/device:GPU:0 with 1689 MB memory:  -> device: 0, name: Quadro M1000M, pci bus id: 0000:01:00.0, compute capability: 5.0\n"
     ]
    }
   ],
   "source": [
    "model = models.Sequential()\n",
    "model.add(layers.Conv2D(2, (2, 2), activation='relu', input_shape=(20, 200, 1)))\n",
    "model.add(layers.MaxPooling2D((2, 20)))\n",
    "model.add(layers.Conv2D(4, (2, 2), activation='relu', input_shape=(20, 200, 1)))\n",
    "model.add(layers.MaxPooling2D((2, 2)))\n",
    "model.add(layers.Flatten())\n",
    "model.add(layers.Dense(200, activation='relu'))\n",
    "model.add(layers.Dense(60, activation='relu'))\n",
    "model.add(layers.Dense(6, activation='softmax'))\n"
   ]
  },
  {
   "cell_type": "code",
   "execution_count": 9,
   "metadata": {},
   "outputs": [],
   "source": [
    "model=tf.keras.models.load_model(MODEL_NAME)"
   ]
  },
  {
   "cell_type": "code",
   "execution_count": 10,
   "metadata": {},
   "outputs": [
    {
     "name": "stdout",
     "output_type": "stream",
     "text": [
      "Model: \"sequential_47\"\n",
      "_________________________________________________________________\n",
      " Layer (type)                Output Shape              Param #   \n",
      "=================================================================\n",
      " conv2d_54 (Conv2D)          (None, 19, 199, 2)        10        \n",
      "                                                                 \n",
      " max_pooling2d_33 (MaxPooli  (None, 9, 9, 2)           0         \n",
      " ng2D)                                                           \n",
      "                                                                 \n",
      " conv2d_55 (Conv2D)          (None, 8, 8, 4)           36        \n",
      "                                                                 \n",
      " max_pooling2d_34 (MaxPooli  (None, 4, 4, 4)           0         \n",
      " ng2D)                                                           \n",
      "                                                                 \n",
      " flatten_41 (Flatten)        (None, 64)                0         \n",
      "                                                                 \n",
      " dense_83 (Dense)            (None, 200)               13000     \n",
      "                                                                 \n",
      " dense_84 (Dense)            (None, 60)                12060     \n",
      "                                                                 \n",
      " dense_85 (Dense)            (None, 6)                 366       \n",
      "                                                                 \n",
      "=================================================================\n",
      "Total params: 25472 (99.50 KB)\n",
      "Trainable params: 25472 (99.50 KB)\n",
      "Non-trainable params: 0 (0.00 Byte)\n",
      "_________________________________________________________________\n"
     ]
    }
   ],
   "source": [
    "model.summary()"
   ]
  },
  {
   "cell_type": "code",
   "execution_count": 12,
   "metadata": {},
   "outputs": [],
   "source": [
    "model.compile(\n",
    "    optimizer = tf.keras.optimizers.Adam(learning_rate=0.001),\n",
    "    loss=tf.keras.losses.CategoricalFocalCrossentropy()\n",
    ")"
   ]
  },
  {
   "cell_type": "code",
   "execution_count": 13,
   "metadata": {},
   "outputs": [],
   "source": [
    "train_data = tf.data.Dataset.from_generator(\n",
    "        get_scored_train_data,\n",
    "        output_signature = (\n",
    "            tf.TensorSpec(shape=(None, 20, 200), dtype=tf.float16),\n",
    "            tf.TensorSpec(shape=(None, 6), dtype=tf.float16)\n",
    "        )\n",
    "    )\n",
    "\n",
    "val_data = tf.data.Dataset.from_generator(\n",
    "        get_scored_val_data,\n",
    "        output_signature = (\n",
    "            tf.TensorSpec(shape=(None, 20, 200), dtype=tf.float16),\n",
    "            tf.TensorSpec(shape=(None, 6), dtype=tf.float16)\n",
    "        )\n",
    "    )"
   ]
  },
  {
   "cell_type": "code",
   "execution_count": 14,
   "metadata": {},
   "outputs": [
    {
     "name": "stdout",
     "output_type": "stream",
     "text": [
      "Epoch 1/20\n"
     ]
    },
    {
     "name": "stderr",
     "output_type": "stream",
     "text": [
      "2024-03-21 20:37:17.765222: I external/local_xla/xla/stream_executor/cuda/cuda_dnn.cc:454] Loaded cuDNN version 8904\n",
      "2024-03-21 20:37:17.940628: I external/local_tsl/tsl/platform/default/subprocess.cc:304] Start cannot spawn child process: No such file or directory\n",
      "2024-03-21 20:37:17.954188: I external/local_tsl/tsl/platform/default/subprocess.cc:304] Start cannot spawn child process: No such file or directory\n",
      "2024-03-21 20:37:20.510243: I external/local_xla/xla/service/service.cc:168] XLA service 0x7fa198ce8e40 initialized for platform CUDA (this does not guarantee that XLA will be used). Devices:\n",
      "2024-03-21 20:37:20.510278: I external/local_xla/xla/service/service.cc:176]   StreamExecutor device (0): Quadro M1000M, Compute Capability 5.0\n",
      "2024-03-21 20:37:20.527871: I tensorflow/compiler/mlir/tensorflow/utils/dump_mlir_util.cc:269] disabling MLIR crash reproducer, set env var `MLIR_CRASH_REPRODUCER_DIRECTORY` to enable.\n",
      "WARNING: All log messages before absl::InitializeLog() is called are written to STDERR\n",
      "I0000 00:00:1711049840.709481    6577 device_compiler.h:186] Compiled cluster using XLA!  This line is logged at most once for the lifetime of the process.\n"
     ]
    },
    {
     "name": "stdout",
     "output_type": "stream",
     "text": [
      "    802/Unknown - 132s 157ms/step - loss: 2.4299"
     ]
    },
    {
     "name": "stderr",
     "output_type": "stream",
     "text": [
      "/home/cleverson/projetos/.kaggle/lib/python3.11/site-packages/tensorflow/python/ops/script_ops.py:229: RuntimeWarning: overflow encountered in cast\n",
      "  result = np.asarray(value, dtype=dtype, order=\"C\")\n"
     ]
    },
    {
     "name": "stdout",
     "output_type": "stream",
     "text": [
      "  17060/Unknown - 597s 35ms/step - loss: 2.3866"
     ]
    },
    {
     "name": "stderr",
     "output_type": "stream",
     "text": [
      "2024-03-21 20:48:27.309364: I tensorflow/core/framework/local_rendezvous.cc:421] Local rendezvous recv item cancelled. Key hash: 4707666916553450623\n",
      "2024-03-21 20:48:27.309408: I tensorflow/core/framework/local_rendezvous.cc:421] Local rendezvous recv item cancelled. Key hash: 14281794889673714745\n"
     ]
    },
    {
     "name": "stdout",
     "output_type": "stream",
     "text": [
      "INFO:tensorflow:Assets written to: ./treino/primeiro_treino/assets\n"
     ]
    },
    {
     "name": "stderr",
     "output_type": "stream",
     "text": [
      "INFO:tensorflow:Assets written to: ./treino/primeiro_treino/assets\n"
     ]
    },
    {
     "name": "stdout",
     "output_type": "stream",
     "text": [
      "17063/17063 [==============================] - 672s 39ms/step - loss: 2.3864 - val_loss: 2.3758\n",
      "Epoch 2/20\n",
      "  810/17063 [>.............................] - ETA: 6:57 - loss: 2.3609"
     ]
    },
    {
     "name": "stderr",
     "output_type": "stream",
     "text": [
      "/home/cleverson/projetos/.kaggle/lib/python3.11/site-packages/tensorflow/python/ops/script_ops.py:229: RuntimeWarning: overflow encountered in cast\n",
      "  result = np.asarray(value, dtype=dtype, order=\"C\")\n"
     ]
    },
    {
     "name": "stdout",
     "output_type": "stream",
     "text": [
      "17063/17063 [==============================] - 502s 29ms/step - loss: 2.3864 - val_loss: 2.3758\n",
      "Epoch 3/20\n",
      " 2556/17063 [===>..........................] - ETA: 6:24 - loss: 2.3845"
     ]
    }
   ],
   "source": [
    "\n",
    "history = model.fit(\n",
    "    train_data,\n",
    "    epochs=20,\n",
    "    batch_size=100,\n",
    "    shuffle=True,\n",
    "    validation_data = val_data,\n",
    "    verbose= 1,\n",
    "    callbacks = [\n",
    "        callbacks.EarlyStopping(monitor=\"val_loss\", patience=2),\n",
    "        callbacks.ModelCheckpoint(MODEL_NAME, save_best_only = True)\n",
    "    ]\n",
    ")"
   ]
  },
  {
   "cell_type": "code",
   "execution_count": null,
   "metadata": {},
   "outputs": [
    {
     "data": {
      "text/plain": [
       "[<matplotlib.lines.Line2D at 0x7f0648141f90>]"
      ]
     },
     "execution_count": 21,
     "metadata": {},
     "output_type": "execute_result"
    },
    {
     "data": {
      "image/png": "[encoded data removed]",
      "text/plain": [
       "<Figure size 640x480 with 1 Axes>"
      ]
     },
     "metadata": {},
     "output_type": "display_data"
    }
   ],
   "source": [
    "plt.plot(history.history['loss'])\n",
    "plt.plot(history.history['val_loss'], color='red')"
   ]
  },
  {
   "cell_type": "code",
   "execution_count": null,
   "metadata": {},
   "outputs": [],
   "source": []
  }
 ],
 "metadata": {
  "kernelspec": {
   "display_name": ".kaggle",
   "language": "python",
   "name": "python3"
  },
  "language_info": {
   "codemirror_mode": {
    "name": "ipython",
    "version": 3
   },
   "file_extension": ".py",
   "mimetype": "text/x-python",
   "name": "python",
   "nbconvert_exporter": "python",
   "pygments_lexer": "ipython3",
   "version": "3.11.6"
  }
 },
 "nbformat": 4,
 "nbformat_minor": 2
}
