{
 "cells": [
  {
   "cell_type": "code",
   "execution_count": 2,
   "metadata": {},
   "outputs": [],
   "source": [
    "%load_ext tensorboard"
   ]
  },
  {
   "cell_type": "code",
   "execution_count": 3,
   "metadata": {},
   "outputs": [
    {
     "name": "stderr",
     "output_type": "stream",
     "text": [
      "2024-03-27 22:02:31.571432: E external/local_xla/xla/stream_executor/cuda/cuda_dnn.cc:9261] Unable to register cuDNN factory: Attempting to register factory for plugin cuDNN when one has already been registered\n",
      "2024-03-27 22:02:31.571487: E external/local_xla/xla/stream_executor/cuda/cuda_fft.cc:607] Unable to register cuFFT factory: Attempting to register factory for plugin cuFFT when one has already been registered\n",
      "2024-03-27 22:02:31.572813: E external/local_xla/xla/stream_executor/cuda/cuda_blas.cc:1515] Unable to register cuBLAS factory: Attempting to register factory for plugin cuBLAS when one has already been registered\n",
      "2024-03-27 22:02:31.580868: I tensorflow/core/platform/cpu_feature_guard.cc:182] This TensorFlow binary is optimized to use available CPU instructions in performance-critical operations.\n",
      "To enable the following instructions: AVX2 FMA, in other operations, rebuild TensorFlow with the appropriate compiler flags.\n",
      "2024-03-27 22:02:32.534331: W tensorflow/compiler/tf2tensorrt/utils/py_utils.cc:38] TF-TRT Warning: Could not find TensorRT\n"
     ]
    }
   ],
   "source": [
    "import tensorflow as tf\n",
    "from tensorflow.keras import layers, callbacks\n",
    "import numpy as np\n",
    "from tensorboard.plugins.hparams import api as hp"
   ]
  },
  {
   "cell_type": "code",
   "execution_count": 13,
   "metadata": {},
   "outputs": [],
   "source": [
    "class MyModel(tf.keras.Model):\n",
    "    def __init__(self):\n",
    "        super().__init__(name=\"test1\")\n",
    "        self.folder = \"./treino/test\"\n",
    "        self.dense1 = tf.keras.layers.Dense(1, activation=tf.nn.relu, input_shape=(None,1), name=\"1\")\n",
    "        self.dense2 = tf.keras.layers.Dense(2, activation=tf.nn.relu, input_shape=(None,2), name=\"2\")\n",
    "        self.dense3 = tf.keras.layers.Dense(6, activation=tf.nn.relu, name=\"3\")\n",
    "        self.dense4 = tf.keras.layers.Dense(2, activation=tf.nn.relu, name=\"4\")\n",
    "    \n",
    "    def tensorboard_writer(self):\n",
    "        return tf.summary.create_file_writer(\"./tensorboard/fit\")\n",
    "    \n",
    "    def write_to_tensorboard(self, value, step):\n",
    "        with self.tensorboard_writer().as_default():\n",
    "            tf.summary.scalar('random', value, step=step)\n",
    "        # test_accuracy.reset_states()\n",
    "\n",
    "    def call(self, X): #do not use\n",
    "        (a,b) = X\n",
    "        print(\"call\")\n",
    "        a = self.dense1(a)\n",
    "        c = tf.concat([a, tf.cast(tf.convert_to_tensor(b), tf.float32)],1)\n",
    "        c = self.dense2(c)\n",
    "        c = self.dense3(c)\n",
    "\n",
    "        return self.dense4(c)\n",
    "\n",
    "    def train(self, X, y, validation_data, shuffle, epocs, batch, lr):\n",
    "        self.compile(\n",
    "            optimizer=tf.keras.optimizers.Adam(learning_rate=0.0002),\n",
    "            loss=tf.keras.losses.MeanSquaredError()\n",
    "        )\n",
    "        print(\"train\")\n",
    "        self.history = self.fit(\n",
    "                X,\n",
    "                y,\n",
    "                validation_data=validation_data, \n",
    "                shuffle=shuffle, \n",
    "                epochs= epocs,\n",
    "                batch_size= batch,\n",
    "                verbose= 1,\n",
    "                callbacks = [\n",
    "                    callbacks.EarlyStopping(monitor=\"val_loss\", patience=2),\n",
    "                    callbacks.ModelCheckpoint(self.folder, save_best_only = True),\n",
    "                    callbacks.TensorBoard(\n",
    "                                    log_dir=\"./tensorboard/fit\",\n",
    "                                    histogram_freq=1,\n",
    "                                    write_graph=True,\n",
    "                                    write_images=False,\n",
    "                                    write_steps_per_second=False,\n",
    "                                    update_freq=\"epoch\",\n",
    "                                    profile_batch=1,\n",
    "                                    embeddings_freq=0,\n",
    "                                    embeddings_metadata=None\n",
    "                                )\n",
    "                ]\n",
    "            )\n",
    "\n",
    "\n",
    "model = MyModel()\n"
   ]
  },
  {
   "cell_type": "code",
   "execution_count": 14,
   "metadata": {},
   "outputs": [
    {
     "name": "stdout",
     "output_type": "stream",
     "text": [
      "call\n"
     ]
    },
    {
     "data": {
      "text/plain": [
       "<tf.Tensor: shape=(2, 2), dtype=float32, numpy=\n",
       "array([[0.6012084 , 0.84330153],\n",
       "       [1.2024168 , 1.6866031 ]], dtype=float32)>"
      ]
     },
     "execution_count": 14,
     "metadata": {},
     "output_type": "execute_result"
    }
   ],
   "source": [
    "model((np.asarray([[1],[2]]), np.asarray([[1],[2]])))"
   ]
  },
  {
   "cell_type": "code",
   "execution_count": 15,
   "metadata": {},
   "outputs": [
    {
     "name": "stdout",
     "output_type": "stream",
     "text": [
      "Model: \"test1\"\n",
      "_________________________________________________________________\n",
      " Layer (type)                Output Shape              Param #   \n",
      "=================================================================\n",
      " 1 (Dense)                   multiple                  2         \n",
      "                                                                 \n",
      " 2 (Dense)                   multiple                  6         \n",
      "                                                                 \n",
      " 3 (Dense)                   multiple                  18        \n",
      "                                                                 \n",
      " 4 (Dense)                   multiple                  14        \n",
      "                                                                 \n",
      "=================================================================\n",
      "Total params: 40 (160.00 Byte)\n",
      "Trainable params: 40 (160.00 Byte)\n",
      "Non-trainable params: 0 (0.00 Byte)\n",
      "_________________________________________________________________\n"
     ]
    }
   ],
   "source": [
    "model.summary()"
   ]
  },
  {
   "cell_type": "code",
   "execution_count": 16,
   "metadata": {},
   "outputs": [],
   "source": [
    "model.write_to_tensorboard(22, 11)"
   ]
  },
  {
   "cell_type": "code",
   "execution_count": 17,
   "metadata": {},
   "outputs": [
    {
     "data": {
      "text/plain": [
       "<tf.Tensor: shape=(2, 2), dtype=int64, numpy=\n",
       "array([[0, 1],\n",
       "       [0, 1]])>"
      ]
     },
     "execution_count": 17,
     "metadata": {},
     "output_type": "execute_result"
    }
   ],
   "source": [
    "tf.convert_to_tensor( np.asarray([[[0,1],[0,1]]])[0] )"
   ]
  },
  {
   "cell_type": "code",
   "execution_count": null,
   "metadata": {},
   "outputs": [],
   "source": []
  },
  {
   "cell_type": "code",
   "execution_count": 18,
   "metadata": {},
   "outputs": [
    {
     "name": "stdout",
     "output_type": "stream",
     "text": [
      "train\n",
      "Epoch 1/50\n",
      "call\n"
     ]
    },
    {
     "name": "stderr",
     "output_type": "stream",
     "text": [
      "2024-03-27 22:03:58.996980: I external/local_tsl/tsl/profiler/lib/profiler_session.cc:104] Profiler session initializing.\n",
      "2024-03-27 22:03:58.997021: I external/local_tsl/tsl/profiler/lib/profiler_session.cc:119] Profiler session started.\n",
      "2024-03-27 22:03:58.997052: E external/local_xla/xla/backends/profiler/gpu/cupti_error_manager.cc:135] cuptiGetTimestamp: ignored due to a previous error.\n",
      "2024-03-27 22:03:58.997070: E external/local_xla/xla/backends/profiler/gpu/cupti_error_manager.cc:186] cuptiSubscribe: ignored due to a previous error.\n",
      "2024-03-27 22:03:58.997080: E external/local_xla/xla/backends/profiler/gpu/cupti_error_manager.cc:459] cuptiGetResultString: ignored due to a previous error.\n",
      "2024-03-27 22:03:58.997090: E external/local_xla/xla/backends/profiler/gpu/cupti_tracer.cc:1935] function cupti_interface_->Subscribe( &subscriber_, (CUpti_CallbackFunc)ApiCallback, this)failed with error \n",
      "2024-03-27 22:03:58.998106: I external/local_tsl/tsl/profiler/lib/profiler_session.cc:131] Profiler session tear down.\n",
      "2024-03-27 22:03:59.000997: E external/local_xla/xla/backends/profiler/gpu/cupti_error_manager.cc:142] cuptiFinalize: ignored due to a previous error.\n",
      "2024-03-27 22:03:59.001047: E external/local_xla/xla/backends/profiler/gpu/cupti_error_manager.cc:459] cuptiGetResultString: ignored due to a previous error.\n",
      "2024-03-27 22:03:59.001064: E external/local_xla/xla/backends/profiler/gpu/cupti_tracer.cc:2026] function cupti_interface_->Finalize()failed with error \n",
      "2024-03-27 22:03:59.083150: I external/local_tsl/tsl/profiler/lib/profiler_session.cc:104] Profiler session initializing.\n",
      "2024-03-27 22:03:59.083183: I external/local_tsl/tsl/profiler/lib/profiler_session.cc:119] Profiler session started.\n",
      "2024-03-27 22:03:59.083211: E external/local_xla/xla/backends/profiler/gpu/cupti_error_manager.cc:135] cuptiGetTimestamp: ignored due to a previous error.\n",
      "2024-03-27 22:03:59.083228: E external/local_xla/xla/backends/profiler/gpu/cupti_error_manager.cc:186] cuptiSubscribe: ignored due to a previous error.\n",
      "2024-03-27 22:03:59.083240: E external/local_xla/xla/backends/profiler/gpu/cupti_error_manager.cc:459] cuptiGetResultString: ignored due to a previous error.\n",
      "2024-03-27 22:03:59.083252: E external/local_xla/xla/backends/profiler/gpu/cupti_tracer.cc:1935] function cupti_interface_->Subscribe( &subscriber_, (CUpti_CallbackFunc)ApiCallback, this)failed with error \n"
     ]
    },
    {
     "name": "stdout",
     "output_type": "stream",
     "text": [
      "call\n",
      "1/4 [======>.......................] - ETA: 3s - loss: 8.5450"
     ]
    },
    {
     "name": "stderr",
     "output_type": "stream",
     "text": [
      "2024-03-27 22:04:00.165666: I external/local_tsl/tsl/profiler/lib/profiler_session.cc:70] Profiler session collecting data.\n",
      "2024-03-27 22:04:00.169179: E external/local_xla/xla/backends/profiler/gpu/cupti_error_manager.cc:142] cuptiFinalize: ignored due to a previous error.\n",
      "2024-03-27 22:04:00.169213: E external/local_xla/xla/backends/profiler/gpu/cupti_error_manager.cc:459] cuptiGetResultString: ignored due to a previous error.\n",
      "2024-03-27 22:04:00.169223: E external/local_xla/xla/backends/profiler/gpu/cupti_tracer.cc:2026] function cupti_interface_->Finalize()failed with error \n",
      "2024-03-27 22:04:00.173714: E external/local_xla/xla/backends/profiler/gpu/cupti_error_manager.cc:135] cuptiGetTimestamp: ignored due to a previous error.\n",
      "2024-03-27 22:04:00.173752: E external/local_xla/xla/backends/profiler/gpu/cupti_error_manager.cc:135] cuptiGetTimestamp: ignored due to a previous error.\n",
      "2024-03-27 22:04:00.173764: I external/local_xla/xla/backends/profiler/gpu/cupti_collector.cc:541]  GpuTracer has collected 0 callback api events and 0 activity events. \n",
      "2024-03-27 22:04:00.175284: I external/local_tsl/tsl/profiler/lib/profiler_session.cc:131] Profiler session tear down.\n",
      "2024-03-27 22:04:00.175396: I external/local_tsl/tsl/profiler/rpc/client/save_profile.cc:144] Collecting XSpace to repository: ./tensorboard/fit/plugins/profile/2024_03_27_22_04_00/pc.xplane.pb\n"
     ]
    },
    {
     "name": "stdout",
     "output_type": "stream",
     "text": [
      "call\n",
      "call\n",
      "call\n"
     ]
    }
   ],
   "source": [
    "model.train(\n",
    "        X=(np.asarray([[1],[2],[3],[4],[5],[6],[1],[2],[3],[4],[5],[6]]), np.asarray([[1],[2],[3],[4],[5],[6],[6],[1],[2],[3],[4],[5]])),\n",
    "        y=( np.asarray([[0,1],[1,0],[0,1],[1,0],[0,1],[1,0],[1,0],[0,1],[1,0],[0,1],[1,0],[0,1]]) ),\n",
    "        shuffle=True,\n",
    "        validation_data = (\n",
    "            (np.asarray([[1],[2],[3],[4],[5],[6],[1],[2],[3],[4],[5],[6]]), np.asarray([[1],[2],[3],[4],[5],[6],[6],[1],[2],[3],[4],[5]])),\n",
    "            np.asarray([[0,1],[1,0],[0,1],[1,0],[0,1],[1,0],[1,0],[0,1],[1,0],[0,1],[1,0],[0,1]])\n",
    "        ),\n",
    "        epocs=50,\n",
    "        batch=3,\n",
    "        lr=0.1\n",
    "    )"
   ]
  },
  {
   "cell_type": "code",
   "execution_count": null,
   "metadata": {},
   "outputs": [
    {
     "data": {
      "text/plain": [
       "Reusing TensorBoard on port 6006 (pid 21865), started 0:00:20 ago. (Use '!kill 21865' to kill it.)"
      ]
     },
     "metadata": {},
     "output_type": "display_data"
    },
    {
     "data": {
      "text/html": [
       "\n",
       "      <iframe id=\"tensorboard-frame-ae0b1cac13c3745b\" width=\"100%\" height=\"800\" frameborder=\"0\">\n",
       "      </iframe>\n",
       "      <script>\n",
       "        (function() {\n",
       "          const frame = document.getElementById(\"tensorboard-frame-ae0b1cac13c3745b\");\n",
       "          const url = new URL(\"http://localhost\");\n",
       "          const port = 6006;\n",
       "          if (port) {\n",
       "            url.port = port;\n",
       "          }\n",
       "          frame.src = url;\n",
       "        })();\n",
       "      </script>\n",
       "    "
      ],
      "text/plain": [
       "<IPython.core.display.HTML object>"
      ]
     },
     "metadata": {},
     "output_type": "display_data"
    }
   ],
   "source": [
    "%tensorboard --logdir ./tensorboard/fit"
   ]
  },
  {
   "cell_type": "code",
   "execution_count": null,
   "metadata": {},
   "outputs": [],
   "source": []
  }
 ],
 "metadata": {
  "kernelspec": {
   "display_name": ".kaggle",
   "language": "python",
   "name": "python3"
  },
  "language_info": {
   "codemirror_mode": {
    "name": "ipython",
    "version": 3
   },
   "file_extension": ".py",
   "mimetype": "text/x-python",
   "name": "python",
   "nbconvert_exporter": "python",
   "pygments_lexer": "ipython3",
   "version": "3.11.6"
  }
 },
 "nbformat": 4,
 "nbformat_minor": 2
}
