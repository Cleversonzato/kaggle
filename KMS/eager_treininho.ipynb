{
 "cells": [
  {
   "cell_type": "code",
   "execution_count": 1,
   "metadata": {},
   "outputs": [
    {
     "name": "stderr",
     "output_type": "stream",
     "text": [
      "2024-03-25 20:31:57.962459: E external/local_xla/xla/stream_executor/cuda/cuda_dnn.cc:9261] Unable to register cuDNN factory: Attempting to register factory for plugin cuDNN when one has already been registered\n",
      "2024-03-25 20:31:57.962503: E external/local_xla/xla/stream_executor/cuda/cuda_fft.cc:607] Unable to register cuFFT factory: Attempting to register factory for plugin cuFFT when one has already been registered\n",
      "2024-03-25 20:31:57.964101: E external/local_xla/xla/stream_executor/cuda/cuda_blas.cc:1515] Unable to register cuBLAS factory: Attempting to register factory for plugin cuBLAS when one has already been registered\n",
      "2024-03-25 20:31:57.972653: I tensorflow/core/platform/cpu_feature_guard.cc:182] This TensorFlow binary is optimized to use available CPU instructions in performance-critical operations.\n",
      "To enable the following instructions: AVX2 FMA, in other operations, rebuild TensorFlow with the appropriate compiler flags.\n",
      "2024-03-25 20:31:59.368911: W tensorflow/compiler/tf2tensorrt/utils/py_utils.cc:38] TF-TRT Warning: Could not find TensorRT\n"
     ]
    }
   ],
   "source": [
    "import numpy as np\n",
    "import pandas as pd\n",
    "import matplotlib.pyplot as plt\n",
    "import tensorflow as tf\n",
    "from tensorflow.data import TFRecordDataset\n",
    "from tensorflow.keras import datasets, layers, models, losses, callbacks"
   ]
  },
  {
   "cell_type": "code",
   "execution_count": 2,
   "metadata": {},
   "outputs": [],
   "source": [
    "MODEL_NAME = \"./treino/primeiro_treino\"\n",
    "PASTA_FOURIER = \"data/fourier/\"\n",
    "SPS = 200"
   ]
  },
  {
   "cell_type": "code",
   "execution_count": 3,
   "metadata": {},
   "outputs": [],
   "source": [
    "df = pd.read_csv('data/scores.csv')"
   ]
  },
  {
   "cell_type": "code",
   "execution_count": 4,
   "metadata": {},
   "outputs": [],
   "source": [
    "df = df.sample(frac=1, random_state=200)"
   ]
  },
  {
   "cell_type": "code",
   "execution_count": 5,
   "metadata": {},
   "outputs": [],
   "source": [
    "df_val = df.head(2700)\n",
    "df_train = df.tail( df.shape[0]- 2700 )"
   ]
  },
  {
   "cell_type": "code",
   "execution_count": 6,
   "metadata": {},
   "outputs": [],
   "source": [
    "def get_data(eeg):\n",
    "    return np.load(PASTA_FOURIER+str(eeg)+\".npy\")\n",
    "\n",
    "\n",
    "def get_start_end(row, pos, max_size):\n",
    "    if pos == len(row['janelas']):\n",
    "        return max_size, max_size\n",
    "\n",
    "    j = row['janelas'].split(',')[0].split('-')\n",
    "    return float(j[0])*2, float(j[1])*2\n",
    "\n",
    "def score_data(row):\n",
    "    data = get_data(row['eeg_id'])\n",
    "    max_size = data.shape[0]\n",
    "    scores = [] \n",
    "    j_pos = 0\n",
    "    start, end = get_start_end(row, j_pos, max_size)\n",
    "\n",
    "    for i in range(max_size):\n",
    "        if end < i:\n",
    "            j_pos += 1\n",
    "            start, end = get_start_end(row, j_pos, max_size)\n",
    "\n",
    "        if i >= start and i <= end:\n",
    "            scores.append( [row['seizure_vote'],row['lpd_vote'],row['gpd_vote'],row['lrda_vote'],row['grda_vote'],row['other_vote'] ] )\n",
    "        else:\n",
    "            scores.append( [0.0, 0.0, 0.0, 0.0, 0.0, 0.0] )\n",
    "\n",
    "\n",
    "    return np.expand_dims(data, -1), scores\n"
   ]
  },
  {
   "cell_type": "code",
   "execution_count": 23,
   "metadata": {},
   "outputs": [],
   "source": [
    "def get_scored_train_data():\n",
    "    for i, row in df_train.iterrows():\n",
    "        yield( score_data(row) )\n",
    "\n",
    "def get_scored_val_data():\n",
    "    for i, row in df_val.iterrows():\n",
    "        yield( score_data(row) )\n"
   ]
  },
  {
   "cell_type": "code",
   "execution_count": 24,
   "metadata": {},
   "outputs": [],
   "source": [
    "# gpu_options = tf.compat.v1.GPUOptions(per_process_gpu_memory_fraction=0.4) \n",
    "\n",
    "# tf.compat.v1.disable_eager_execution()\n",
    "\n",
    "\n",
    "# config = tf.compat.v1.ConfigProto() \n",
    "# config.gpu_options.allow_growth=True \n",
    "# sess = tf.compat.v1.Session(config=config) \n"
   ]
  },
  {
   "cell_type": "code",
   "execution_count": 9,
   "metadata": {},
   "outputs": [
    {
     "name": "stderr",
     "output_type": "stream",
     "text": [
      "2024-03-25 20:32:00.731311: I external/local_xla/xla/stream_executor/cuda/cuda_executor.cc:901] successful NUMA node read from SysFS had negative value (-1), but there must be at least one NUMA node, so returning NUMA node zero. See more at https://github.com/torvalds/linux/blob/v6.0/Documentation/ABI/testing/sysfs-bus-pci#L344-L355\n",
      "2024-03-25 20:32:00.798846: I external/local_xla/xla/stream_executor/cuda/cuda_executor.cc:901] successful NUMA node read from SysFS had negative value (-1), but there must be at least one NUMA node, so returning NUMA node zero. See more at https://github.com/torvalds/linux/blob/v6.0/Documentation/ABI/testing/sysfs-bus-pci#L344-L355\n",
      "2024-03-25 20:32:00.799147: I external/local_xla/xla/stream_executor/cuda/cuda_executor.cc:901] successful NUMA node read from SysFS had negative value (-1), but there must be at least one NUMA node, so returning NUMA node zero. See more at https://github.com/torvalds/linux/blob/v6.0/Documentation/ABI/testing/sysfs-bus-pci#L344-L355\n",
      "2024-03-25 20:32:00.800933: I external/local_xla/xla/stream_executor/cuda/cuda_executor.cc:901] successful NUMA node read from SysFS had negative value (-1), but there must be at least one NUMA node, so returning NUMA node zero. See more at https://github.com/torvalds/linux/blob/v6.0/Documentation/ABI/testing/sysfs-bus-pci#L344-L355\n",
      "2024-03-25 20:32:00.801445: I external/local_xla/xla/stream_executor/cuda/cuda_executor.cc:901] successful NUMA node read from SysFS had negative value (-1), but there must be at least one NUMA node, so returning NUMA node zero. See more at https://github.com/torvalds/linux/blob/v6.0/Documentation/ABI/testing/sysfs-bus-pci#L344-L355\n",
      "2024-03-25 20:32:00.801774: I external/local_xla/xla/stream_executor/cuda/cuda_executor.cc:901] successful NUMA node read from SysFS had negative value (-1), but there must be at least one NUMA node, so returning NUMA node zero. See more at https://github.com/torvalds/linux/blob/v6.0/Documentation/ABI/testing/sysfs-bus-pci#L344-L355\n",
      "2024-03-25 20:32:00.887829: I external/local_xla/xla/stream_executor/cuda/cuda_executor.cc:901] successful NUMA node read from SysFS had negative value (-1), but there must be at least one NUMA node, so returning NUMA node zero. See more at https://github.com/torvalds/linux/blob/v6.0/Documentation/ABI/testing/sysfs-bus-pci#L344-L355\n",
      "2024-03-25 20:32:00.888118: I external/local_xla/xla/stream_executor/cuda/cuda_executor.cc:901] successful NUMA node read from SysFS had negative value (-1), but there must be at least one NUMA node, so returning NUMA node zero. See more at https://github.com/torvalds/linux/blob/v6.0/Documentation/ABI/testing/sysfs-bus-pci#L344-L355\n",
      "2024-03-25 20:32:00.888453: I external/local_xla/xla/stream_executor/cuda/cuda_executor.cc:901] successful NUMA node read from SysFS had negative value (-1), but there must be at least one NUMA node, so returning NUMA node zero. See more at https://github.com/torvalds/linux/blob/v6.0/Documentation/ABI/testing/sysfs-bus-pci#L344-L355\n",
      "2024-03-25 20:32:00.888641: I tensorflow/core/common_runtime/gpu/gpu_device.cc:1929] Created device /job:localhost/replica:0/task:0/device:GPU:0 with 1689 MB memory:  -> device: 0, name: Quadro M1000M, pci bus id: 0000:01:00.0, compute capability: 5.0\n"
     ]
    }
   ],
   "source": [
    "# reg = tf.keras.regularizers.L1L2(l1=1, l2=1)\n",
    "# reg = tf.keras.regularizers.l1()\n",
    "# reg = tf.keras.regularizers.L2(l2=0.00000001)\n",
    "reg=None\n",
    "act = \"relu\"\n",
    "\n",
    "model = models.Sequential()\n",
    "model.add(layers.Conv2D(16, (2, 2), activation=act, kernel_regularizer=reg, input_shape=(20, 200, 1)))\n",
    "model.add(layers.MaxPooling2D((2, 20)))\n",
    "model.add(layers.Conv2D(32, (2, 2), activation=act, kernel_regularizer=reg))\n",
    "model.add(layers.MaxPooling2D((2, 2)))\n",
    "model.add(layers.Conv2D(64, (2, 2), activation=act, kernel_regularizer=reg))\n",
    "model.add(layers.MaxPooling2D((2, 2)))\n",
    "model.add(layers.Flatten())\n",
    "model.add(layers.Dense(500, activation=act, kernel_regularizer=reg))\n",
    "model.add(layers.Dense(60, activation=act, kernel_regularizer=reg))\n",
    "model.add(layers.Dense(6, activation='softmax'))"
   ]
  },
  {
   "cell_type": "code",
   "execution_count": 10,
   "metadata": {},
   "outputs": [],
   "source": [
    "model=tf.keras.models.load_model(MODEL_NAME)"
   ]
  },
  {
   "cell_type": "code",
   "execution_count": 11,
   "metadata": {},
   "outputs": [
    {
     "name": "stdout",
     "output_type": "stream",
     "text": [
      "Model: \"sequential_4\"\n",
      "_________________________________________________________________\n",
      " Layer (type)                Output Shape              Param #   \n",
      "=================================================================\n",
      " conv2d_10 (Conv2D)          (None, 19, 199, 16)       80        \n",
      "                                                                 \n",
      " max_pooling2d_9 (MaxPoolin  (None, 9, 9, 16)          0         \n",
      " g2D)                                                            \n",
      "                                                                 \n",
      " conv2d_11 (Conv2D)          (None, 8, 8, 32)          2080      \n",
      "                                                                 \n",
      " max_pooling2d_10 (MaxPooli  (None, 4, 4, 32)          0         \n",
      " ng2D)                                                           \n",
      "                                                                 \n",
      " conv2d_12 (Conv2D)          (None, 3, 3, 32)          4128      \n",
      "                                                                 \n",
      " max_pooling2d_11 (MaxPooli  (None, 1, 1, 32)          0         \n",
      " ng2D)                                                           \n",
      "                                                                 \n",
      " flatten_3 (Flatten)         (None, 32)                0         \n",
      "                                                                 \n",
      " dense_10 (Dense)            (None, 500)               16500     \n",
      "                                                                 \n",
      " dense_11 (Dense)            (None, 60)                30060     \n",
      "                                                                 \n",
      " dense_12 (Dense)            (None, 6)                 366       \n",
      "                                                                 \n",
      "=================================================================\n",
      "Total params: 53214 (207.87 KB)\n",
      "Trainable params: 53214 (207.87 KB)\n",
      "Non-trainable params: 0 (0.00 Byte)\n",
      "_________________________________________________________________\n"
     ]
    }
   ],
   "source": [
    "model.summary()"
   ]
  },
  {
   "cell_type": "code",
   "execution_count": 25,
   "metadata": {},
   "outputs": [],
   "source": [
    "train_data = tf.data.Dataset.from_generator(\n",
    "        get_scored_train_data,\n",
    "        output_signature = (\n",
    "            tf.TensorSpec(shape=(None, 20, 200, 1), dtype=tf.float32),\n",
    "            tf.TensorSpec(shape=(None, 6), dtype=tf.float32)\n",
    "        )\n",
    "    )\n",
    "\n",
    "val_data = tf.data.Dataset.from_generator(\n",
    "        get_scored_val_data,\n",
    "        output_signature = (\n",
    "            tf.TensorSpec(shape=(None, 20, 200, 1), dtype=tf.float32),\n",
    "            tf.TensorSpec(shape=(None, 6), dtype=tf.float32)\n",
    "        )\n",
    "    )"
   ]
  },
  {
   "cell_type": "code",
   "execution_count": 13,
   "metadata": {},
   "outputs": [],
   "source": [
    "model.compile(\n",
    "    optimizer = tf.keras.optimizers.legacy.Adam(learning_rate=0.0001),\n",
    "    loss=tf.keras.losses.CategoricalCrossentropy()\n",
    ")"
   ]
  },
  {
   "cell_type": "code",
   "execution_count": 31,
   "metadata": {},
   "outputs": [
    {
     "name": "stdout",
     "output_type": "stream",
     "text": [
      "Epoch 1/10\n",
      " 1/20 [>.............................] - ETA: 1s - loss: 1.9565"
     ]
    },
    {
     "name": "stdout",
     "output_type": "stream",
     "text": [
      "20/20 [==============================] - ETA: 0s - loss: 1.4586INFO:tensorflow:Assets written to: ./treino/primeiro_treino/assets\n"
     ]
    },
    {
     "name": "stderr",
     "output_type": "stream",
     "text": [
      "INFO:tensorflow:Assets written to: ./treino/primeiro_treino/assets\n"
     ]
    },
    {
     "name": "stdout",
     "output_type": "stream",
     "text": [
      "20/20 [==============================] - 2s 93ms/step - loss: 1.4586 - val_loss: 1.4796\n",
      "Epoch 2/10\n",
      "20/20 [==============================] - 1s 40ms/step - loss: 1.1901 - val_loss: 1.4848\n",
      "Epoch 3/10\n"
     ]
    },
    {
     "name": "stderr",
     "output_type": "stream",
     "text": [
      "2024-03-25 20:34:53.149813: W external/local_tsl/tsl/framework/bfc_allocator.cc:485] Allocator (GPU_0_bfc) ran out of memory trying to allocate 1.12GiB (rounded to 1205806336)requested by op gradient_tape/sequential_4/max_pooling2d_9/MaxPool/MaxPoolGrad\n",
      "If the cause is memory fragmentation maybe the environment variable 'TF_GPU_ALLOCATOR=cuda_malloc_async' will improve the situation. \n",
      "Current allocation summary follows.\n",
      "Current allocation summary follows.\n",
      "2024-03-25 20:34:53.149860: I external/local_tsl/tsl/framework/bfc_allocator.cc:1039] BFCAllocator dump for GPU_0_bfc\n",
      "2024-03-25 20:34:53.149880: I external/local_tsl/tsl/framework/bfc_allocator.cc:1046] Bin (256): \tTotal Chunks: 64, Chunks in use: 63. 16.0KiB allocated for chunks. 15.8KiB in use in bin. 2.8KiB client-requested in use in bin.\n",
      "2024-03-25 20:34:53.149896: I external/local_tsl/tsl/framework/bfc_allocator.cc:1046] Bin (512): \tTotal Chunks: 0, Chunks in use: 0. 0B allocated for chunks. 0B in use in bin. 0B client-requested in use in bin.\n",
      "2024-03-25 20:34:53.149913: I external/local_tsl/tsl/framework/bfc_allocator.cc:1046] Bin (1024): \tTotal Chunks: 3, Chunks in use: 3. 4.2KiB allocated for chunks. 4.2KiB in use in bin. 3.8KiB client-requested in use in bin.\n",
      "2024-03-25 20:34:53.149929: I external/local_tsl/tsl/framework/bfc_allocator.cc:1046] Bin (2048): \tTotal Chunks: 5, Chunks in use: 4. 10.0KiB allocated for chunks. 8.0KiB in use in bin. 7.3KiB client-requested in use in bin.\n",
      "2024-03-25 20:34:53.149943: I external/local_tsl/tsl/framework/bfc_allocator.cc:1046] Bin (4096): \tTotal Chunks: 0, Chunks in use: 0. 0B allocated for chunks. 0B in use in bin. 0B client-requested in use in bin.\n",
      "2024-03-25 20:34:53.149961: I external/local_tsl/tsl/framework/bfc_allocator.cc:1046] Bin (8192): \tTotal Chunks: 4, Chunks in use: 4. 34.0KiB allocated for chunks. 34.0KiB in use in bin. 32.0KiB client-requested in use in bin.\n",
      "2024-03-25 20:34:53.149981: I external/local_tsl/tsl/framework/bfc_allocator.cc:1046] Bin (16384): \tTotal Chunks: 3, Chunks in use: 3. 58.8KiB allocated for chunks. 58.8KiB in use in bin. 48.0KiB client-requested in use in bin.\n",
      "2024-03-25 20:34:53.150004: I external/local_tsl/tsl/framework/bfc_allocator.cc:1046] Bin (32768): \tTotal Chunks: 4, Chunks in use: 3. 219.5KiB allocated for chunks. 187.5KiB in use in bin. 187.5KiB client-requested in use in bin.\n",
      "2024-03-25 20:34:53.150021: I external/local_tsl/tsl/framework/bfc_allocator.cc:1046] Bin (65536): \tTotal Chunks: 2, Chunks in use: 2. 240.2KiB allocated for chunks. 240.2KiB in use in bin. 234.4KiB client-requested in use in bin.\n",
      "2024-03-25 20:34:53.150033: I external/local_tsl/tsl/framework/bfc_allocator.cc:1046] Bin (131072): \tTotal Chunks: 2, Chunks in use: 1. 475.0KiB allocated for chunks. 232.8KiB in use in bin. 117.2KiB client-requested in use in bin.\n",
      "2024-03-25 20:34:53.150043: I external/local_tsl/tsl/framework/bfc_allocator.cc:1046] Bin (262144): \tTotal Chunks: 0, Chunks in use: 0. 0B allocated for chunks. 0B in use in bin. 0B client-requested in use in bin.\n",
      "2024-03-25 20:34:53.150053: I external/local_tsl/tsl/framework/bfc_allocator.cc:1046] Bin (524288): \tTotal Chunks: 0, Chunks in use: 0. 0B allocated for chunks. 0B in use in bin. 0B client-requested in use in bin.\n",
      "2024-03-25 20:34:53.150062: I external/local_tsl/tsl/framework/bfc_allocator.cc:1046] Bin (1048576): \tTotal Chunks: 0, Chunks in use: 0. 0B allocated for chunks. 0B in use in bin. 0B client-requested in use in bin.\n",
      "2024-03-25 20:34:53.150079: I external/local_tsl/tsl/framework/bfc_allocator.cc:1046] Bin (2097152): \tTotal Chunks: 0, Chunks in use: 0. 0B allocated for chunks. 0B in use in bin. 0B client-requested in use in bin.\n",
      "2024-03-25 20:34:53.150094: I external/local_tsl/tsl/framework/bfc_allocator.cc:1046] Bin (4194304): \tTotal Chunks: 0, Chunks in use: 0. 0B allocated for chunks. 0B in use in bin. 0B client-requested in use in bin.\n",
      "2024-03-25 20:34:53.150104: I external/local_tsl/tsl/framework/bfc_allocator.cc:1046] Bin (8388608): \tTotal Chunks: 0, Chunks in use: 0. 0B allocated for chunks. 0B in use in bin. 0B client-requested in use in bin.\n",
      "2024-03-25 20:34:53.150116: I external/local_tsl/tsl/framework/bfc_allocator.cc:1046] Bin (16777216): \tTotal Chunks: 3, Chunks in use: 2. 73.91MiB allocated for chunks. 49.27MiB in use in bin. 49.27MiB client-requested in use in bin.\n",
      "2024-03-25 20:34:53.150126: I external/local_tsl/tsl/framework/bfc_allocator.cc:1046] Bin (33554432): \tTotal Chunks: 0, Chunks in use: 0. 0B allocated for chunks. 0B in use in bin. 0B client-requested in use in bin.\n",
      "2024-03-25 20:34:53.150140: I external/local_tsl/tsl/framework/bfc_allocator.cc:1046] Bin (67108864): \tTotal Chunks: 1, Chunks in use: 1. 76.03MiB allocated for chunks. 76.03MiB in use in bin. 76.03MiB client-requested in use in bin.\n",
      "2024-03-25 20:34:53.150151: I external/local_tsl/tsl/framework/bfc_allocator.cc:1046] Bin (134217728): \tTotal Chunks: 0, Chunks in use: 0. 0B allocated for chunks. 0B in use in bin. 0B client-requested in use in bin.\n",
      "2024-03-25 20:34:53.150161: I external/local_tsl/tsl/framework/bfc_allocator.cc:1046] Bin (268435456): \tTotal Chunks: 2, Chunks in use: 1. 1.50GiB allocated for chunks. 1.12GiB in use in bin. 1.12GiB client-requested in use in bin.\n",
      "2024-03-25 20:34:53.150172: I external/local_tsl/tsl/framework/bfc_allocator.cc:1062] Bin for 1.12GiB was 256.00MiB, Chunk State: \n",
      "2024-03-25 20:34:53.150192: I external/local_tsl/tsl/framework/bfc_allocator.cc:1068]   Size: 388.33MiB | Requested Size: 116.8KiB | in_use: 0 | bin_num: 20, prev:   Size: 24.63MiB | Requested Size: 24.63MiB | in_use: 1 | bin_num: -1\n",
      "2024-03-25 20:34:53.150207: I external/local_tsl/tsl/framework/bfc_allocator.cc:1075] Next region of size 1771307008\n",
      "2024-03-25 20:34:53.150221: I external/local_tsl/tsl/framework/bfc_allocator.cc:1095] InUse at 701920000 of size 256 next 1\n",
      "2024-03-25 20:34:53.150235: I external/local_tsl/tsl/framework/bfc_allocator.cc:1095] InUse at 701920100 of size 1280 next 2\n",
      "2024-03-25 20:34:53.150248: I external/local_tsl/tsl/framework/bfc_allocator.cc:1095] InUse at 701920600 of size 256 next 3\n",
      "2024-03-25 20:34:53.150261: I external/local_tsl/tsl/framework/bfc_allocator.cc:1095] InUse at 701920700 of size 256 next 4\n",
      "2024-03-25 20:34:53.150275: I external/local_tsl/tsl/framework/bfc_allocator.cc:1095] InUse at 701920800 of size 256 next 6\n",
      "2024-03-25 20:34:53.150289: I external/local_tsl/tsl/framework/bfc_allocator.cc:1095] InUse at 701920900 of size 256 next 5\n",
      "2024-03-25 20:34:53.150303: I external/local_tsl/tsl/framework/bfc_allocator.cc:1095] InUse at 701920a00 of size 256 next 7\n",
      "2024-03-25 20:34:53.150317: I external/local_tsl/tsl/framework/bfc_allocator.cc:1095] InUse at 701920b00 of size 256 next 8\n",
      "2024-03-25 20:34:53.150330: I external/local_tsl/tsl/framework/bfc_allocator.cc:1095] InUse at 701920c00 of size 256 next 9\n",
      "2024-03-25 20:34:53.150346: I external/local_tsl/tsl/framework/bfc_allocator.cc:1095] InUse at 701920d00 of size 256 next 11\n",
      "2024-03-25 20:34:53.150360: I external/local_tsl/tsl/framework/bfc_allocator.cc:1095] InUse at 701920e00 of size 256 next 12\n",
      "2024-03-25 20:34:53.150374: I external/local_tsl/tsl/framework/bfc_allocator.cc:1095] InUse at 701920f00 of size 256 next 10\n",
      "2024-03-25 20:34:53.150388: I external/local_tsl/tsl/framework/bfc_allocator.cc:1095] InUse at 701921000 of size 256 next 17\n",
      "2024-03-25 20:34:53.150402: I external/local_tsl/tsl/framework/bfc_allocator.cc:1095] InUse at 701921100 of size 256 next 13\n",
      "2024-03-25 20:34:53.150415: I external/local_tsl/tsl/framework/bfc_allocator.cc:1095] InUse at 701921200 of size 256 next 16\n",
      "2024-03-25 20:34:53.150429: I external/local_tsl/tsl/framework/bfc_allocator.cc:1095] Free  at 701921300 of size 2048 next 22\n",
      "2024-03-25 20:34:53.150443: I external/local_tsl/tsl/framework/bfc_allocator.cc:1095] InUse at 701921b00 of size 256 next 20\n",
      "2024-03-25 20:34:53.150457: I external/local_tsl/tsl/framework/bfc_allocator.cc:1095] InUse at 701921c00 of size 256 next 21\n",
      "2024-03-25 20:34:53.150470: I external/local_tsl/tsl/framework/bfc_allocator.cc:1095] InUse at 701921d00 of size 256 next 27\n",
      "2024-03-25 20:34:53.150485: I external/local_tsl/tsl/framework/bfc_allocator.cc:1095] InUse at 701921e00 of size 256 next 25\n",
      "2024-03-25 20:34:53.150498: I external/local_tsl/tsl/framework/bfc_allocator.cc:1095] InUse at 701921f00 of size 256 next 26\n",
      "2024-03-25 20:34:53.150512: I external/local_tsl/tsl/framework/bfc_allocator.cc:1095] InUse at 701922000 of size 256 next 30\n",
      "2024-03-25 20:34:53.150526: I external/local_tsl/tsl/framework/bfc_allocator.cc:1095] InUse at 701922100 of size 256 next 74\n",
      "2024-03-25 20:34:53.150540: I external/local_tsl/tsl/framework/bfc_allocator.cc:1095] InUse at 701922200 of size 256 next 36\n",
      "2024-03-25 20:34:53.150555: I external/local_tsl/tsl/framework/bfc_allocator.cc:1095] InUse at 701922300 of size 256 next 32\n",
      "2024-03-25 20:34:53.150568: I external/local_tsl/tsl/framework/bfc_allocator.cc:1095] InUse at 701922400 of size 256 next 35\n",
      "2024-03-25 20:34:53.150581: I external/local_tsl/tsl/framework/bfc_allocator.cc:1095] InUse at 701922500 of size 256 next 31\n",
      "2024-03-25 20:34:53.150596: I external/local_tsl/tsl/framework/bfc_allocator.cc:1095] InUse at 701922600 of size 256 next 39\n",
      "2024-03-25 20:34:53.150609: I external/local_tsl/tsl/framework/bfc_allocator.cc:1095] InUse at 701922700 of size 256 next 40\n",
      "2024-03-25 20:34:53.150623: I external/local_tsl/tsl/framework/bfc_allocator.cc:1095] InUse at 701922800 of size 256 next 41\n",
      "2024-03-25 20:34:53.150637: I external/local_tsl/tsl/framework/bfc_allocator.cc:1095] InUse at 701922900 of size 256 next 75\n",
      "2024-03-25 20:34:53.150650: I external/local_tsl/tsl/framework/bfc_allocator.cc:1095] InUse at 701922a00 of size 256 next 51\n",
      "2024-03-25 20:34:53.150663: I external/local_tsl/tsl/framework/bfc_allocator.cc:1095] InUse at 701922b00 of size 256 next 44\n",
      "2024-03-25 20:34:53.150677: I external/local_tsl/tsl/framework/bfc_allocator.cc:1095] InUse at 701922c00 of size 256 next 72\n",
      "2024-03-25 20:34:53.150691: I external/local_tsl/tsl/framework/bfc_allocator.cc:1095] InUse at 701922d00 of size 256 next 73\n",
      "2024-03-25 20:34:53.150705: I external/local_tsl/tsl/framework/bfc_allocator.cc:1095] InUse at 701922e00 of size 256 next 33\n",
      "2024-03-25 20:34:53.150718: I external/local_tsl/tsl/framework/bfc_allocator.cc:1095] InUse at 701922f00 of size 256 next 93\n",
      "2024-03-25 20:34:53.150732: I external/local_tsl/tsl/framework/bfc_allocator.cc:1095] InUse at 701923000 of size 256 next 102\n",
      "2024-03-25 20:34:53.150745: I external/local_tsl/tsl/framework/bfc_allocator.cc:1095] InUse at 701923100 of size 256 next 23\n",
      "2024-03-25 20:34:53.150759: I external/local_tsl/tsl/framework/bfc_allocator.cc:1095] InUse at 701923200 of size 256 next 85\n",
      "2024-03-25 20:34:53.150773: I external/local_tsl/tsl/framework/bfc_allocator.cc:1095] InUse at 701923300 of size 256 next 91\n",
      "2024-03-25 20:34:53.150787: I external/local_tsl/tsl/framework/bfc_allocator.cc:1095] Free  at 701923400 of size 256 next 34\n",
      "2024-03-25 20:34:53.150804: I external/local_tsl/tsl/framework/bfc_allocator.cc:1095] InUse at 701923500 of size 256 next 66\n",
      "2024-03-25 20:34:53.150818: I external/local_tsl/tsl/framework/bfc_allocator.cc:1095] InUse at 701923600 of size 256 next 29\n",
      "2024-03-25 20:34:53.150831: I external/local_tsl/tsl/framework/bfc_allocator.cc:1095] InUse at 701923700 of size 256 next 38\n",
      "2024-03-25 20:34:53.150845: I external/local_tsl/tsl/framework/bfc_allocator.cc:1095] InUse at 701923800 of size 256 next 37\n",
      "2024-03-25 20:34:53.150858: I external/local_tsl/tsl/framework/bfc_allocator.cc:1095] InUse at 701923900 of size 256 next 46\n",
      "2024-03-25 20:34:53.150872: I external/local_tsl/tsl/framework/bfc_allocator.cc:1095] InUse at 701923a00 of size 2048 next 49\n",
      "2024-03-25 20:34:53.150887: I external/local_tsl/tsl/framework/bfc_allocator.cc:1095] InUse at 701924200 of size 256 next 43\n",
      "2024-03-25 20:34:53.150900: I external/local_tsl/tsl/framework/bfc_allocator.cc:1095] InUse at 701924300 of size 1536 next 53\n",
      "2024-03-25 20:34:53.150916: I external/local_tsl/tsl/framework/bfc_allocator.cc:1095] InUse at 701924900 of size 256 next 50\n",
      "2024-03-25 20:34:53.150930: I external/local_tsl/tsl/framework/bfc_allocator.cc:1095] InUse at 701924a00 of size 256 next 52\n",
      "2024-03-25 20:34:53.150944: I external/local_tsl/tsl/framework/bfc_allocator.cc:1095] InUse at 701924b00 of size 256 next 54\n",
      "2024-03-25 20:34:53.150958: I external/local_tsl/tsl/framework/bfc_allocator.cc:1095] InUse at 701924c00 of size 256 next 56\n",
      "2024-03-25 20:34:53.150972: I external/local_tsl/tsl/framework/bfc_allocator.cc:1095] InUse at 701924d00 of size 256 next 57\n",
      "2024-03-25 20:34:53.150985: I external/local_tsl/tsl/framework/bfc_allocator.cc:1095] InUse at 701924e00 of size 256 next 77\n",
      "2024-03-25 20:34:53.150999: I external/local_tsl/tsl/framework/bfc_allocator.cc:1095] InUse at 701924f00 of size 256 next 14\n",
      "2024-03-25 20:34:53.151013: I external/local_tsl/tsl/framework/bfc_allocator.cc:1095] InUse at 701925000 of size 8192 next 15\n",
      "2024-03-25 20:34:53.151028: I external/local_tsl/tsl/framework/bfc_allocator.cc:1095] InUse at 701927000 of size 10240 next 58\n",
      "2024-03-25 20:34:53.151041: I external/local_tsl/tsl/framework/bfc_allocator.cc:1095] InUse at 701929800 of size 256 next 59\n",
      "2024-03-25 20:34:53.151055: I external/local_tsl/tsl/framework/bfc_allocator.cc:1095] InUse at 701929900 of size 256 next 60\n",
      "2024-03-25 20:34:53.151070: I external/local_tsl/tsl/framework/bfc_allocator.cc:1095] InUse at 701929a00 of size 256 next 62\n",
      "2024-03-25 20:34:53.151083: I external/local_tsl/tsl/framework/bfc_allocator.cc:1095] InUse at 701929b00 of size 256 next 63\n",
      "2024-03-25 20:34:53.151096: I external/local_tsl/tsl/framework/bfc_allocator.cc:1095] InUse at 701929c00 of size 256 next 65\n",
      "2024-03-25 20:34:53.151111: I external/local_tsl/tsl/framework/bfc_allocator.cc:1095] InUse at 701929d00 of size 2048 next 67\n",
      "2024-03-25 20:34:53.151125: I external/local_tsl/tsl/framework/bfc_allocator.cc:1095] InUse at 70192a500 of size 16384 next 42\n",
      "2024-03-25 20:34:53.151140: I external/local_tsl/tsl/framework/bfc_allocator.cc:1095] InUse at 70192e500 of size 8192 next 55\n",
      "2024-03-25 20:34:53.151154: I external/local_tsl/tsl/framework/bfc_allocator.cc:1095] InUse at 701930500 of size 27392 next 19\n",
      "2024-03-25 20:34:53.151169: I external/local_tsl/tsl/framework/bfc_allocator.cc:1095] Free  at 701937000 of size 32768 next 18\n",
      "2024-03-25 20:34:53.151183: I external/local_tsl/tsl/framework/bfc_allocator.cc:1095] InUse at 70193f000 of size 2048 next 61\n",
      "2024-03-25 20:34:53.151197: I external/local_tsl/tsl/framework/bfc_allocator.cc:1095] InUse at 70193f800 of size 125952 next 47\n",
      "2024-03-25 20:34:53.151214: I external/local_tsl/tsl/framework/bfc_allocator.cc:1095] InUse at 70195e400 of size 64000 next 45\n",
      "2024-03-25 20:34:53.151229: I external/local_tsl/tsl/framework/bfc_allocator.cc:1095] InUse at 70196de00 of size 64000 next 24\n",
      "2024-03-25 20:34:53.151244: I external/local_tsl/tsl/framework/bfc_allocator.cc:1095] Free  at 70197d800 of size 248064 next 28\n",
      "2024-03-25 20:34:53.151258: I external/local_tsl/tsl/framework/bfc_allocator.cc:1095] InUse at 7019ba100 of size 120064 next 48\n",
      "2024-03-25 20:34:53.151272: I external/local_tsl/tsl/framework/bfc_allocator.cc:1095] InUse at 7019d7600 of size 2048 next 76\n",
      "2024-03-25 20:34:53.151286: I external/local_tsl/tsl/framework/bfc_allocator.cc:1095] InUse at 7019d7e00 of size 238336 next 68\n",
      "2024-03-25 20:34:53.151301: I external/local_tsl/tsl/framework/bfc_allocator.cc:1095] InUse at 701a12100 of size 256 next 69\n",
      "2024-03-25 20:34:53.151315: I external/local_tsl/tsl/framework/bfc_allocator.cc:1095] InUse at 701a12200 of size 8192 next 70\n",
      "2024-03-25 20:34:53.151330: I external/local_tsl/tsl/framework/bfc_allocator.cc:1095] InUse at 701a14200 of size 16384 next 71\n",
      "2024-03-25 20:34:53.151344: I external/local_tsl/tsl/framework/bfc_allocator.cc:1095] InUse at 701a18200 of size 64000 next 64\n",
      "2024-03-25 20:34:53.151358: I external/local_tsl/tsl/framework/bfc_allocator.cc:1095] InUse at 701a27c00 of size 1536 next 78\n",
      "2024-03-25 20:34:53.151372: I external/local_tsl/tsl/framework/bfc_allocator.cc:1095] InUse at 701a28200 of size 256 next 79\n",
      "2024-03-25 20:34:53.151386: I external/local_tsl/tsl/framework/bfc_allocator.cc:1095] InUse at 701a28300 of size 256 next 80\n",
      "2024-03-25 20:34:53.151400: I external/local_tsl/tsl/framework/bfc_allocator.cc:1095] InUse at 701a28400 of size 256 next 81\n",
      "2024-03-25 20:34:53.151415: I external/local_tsl/tsl/framework/bfc_allocator.cc:1095] InUse at 701a28500 of size 256 next 82\n",
      "2024-03-25 20:34:53.151429: I external/local_tsl/tsl/framework/bfc_allocator.cc:1095] InUse at 701a28600 of size 256 next 83\n",
      "2024-03-25 20:34:53.151443: I external/local_tsl/tsl/framework/bfc_allocator.cc:1095] InUse at 701a28700 of size 79728128 next 100\n",
      "2024-03-25 20:34:53.151460: I external/local_tsl/tsl/framework/bfc_allocator.cc:1095] InUse at 706631500 of size 1205806336 next 96\n",
      "2024-03-25 20:34:53.151477: I external/local_tsl/tsl/framework/bfc_allocator.cc:1095] InUse at 74e423a00 of size 25831936 next 94\n",
      "2024-03-25 20:34:53.151495: I external/local_tsl/tsl/framework/bfc_allocator.cc:1095] Free  at 74fcc6400 of size 25831936 next 98\n",
      "2024-03-25 20:34:53.151511: I external/local_tsl/tsl/framework/bfc_allocator.cc:1095] InUse at 751568e00 of size 25831936 next 86\n",
      "2024-03-25 20:34:53.151527: I external/local_tsl/tsl/framework/bfc_allocator.cc:1095] Free  at 752e0b800 of size 407193600 next 18446744073709551615\n",
      "2024-03-25 20:34:53.151543: I external/local_tsl/tsl/framework/bfc_allocator.cc:1100]      Summary of in-use Chunks by size: \n",
      "2024-03-25 20:34:53.151562: I external/local_tsl/tsl/framework/bfc_allocator.cc:1103] 63 Chunks of size 256 totalling 15.8KiB\n",
      "2024-03-25 20:34:53.151579: I external/local_tsl/tsl/framework/bfc_allocator.cc:1103] 1 Chunks of size 1280 totalling 1.2KiB\n",
      "2024-03-25 20:34:53.151595: I external/local_tsl/tsl/framework/bfc_allocator.cc:1103] 2 Chunks of size 1536 totalling 3.0KiB\n",
      "2024-03-25 20:34:53.151609: I external/local_tsl/tsl/framework/bfc_allocator.cc:1103] 4 Chunks of size 2048 totalling 8.0KiB\n",
      "2024-03-25 20:34:53.151625: I external/local_tsl/tsl/framework/bfc_allocator.cc:1103] 3 Chunks of size 8192 totalling 24.0KiB\n",
      "2024-03-25 20:34:53.151641: I external/local_tsl/tsl/framework/bfc_allocator.cc:1103] 1 Chunks of size 10240 totalling 10.0KiB\n",
      "2024-03-25 20:34:53.151658: I external/local_tsl/tsl/framework/bfc_allocator.cc:1103] 2 Chunks of size 16384 totalling 32.0KiB\n",
      "2024-03-25 20:34:53.151675: I external/local_tsl/tsl/framework/bfc_allocator.cc:1103] 1 Chunks of size 27392 totalling 26.8KiB\n",
      "2024-03-25 20:34:53.151692: I external/local_tsl/tsl/framework/bfc_allocator.cc:1103] 3 Chunks of size 64000 totalling 187.5KiB\n",
      "2024-03-25 20:34:53.151709: I external/local_tsl/tsl/framework/bfc_allocator.cc:1103] 1 Chunks of size 120064 totalling 117.2KiB\n",
      "2024-03-25 20:34:53.151727: I external/local_tsl/tsl/framework/bfc_allocator.cc:1103] 1 Chunks of size 125952 totalling 123.0KiB\n",
      "2024-03-25 20:34:53.151745: I external/local_tsl/tsl/framework/bfc_allocator.cc:1103] 1 Chunks of size 238336 totalling 232.8KiB\n",
      "2024-03-25 20:34:53.151763: I external/local_tsl/tsl/framework/bfc_allocator.cc:1103] 2 Chunks of size 25831936 totalling 49.27MiB\n",
      "2024-03-25 20:34:53.151781: I external/local_tsl/tsl/framework/bfc_allocator.cc:1103] 1 Chunks of size 79728128 totalling 76.03MiB\n",
      "2024-03-25 20:34:53.151799: I external/local_tsl/tsl/framework/bfc_allocator.cc:1103] 1 Chunks of size 1205806336 totalling 1.12GiB\n",
      "2024-03-25 20:34:53.151817: I external/local_tsl/tsl/framework/bfc_allocator.cc:1107] Sum Total of in-use chunks: 1.25GiB\n",
      "2024-03-25 20:34:53.151834: I external/local_tsl/tsl/framework/bfc_allocator.cc:1109] Total bytes in pool: 1771307008 memory_limit_: 1771307008 available bytes: 0 curr_region_allocation_bytes_: 3542614016\n",
      "2024-03-25 20:34:53.151855: I external/local_tsl/tsl/framework/bfc_allocator.cc:1114] Stats: \n",
      "Limit:                      1771307008\n",
      "InUse:                      1337998336\n",
      "MaxInUse:                   1604674816\n",
      "NumAllocs:                       12809\n",
      "MaxAllocSize:               1205806336\n",
      "Reserved:                            0\n",
      "PeakReserved:                        0\n",
      "LargestFreeBlock:                    0\n",
      "\n",
      "2024-03-25 20:34:53.151883: W external/local_tsl/tsl/framework/bfc_allocator.cc:497] ******************************************************************************______________________\n",
      "2024-03-25 20:34:53.151917: W tensorflow/core/framework/op_kernel.cc:1839] OP_REQUIRES failed at pooling_ops_common.cc:860 : RESOURCE_EXHAUSTED: OOM when allocating tensor with shape[4983,16,19,199] and type float on /job:localhost/replica:0/task:0/device:GPU:0 by allocator GPU_0_bfc\n"
     ]
    },
    {
     "ename": "ResourceExhaustedError",
     "evalue": "Graph execution error:\n\nDetected at node gradient_tape/sequential_4/max_pooling2d_9/MaxPool/MaxPoolGrad defined at (most recent call last):\n  File \"<frozen runpy>\", line 198, in _run_module_as_main\n\n  File \"<frozen runpy>\", line 88, in _run_code\n\n  File \"/home/cleverson/projetos/.kaggle/lib/python3.11/site-packages/ipykernel_launcher.py\", line 18, in <module>\n\n  File \"/home/cleverson/projetos/.kaggle/lib/python3.11/site-packages/traitlets/config/application.py\", line 1075, in launch_instance\n\n  File \"/home/cleverson/projetos/.kaggle/lib/python3.11/site-packages/ipykernel/kernelapp.py\", line 739, in start\n\n  File \"/home/cleverson/projetos/.kaggle/lib/python3.11/site-packages/tornado/platform/asyncio.py\", line 205, in start\n\n  File \"/usr/lib/python3.11/asyncio/base_events.py\", line 607, in run_forever\n\n  File \"/usr/lib/python3.11/asyncio/base_events.py\", line 1922, in _run_once\n\n  File \"/usr/lib/python3.11/asyncio/events.py\", line 80, in _run\n\n  File \"/home/cleverson/projetos/.kaggle/lib/python3.11/site-packages/ipykernel/kernelbase.py\", line 545, in dispatch_queue\n\n  File \"/home/cleverson/projetos/.kaggle/lib/python3.11/site-packages/ipykernel/kernelbase.py\", line 534, in process_one\n\n  File \"/home/cleverson/projetos/.kaggle/lib/python3.11/site-packages/ipykernel/kernelbase.py\", line 437, in dispatch_shell\n\n  File \"/home/cleverson/projetos/.kaggle/lib/python3.11/site-packages/ipykernel/ipkernel.py\", line 359, in execute_request\n\n  File \"/home/cleverson/projetos/.kaggle/lib/python3.11/site-packages/ipykernel/kernelbase.py\", line 778, in execute_request\n\n  File \"/home/cleverson/projetos/.kaggle/lib/python3.11/site-packages/ipykernel/ipkernel.py\", line 446, in do_execute\n\n  File \"/home/cleverson/projetos/.kaggle/lib/python3.11/site-packages/ipykernel/zmqshell.py\", line 549, in run_cell\n\n  File \"/home/cleverson/projetos/.kaggle/lib/python3.11/site-packages/IPython/core/interactiveshell.py\", line 3075, in run_cell\n\n  File \"/home/cleverson/projetos/.kaggle/lib/python3.11/site-packages/IPython/core/interactiveshell.py\", line 3130, in _run_cell\n\n  File \"/home/cleverson/projetos/.kaggle/lib/python3.11/site-packages/IPython/core/async_helpers.py\", line 129, in _pseudo_sync_runner\n\n  File \"/home/cleverson/projetos/.kaggle/lib/python3.11/site-packages/IPython/core/interactiveshell.py\", line 3334, in run_cell_async\n\n  File \"/home/cleverson/projetos/.kaggle/lib/python3.11/site-packages/IPython/core/interactiveshell.py\", line 3517, in run_ast_nodes\n\n  File \"/home/cleverson/projetos/.kaggle/lib/python3.11/site-packages/IPython/core/interactiveshell.py\", line 3577, in run_code\n\n  File \"/tmp/ipykernel_12474/2663133363.py\", line 1, in <module>\n\n  File \"/home/cleverson/projetos/.kaggle/lib/python3.11/site-packages/keras/src/utils/traceback_utils.py\", line 65, in error_handler\n\n  File \"/home/cleverson/projetos/.kaggle/lib/python3.11/site-packages/keras/src/engine/training.py\", line 1807, in fit\n\n  File \"/home/cleverson/projetos/.kaggle/lib/python3.11/site-packages/keras/src/engine/training.py\", line 1401, in train_function\n\n  File \"/home/cleverson/projetos/.kaggle/lib/python3.11/site-packages/keras/src/engine/training.py\", line 1384, in step_function\n\n  File \"/home/cleverson/projetos/.kaggle/lib/python3.11/site-packages/keras/src/engine/training.py\", line 1373, in run_step\n\n  File \"/home/cleverson/projetos/.kaggle/lib/python3.11/site-packages/keras/src/engine/training.py\", line 1154, in train_step\n\n  File \"/home/cleverson/projetos/.kaggle/lib/python3.11/site-packages/keras/src/optimizers/legacy/optimizer_v2.py\", line 598, in minimize\n\n  File \"/home/cleverson/projetos/.kaggle/lib/python3.11/site-packages/keras/src/optimizers/legacy/optimizer_v2.py\", line 656, in _compute_gradients\n\n  File \"/home/cleverson/projetos/.kaggle/lib/python3.11/site-packages/keras/src/optimizers/legacy/optimizer_v2.py\", line 532, in _get_gradients\n\nOOM when allocating tensor with shape[4983,16,19,199] and type float on /job:localhost/replica:0/task:0/device:GPU:0 by allocator GPU_0_bfc\n\t [[{{node gradient_tape/sequential_4/max_pooling2d_9/MaxPool/MaxPoolGrad}}]]\nHint: If you want to see a list of allocated tensors when OOM happens, add report_tensor_allocations_upon_oom to RunOptions for current allocation info. This isn't available when running in Eager mode.\n [Op:__inference_train_function_2201]",
     "output_type": "error",
     "traceback": [
      "\u001b[0;31m---------------------------------------------------------------------------\u001b[0m",
      "\u001b[0;31mResourceExhaustedError\u001b[0m                    Traceback (most recent call last)",
      "\u001b[1;32m/home/cleverson/projetos/kaggle/KMS/eager_treininho.ipynb Cell 14\u001b[0m line \u001b[0;36m1\n\u001b[0;32m----> <a href='vscode-notebook-cell:/home/cleverson/projetos/kaggle/KMS/eager_treininho.ipynb#X16sZmlsZQ%3D%3D?line=0'>1</a>\u001b[0m history \u001b[39m=\u001b[39m model\u001b[39m.\u001b[39;49mfit(\n\u001b[1;32m      <a href='vscode-notebook-cell:/home/cleverson/projetos/kaggle/KMS/eager_treininho.ipynb#X16sZmlsZQ%3D%3D?line=1'>2</a>\u001b[0m     train_data,\n\u001b[1;32m      <a href='vscode-notebook-cell:/home/cleverson/projetos/kaggle/KMS/eager_treininho.ipynb#X16sZmlsZQ%3D%3D?line=2'>3</a>\u001b[0m     epochs\u001b[39m=\u001b[39;49m\u001b[39m10\u001b[39;49m,\n\u001b[1;32m      <a href='vscode-notebook-cell:/home/cleverson/projetos/kaggle/KMS/eager_treininho.ipynb#X16sZmlsZQ%3D%3D?line=3'>4</a>\u001b[0m     \u001b[39m# batch_size=1,\u001b[39;49;00m\n\u001b[1;32m      <a href='vscode-notebook-cell:/home/cleverson/projetos/kaggle/KMS/eager_treininho.ipynb#X16sZmlsZQ%3D%3D?line=4'>5</a>\u001b[0m     steps_per_epoch\u001b[39m=\u001b[39;49m\u001b[39m20\u001b[39;49m,\n\u001b[1;32m      <a href='vscode-notebook-cell:/home/cleverson/projetos/kaggle/KMS/eager_treininho.ipynb#X16sZmlsZQ%3D%3D?line=5'>6</a>\u001b[0m     \u001b[39m# shuffle=True,\u001b[39;49;00m\n\u001b[1;32m      <a href='vscode-notebook-cell:/home/cleverson/projetos/kaggle/KMS/eager_treininho.ipynb#X16sZmlsZQ%3D%3D?line=6'>7</a>\u001b[0m     validation_data \u001b[39m=\u001b[39;49m val_data,\n\u001b[1;32m      <a href='vscode-notebook-cell:/home/cleverson/projetos/kaggle/KMS/eager_treininho.ipynb#X16sZmlsZQ%3D%3D?line=7'>8</a>\u001b[0m     validation_steps\u001b[39m=\u001b[39;49m\u001b[39m20\u001b[39;49m,\n\u001b[1;32m      <a href='vscode-notebook-cell:/home/cleverson/projetos/kaggle/KMS/eager_treininho.ipynb#X16sZmlsZQ%3D%3D?line=8'>9</a>\u001b[0m     verbose\u001b[39m=\u001b[39;49m \u001b[39m1\u001b[39;49m,\n\u001b[1;32m     <a href='vscode-notebook-cell:/home/cleverson/projetos/kaggle/KMS/eager_treininho.ipynb#X16sZmlsZQ%3D%3D?line=9'>10</a>\u001b[0m     callbacks \u001b[39m=\u001b[39;49m [\n\u001b[1;32m     <a href='vscode-notebook-cell:/home/cleverson/projetos/kaggle/KMS/eager_treininho.ipynb#X16sZmlsZQ%3D%3D?line=10'>11</a>\u001b[0m         callbacks\u001b[39m.\u001b[39;49mEarlyStopping(monitor\u001b[39m=\u001b[39;49m\u001b[39m\"\u001b[39;49m\u001b[39mval_loss\u001b[39;49m\u001b[39m\"\u001b[39;49m, patience\u001b[39m=\u001b[39;49m\u001b[39m2\u001b[39;49m),\n\u001b[1;32m     <a href='vscode-notebook-cell:/home/cleverson/projetos/kaggle/KMS/eager_treininho.ipynb#X16sZmlsZQ%3D%3D?line=11'>12</a>\u001b[0m         callbacks\u001b[39m.\u001b[39;49mModelCheckpoint(MODEL_NAME, save_best_only \u001b[39m=\u001b[39;49m \u001b[39mTrue\u001b[39;49;00m)\n\u001b[1;32m     <a href='vscode-notebook-cell:/home/cleverson/projetos/kaggle/KMS/eager_treininho.ipynb#X16sZmlsZQ%3D%3D?line=12'>13</a>\u001b[0m     ]\n\u001b[1;32m     <a href='vscode-notebook-cell:/home/cleverson/projetos/kaggle/KMS/eager_treininho.ipynb#X16sZmlsZQ%3D%3D?line=13'>14</a>\u001b[0m )\n",
      "File \u001b[0;32m~/projetos/.kaggle/lib/python3.11/site-packages/keras/src/utils/traceback_utils.py:70\u001b[0m, in \u001b[0;36mfilter_traceback.<locals>.error_handler\u001b[0;34m(*args, **kwargs)\u001b[0m\n\u001b[1;32m     67\u001b[0m     filtered_tb \u001b[39m=\u001b[39m _process_traceback_frames(e\u001b[39m.\u001b[39m__traceback__)\n\u001b[1;32m     68\u001b[0m     \u001b[39m# To get the full stack trace, call:\u001b[39;00m\n\u001b[1;32m     69\u001b[0m     \u001b[39m# `tf.debugging.disable_traceback_filtering()`\u001b[39;00m\n\u001b[0;32m---> 70\u001b[0m     \u001b[39mraise\u001b[39;00m e\u001b[39m.\u001b[39mwith_traceback(filtered_tb) \u001b[39mfrom\u001b[39;00m \u001b[39mNone\u001b[39;00m\n\u001b[1;32m     71\u001b[0m \u001b[39mfinally\u001b[39;00m:\n\u001b[1;32m     72\u001b[0m     \u001b[39mdel\u001b[39;00m filtered_tb\n",
      "File \u001b[0;32m~/projetos/.kaggle/lib/python3.11/site-packages/tensorflow/python/eager/execute.py:53\u001b[0m, in \u001b[0;36mquick_execute\u001b[0;34m(op_name, num_outputs, inputs, attrs, ctx, name)\u001b[0m\n\u001b[1;32m     51\u001b[0m \u001b[39mtry\u001b[39;00m:\n\u001b[1;32m     52\u001b[0m   ctx\u001b[39m.\u001b[39mensure_initialized()\n\u001b[0;32m---> 53\u001b[0m   tensors \u001b[39m=\u001b[39m pywrap_tfe\u001b[39m.\u001b[39mTFE_Py_Execute(ctx\u001b[39m.\u001b[39m_handle, device_name, op_name,\n\u001b[1;32m     54\u001b[0m                                       inputs, attrs, num_outputs)\n\u001b[1;32m     55\u001b[0m \u001b[39mexcept\u001b[39;00m core\u001b[39m.\u001b[39m_NotOkStatusException \u001b[39mas\u001b[39;00m e:\n\u001b[1;32m     56\u001b[0m   \u001b[39mif\u001b[39;00m name \u001b[39mis\u001b[39;00m \u001b[39mnot\u001b[39;00m \u001b[39mNone\u001b[39;00m:\n",
      "\u001b[0;31mResourceExhaustedError\u001b[0m: Graph execution error:\n\nDetected at node gradient_tape/sequential_4/max_pooling2d_9/MaxPool/MaxPoolGrad defined at (most recent call last):\n  File \"<frozen runpy>\", line 198, in _run_module_as_main\n\n  File \"<frozen runpy>\", line 88, in _run_code\n\n  File \"/home/cleverson/projetos/.kaggle/lib/python3.11/site-packages/ipykernel_launcher.py\", line 18, in <module>\n\n  File \"/home/cleverson/projetos/.kaggle/lib/python3.11/site-packages/traitlets/config/application.py\", line 1075, in launch_instance\n\n  File \"/home/cleverson/projetos/.kaggle/lib/python3.11/site-packages/ipykernel/kernelapp.py\", line 739, in start\n\n  File \"/home/cleverson/projetos/.kaggle/lib/python3.11/site-packages/tornado/platform/asyncio.py\", line 205, in start\n\n  File \"/usr/lib/python3.11/asyncio/base_events.py\", line 607, in run_forever\n\n  File \"/usr/lib/python3.11/asyncio/base_events.py\", line 1922, in _run_once\n\n  File \"/usr/lib/python3.11/asyncio/events.py\", line 80, in _run\n\n  File \"/home/cleverson/projetos/.kaggle/lib/python3.11/site-packages/ipykernel/kernelbase.py\", line 545, in dispatch_queue\n\n  File \"/home/cleverson/projetos/.kaggle/lib/python3.11/site-packages/ipykernel/kernelbase.py\", line 534, in process_one\n\n  File \"/home/cleverson/projetos/.kaggle/lib/python3.11/site-packages/ipykernel/kernelbase.py\", line 437, in dispatch_shell\n\n  File \"/home/cleverson/projetos/.kaggle/lib/python3.11/site-packages/ipykernel/ipkernel.py\", line 359, in execute_request\n\n  File \"/home/cleverson/projetos/.kaggle/lib/python3.11/site-packages/ipykernel/kernelbase.py\", line 778, in execute_request\n\n  File \"/home/cleverson/projetos/.kaggle/lib/python3.11/site-packages/ipykernel/ipkernel.py\", line 446, in do_execute\n\n  File \"/home/cleverson/projetos/.kaggle/lib/python3.11/site-packages/ipykernel/zmqshell.py\", line 549, in run_cell\n\n  File \"/home/cleverson/projetos/.kaggle/lib/python3.11/site-packages/IPython/core/interactiveshell.py\", line 3075, in run_cell\n\n  File \"/home/cleverson/projetos/.kaggle/lib/python3.11/site-packages/IPython/core/interactiveshell.py\", line 3130, in _run_cell\n\n  File \"/home/cleverson/projetos/.kaggle/lib/python3.11/site-packages/IPython/core/async_helpers.py\", line 129, in _pseudo_sync_runner\n\n  File \"/home/cleverson/projetos/.kaggle/lib/python3.11/site-packages/IPython/core/interactiveshell.py\", line 3334, in run_cell_async\n\n  File \"/home/cleverson/projetos/.kaggle/lib/python3.11/site-packages/IPython/core/interactiveshell.py\", line 3517, in run_ast_nodes\n\n  File \"/home/cleverson/projetos/.kaggle/lib/python3.11/site-packages/IPython/core/interactiveshell.py\", line 3577, in run_code\n\n  File \"/tmp/ipykernel_12474/2663133363.py\", line 1, in <module>\n\n  File \"/home/cleverson/projetos/.kaggle/lib/python3.11/site-packages/keras/src/utils/traceback_utils.py\", line 65, in error_handler\n\n  File \"/home/cleverson/projetos/.kaggle/lib/python3.11/site-packages/keras/src/engine/training.py\", line 1807, in fit\n\n  File \"/home/cleverson/projetos/.kaggle/lib/python3.11/site-packages/keras/src/engine/training.py\", line 1401, in train_function\n\n  File \"/home/cleverson/projetos/.kaggle/lib/python3.11/site-packages/keras/src/engine/training.py\", line 1384, in step_function\n\n  File \"/home/cleverson/projetos/.kaggle/lib/python3.11/site-packages/keras/src/engine/training.py\", line 1373, in run_step\n\n  File \"/home/cleverson/projetos/.kaggle/lib/python3.11/site-packages/keras/src/engine/training.py\", line 1154, in train_step\n\n  File \"/home/cleverson/projetos/.kaggle/lib/python3.11/site-packages/keras/src/optimizers/legacy/optimizer_v2.py\", line 598, in minimize\n\n  File \"/home/cleverson/projetos/.kaggle/lib/python3.11/site-packages/keras/src/optimizers/legacy/optimizer_v2.py\", line 656, in _compute_gradients\n\n  File \"/home/cleverson/projetos/.kaggle/lib/python3.11/site-packages/keras/src/optimizers/legacy/optimizer_v2.py\", line 532, in _get_gradients\n\nOOM when allocating tensor with shape[4983,16,19,199] and type float on /job:localhost/replica:0/task:0/device:GPU:0 by allocator GPU_0_bfc\n\t [[{{node gradient_tape/sequential_4/max_pooling2d_9/MaxPool/MaxPoolGrad}}]]\nHint: If you want to see a list of allocated tensors when OOM happens, add report_tensor_allocations_upon_oom to RunOptions for current allocation info. This isn't available when running in Eager mode.\n [Op:__inference_train_function_2201]"
     ]
    }
   ],
   "source": [
    "\n",
    "history = model.fit(\n",
    "    train_data,\n",
    "    epochs=10,\n",
    "    # batch_size=1,\n",
    "    steps_per_epoch=20,\n",
    "    # shuffle=True,\n",
    "    validation_data = val_data,\n",
    "    validation_steps=20,\n",
    "    verbose= 1,\n",
    "    callbacks = [\n",
    "        callbacks.EarlyStopping(monitor=\"val_loss\", patience=2),\n",
    "        callbacks.ModelCheckpoint(MODEL_NAME, save_best_only = True)\n",
    "    ]\n",
    ")"
   ]
  },
  {
   "cell_type": "code",
   "execution_count": 15,
   "metadata": {},
   "outputs": [
    {
     "data": {
      "text/plain": [
       "[<matplotlib.lines.Line2D at 0x7ea49451bfd0>]"
      ]
     },
     "execution_count": 15,
     "metadata": {},
     "output_type": "execute_result"
    },
    {
     "data": {
      "image/png": "[encoded data removed]",
      "text/plain": [
       "<Figure size 640x480 with 1 Axes>"
      ]
     },
     "metadata": {},
     "output_type": "display_data"
    }
   ],
   "source": [
    "plt.plot(history.history['loss'])\n",
    "plt.plot(history.history['val_loss'], color='red')"
   ]
  },
  {
   "cell_type": "code",
   "execution_count": 16,
   "metadata": {},
   "outputs": [],
   "source": [
    "i = get_scored_val_data()"
   ]
  },
  {
   "cell_type": "code",
   "execution_count": 17,
   "metadata": {},
   "outputs": [],
   "source": [
    "x = next(i)"
   ]
  },
  {
   "cell_type": "code",
   "execution_count": 18,
   "metadata": {},
   "outputs": [
    {
     "data": {
      "text/plain": [
       "[0.0, 0.0, 0.5384615384615384, 0.0, 0.1538461538461538, 0.3076923076923077]"
      ]
     },
     "execution_count": 18,
     "metadata": {},
     "output_type": "execute_result"
    }
   ],
   "source": [
    "x[1][0]"
   ]
  },
  {
   "cell_type": "code",
   "execution_count": 19,
   "metadata": {},
   "outputs": [
    {
     "name": "stdout",
     "output_type": "stream",
     "text": [
      "6/6 [==============================] - 1s 46ms/step\n"
     ]
    },
    {
     "data": {
      "text/plain": [
       "array([[0.1557536 , 0.16032799, 0.12230641, 0.09464989, 0.14423737,\n",
       "        0.3227247 ],\n",
       "       [0.1557536 , 0.16032799, 0.12230641, 0.09464989, 0.14423737,\n",
       "        0.3227247 ],\n",
       "       [0.1557536 , 0.16032799, 0.12230641, 0.09464989, 0.14423737,\n",
       "        0.3227247 ],\n",
       "       ...,\n",
       "       [0.1557536 , 0.16032799, 0.12230641, 0.09464989, 0.14423737,\n",
       "        0.3227247 ],\n",
       "       [0.1557536 , 0.16032799, 0.12230641, 0.09464989, 0.14423737,\n",
       "        0.3227247 ],\n",
       "       [0.1557536 , 0.16032799, 0.12230641, 0.09464989, 0.14423737,\n",
       "        0.3227247 ]], dtype=float32)"
      ]
     },
     "execution_count": 19,
     "metadata": {},
     "output_type": "execute_result"
    }
   ],
   "source": [
    "model.predict( x[0] )"
   ]
  },
  {
   "cell_type": "code",
   "execution_count": 20,
   "metadata": {},
   "outputs": [
    {
     "data": {
      "text/plain": [
       "[1.0, 0.0, 0.0, 0.0, 0.0, 0.0]"
      ]
     },
     "execution_count": 20,
     "metadata": {},
     "output_type": "execute_result"
    }
   ],
   "source": [
    "x = next(i)\n",
    "x[1][0]"
   ]
  },
  {
   "cell_type": "code",
   "execution_count": 21,
   "metadata": {},
   "outputs": [
    {
     "name": "stdout",
     "output_type": "stream",
     "text": [
      "9/9 [==============================] - 0s 29ms/step\n"
     ]
    },
    {
     "data": {
      "text/plain": [
       "array([[0.1557536 , 0.16032799, 0.12230641, 0.09464989, 0.14423737,\n",
       "        0.3227247 ],\n",
       "       [0.1557536 , 0.16032799, 0.12230641, 0.09464989, 0.14423737,\n",
       "        0.3227247 ],\n",
       "       [0.1557536 , 0.16032799, 0.12230641, 0.09464989, 0.14423737,\n",
       "        0.3227247 ],\n",
       "       ...,\n",
       "       [0.1557536 , 0.16032799, 0.12230641, 0.09464989, 0.14423737,\n",
       "        0.3227247 ],\n",
       "       [0.1557536 , 0.16032799, 0.12230641, 0.09464989, 0.14423737,\n",
       "        0.3227247 ],\n",
       "       [0.1557536 , 0.16032799, 0.12230641, 0.09464989, 0.14423737,\n",
       "        0.3227247 ]], dtype=float32)"
      ]
     },
     "execution_count": 21,
     "metadata": {},
     "output_type": "execute_result"
    }
   ],
   "source": [
    "model.predict( x[0] )"
   ]
  },
  {
   "cell_type": "code",
   "execution_count": null,
   "metadata": {},
   "outputs": [],
   "source": []
  },
  {
   "cell_type": "code",
   "execution_count": null,
   "metadata": {},
   "outputs": [],
   "source": []
  }
 ],
 "metadata": {
  "kernelspec": {
   "display_name": ".kaggle",
   "language": "python",
   "name": "python3"
  },
  "language_info": {
   "codemirror_mode": {
    "name": "ipython",
    "version": 3
   },
   "file_extension": ".py",
   "mimetype": "text/x-python",
   "name": "python",
   "nbconvert_exporter": "python",
   "pygments_lexer": "ipython3",
   "version": "3.11.6"
  }
 },
 "nbformat": 4,
 "nbformat_minor": 2
}
