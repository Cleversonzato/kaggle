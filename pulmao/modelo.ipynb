{
  "cells": [
    {
      "metadata": {
        "trusted": true,
        "_uuid": "e84354e5b672d5bbf666eb70dee27958ca480ba5"
      },
      "cell_type": "code",
      "source": "import pydicom\nimport pandas as pd\nfrom matplotlib import pyplot\nimport cv2 \nimport random\nimport tensorflow as tf\nimport numpy as np\nfrom tensorflow import keras\nfrom sklearn.model_selection import train_test_split\n",
      "execution_count": null,
      "outputs": []
    },
    {
      "metadata": {
        "trusted": true,
        "_uuid": "5183e259de169c1a316b3da42711c0a89c769a8b"
      },
      "cell_type": "code",
      "source": "def junta(lista):\n    listaJunto=[]\n    locs=[]\n    nome=''\n    for ind, linha in lista.iterrows():\n        if nome == linha['patientId']:\n            listaJunto[-1][2].append({'x':linha['x'],'y':linha['y'], 'width':linha['width'], 'height':linha['height']})    \n            \n        else:\n            nome = linha['patientId']\n            target = linha['Target']\n            if target == 1:\n                locs.append({'x':linha['x'],'y':linha['y'], 'width':linha['width'], 'height':linha['height']}) \n            \n            listaJunto.append([nome, target, locs])\n            locs=[]\n    \n    return listaJunto\n\n    ",
      "execution_count": null,
      "outputs": []
    },
    {
      "metadata": {
        "trusted": true,
        "_uuid": "25e1a78f3a1afcbd15a2d21014d06a5fae024bf3"
      },
      "cell_type": "code",
      "source": "trainImg = []\nimg =[]\n\ntamanho =  (256,256)\nkernel = (16,16) #x,y\nmeioKernel = (kernel[0]/2,kernel[1]/2)\nfactorX = 1024/tamanho[0]\nfactorY = 1024/tamanho[1]\n\ntreino = pd.read_csv('../input/rsna-pneumonia-detection-challenge/stage_1_train_labels.csv')\ntreino = junta(treino)\n\n#image proc\ndef imProc(imag):    \n    imag= cv2.convertScaleAbs(imag, alpha=3.5, beta=-500)\n    imag = cv2.resize(imag, tamanho)\n    imag = imag/255.0\n    return(imag)    ",
      "execution_count": null,
      "outputs": []
    },
    {
      "metadata": {
        "trusted": true,
        "_uuid": "daef0b5a0c45cfb98a90492dd72b508579ac080a"
      },
      "cell_type": "markdown",
      "source": "for i in range(0, 10000):\n    DICOM = pydicom.read_file('../input/rsna-pneumonia-detection-challenge/stage_1_train_images/{}.dcm'.format(treino[i][0]))\n    img.append(DICOM)  "
    },
    {
      "metadata": {
        "trusted": true,
        "_uuid": "de99c60f82b9a376329945882c286eaf91d01164"
      },
      "cell_type": "markdown",
      "source": "graf, loc= pyplot.subplots(2,2, figsize=(15,15))\n\n#temp = cv2.rectangle(temp, (31,59),(204,168),1 )\nloc[0,0].imshow(img[4].pixel_array)\nloc[0,0].set_title(treino[4][2])\n\nloc[0,1].imshow(trainArray[148153])\nloc[0,1].set_title(targetArray[148153])\n\ntemp = trainProc[4].copy()\n#temp = cv2.rectangle(temp, (145,81),(169 ,119),1 )\ntemp = cv2.rectangle(temp, (81, 145),(119, 169),1 )\n\nloc[1,0].imshow(temp)\nloc[1,0].set_title(treino[7][1])\n\ntemp = img[4].pixel_array.copy()\nx= int(treino[4][2][0]['x'])\ny=int(treino[4][2][0]['y'])\ny2= int(treino[4][2][0]['y']+treino[4][2][0]['height'])\nx2= int(treino[4][2][0]['x']+treino[4][2][0]['width'] )    \n\ntemp = cv2.rectangle(temp, (x,y) ,(x2, y2), 255 )\nloc[1,1].imshow(temp)\nprint(x,y,x2,y2)\n"
    },
    {
      "metadata": {
        "trusted": true,
        "_uuid": "bebcab9e72693f588c63e6ab7bc134ddd3f71a44"
      },
      "cell_type": "code",
      "source": "checkpoint = tf.keras.callbacks.ModelCheckpoint('ml4_cp.hdf5', verbose=1, save_best_only=True)\nepocas = 1\n#\n#model = keras.Sequential([\n#    keras.layers.Conv2D(6, kernel_size=(3,3), strides=(1, 1), activation='relu', input_shape=(kernel[0], kernel[1],1)),\n#    keras.layers.MaxPooling2D(pool_size=(3, 3), strides=(2, 2) ),\n#   # keras.layers.Conv2D(13, kernel_size=(3,3), strides=(1, 1), activation='relu', input_shape=(20,14,1)),\n#   # keras.layers.MaxPooling2D(pool_size=(3, 3), strides=(2, 2) ),\n#    keras.layers.Flatten(),\n# #   keras.layers.Dense(140, activation=tf.sigmoid),\n#    keras.layers.Dense(70, activation=tf.sigmoid),\n#    keras.layers.Dense(2, activation=tf.nn.softmax)\n#])\n\n#when ready#\nmodel = keras.models.load_model('../input/pulm-o-ml-4/ml4.h5')\nmodel.load_weights('../input/pulm-o-ml-4/ml4_w.h5')\n#model.load_weights('../input/pulm-o-ml-4/ml4_cp.hdf5')\n####\n\nmodel.compile(optimizer= keras.optimizers.SGD(lr=0.01, momentum=0, decay=0, nesterov=True),\n              loss='categorical_crossentropy',\n              metrics=['categorical_accuracy'])\n",
      "execution_count": null,
      "outputs": []
    },
    {
      "metadata": {
        "_uuid": "062a1b5c0456a6a1c7f2e96988d9310fed5506fb"
      },
      "cell_type": "markdown",
      "source": "Repeating to all the dataset"
    },
    {
      "metadata": {
        "trusted": true,
        "_uuid": "863348795ae0e8c5597cbac49934d5dd56ef62f3"
      },
      "cell_type": "code",
      "source": "batch = 5\nini =0\nfim = 55\nepocas = 1\nlimite = 60\nwhile(fim < limite):\n    ini=fim\n    fim = fim + batch\n    if(fim > limite):\n        fim = limite\n    print(ini, fim)\n\n    img =[]\n    treinoInfo=[]\n    \n    for i in range(ini, fim):\n        DICOM = pydicom.read_file('../input/rsna-pneumonia-detection-challenge/stage_1_train_images/{}.dcm'.format(treino[i][0]))\n        img.append(DICOM) \n        treinoInfo.append(treino[i])\n    \n    #processando as imagens\n    trainProc=[]  \n    for i in range(0, batch):\n        temp = img[i].pixel_array.copy()\n        temp= imProc(temp)\n        trainProc.append(temp)\n\n    #extraindo os valores positivos e negativos\n    trainArray=[]\n    targetArray=[]\n    for i in range(0, batch):\n    #l=linha  c=coluna; p = casos positivos\n        if treinoInfo[i][1] == 1:        \n            for l in range(0, tamanho[0]-kernel[0]):\n                for c in range(0, tamanho[1]-kernel[1]):\n                #adicionando o elemento\n                    alt = l+kernel[0]\n                    larg= c+kernel[1]\n                    trainArray.append(trainProc[i][l:alt, c:larg])\n                \n                #verificando se é positivo ou não \n                    positivo =False\n                    for coord in treinoInfo[i][2]:                                       \n                        px= int(coord['x']/factorX)\n                        py= int(coord['y']/factorY)\n                        px2= int(px+(coord['width']/factorX))\n                        py2 = int(py+(coord['height']/factorY)) \n                        lMeio = int(l+meioKernel[0])\n                        cMeio = int(c+meioKernel[1])\n                        if ((py < lMeio ) and (lMeio <  py2)):\n                            if((px < cMeio) and (cMeio <  px2)):\n                                positivo = True                 \n                            \n                    if positivo == True:\n                        targetArray.append(1)\n                    else:\n                        targetArray.append(0)\n\n        else:\n            for l in range(0, tamanho[0]-kernel[0]):\n                for c in range(0, tamanho[1]-kernel[1]):\n                    alt = l+kernel[0]\n                    larg= c+kernel[1]         \n                    trainArray.append(trainProc[i][l:alt , c:larg])\n                    targetArray.append(0)\n                \n    img = None    \n    npImg = np.array(trainArray)\n    trainArray = None\n\n    npTarget =  np.array(targetArray)\n    targetArray = None\n\n    trainIndex, testIndex = train_test_split(range(0, len(npTarget)) , test_size= 0.3) \n    #--\n    train= npImg[trainIndex].reshape([-1, kernel[0], kernel[1],1])\n    test = npImg[testIndex].reshape([-1,kernel[0], kernel[1],1])\n    #--\n    train = tf.convert_to_tensor(train)\n    trainTarget = tf.one_hot(npTarget[trainIndex],2)\n    test = tf.convert_to_tensor(test)\n    testTarget = tf.one_hot(npTarget[testIndex],2)\n    model.fit(train, trainTarget, epochs=epocas, steps_per_epoch=int(len(trainIndex)/100), \n          validation_data=(test, testTarget), validation_steps=int(len(testIndex)/100),\n          callbacks=[checkpoint])",
      "execution_count": null,
      "outputs": []
    },
    {
      "metadata": {
        "trusted": true,
        "_uuid": "c3ad30f625b1bfeaf961ab542dbeabc78ad4e99d"
      },
      "cell_type": "code",
      "source": "print(fim)",
      "execution_count": null,
      "outputs": []
    },
    {
      "metadata": {
        "trusted": true,
        "_uuid": "66cd4a295673cece0ee6a6ea34de61e7af73cfa1"
      },
      "cell_type": "code",
      "source": "path='ml4.h5'\nmodel.save_weights('ml4_w.h5')\nmodel.save(path)\n",
      "execution_count": null,
      "outputs": []
    }
  ],
  "metadata": {
    "kernelspec": {
      "display_name": "Python 3",
      "language": "python",
      "name": "python3"
    },
    "language_info": {
      "name": "python",
      "version": "3.6.6",
      "mimetype": "text/x-python",
      "codemirror_mode": {
        "name": "ipython",
        "version": 3
      },
      "pygments_lexer": "ipython3",
      "nbconvert_exporter": "python",
      "file_extension": ".py"
    }
  },
  "nbformat": 4,
  "nbformat_minor": 1
}